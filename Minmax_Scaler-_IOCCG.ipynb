{
  "cells": [
    {
      "cell_type": "code",
      "execution_count": null,
      "metadata": {
        "colab": {
          "base_uri": "https://localhost:8080/"
        },
        "id": "3sh8WKpMT_Pn",
        "outputId": "4d2f7d63-3bdc-480a-c3c1-39580b0ad63d"
      },
      "outputs": [
        {
          "output_type": "stream",
          "name": "stdout",
          "text": [
            "Mounted at /content/drive\n"
          ]
        }
      ],
      "source": [
        "from google.colab import drive\n",
        "drive.mount('/content/drive')"
      ]
    },
    {
      "cell_type": "code",
      "execution_count": null,
      "metadata": {
        "id": "l1fnAts7UGX_"
      },
      "outputs": [],
      "source": [
        "#Imports\n",
        "import warnings\n",
        "warnings.filterwarnings(\"ignore\")\n",
        "import pandas as pd\n",
        "import numpy as np\n",
        "import matplotlib.pyplot as plt\n",
        "import seaborn as sns\n",
        "from sklearn import preprocessing\n",
        "from sklearn.linear_model import LinearRegression\n",
        "from sklearn.model_selection import train_test_split\n",
        "from sklearn.preprocessing import MinMaxScaler\n",
        "from math import sqrt\n",
        "from sklearn.metrics import mean_squared_error\n",
        "from sklearn.model_selection import GridSearchCV\n",
        "from sklearn.model_selection import KFold\n",
        "from sklearn.metrics import mean_absolute_error\n",
        "from sklearn.metrics import mean_absolute_percentage_error"
      ]
    },
    {
      "cell_type": "code",
      "execution_count": null,
      "metadata": {
        "id": "TKr2vaNxXiMP"
      },
      "outputs": [],
      "source": [
        "#Read dataset to pandas dataframe\n",
        "dataset = pd.read_excel('/content/drive/MyDrive/MTP_FINAL/Dataset-3.xlsx', sheet_name='IOCCG_simulated')"
      ]
    },
    {
      "cell_type": "code",
      "execution_count": null,
      "metadata": {
        "id": "oszLloHsXkwi"
      },
      "outputs": [],
      "source": [
        "#breaking down the dataset into x feature and y target\n",
        "dataset_y=dataset['Chlorophyll']\n",
        "dataset_x=dataset.drop(['Chlorophyll'],axis=1)"
      ]
    },
    {
      "cell_type": "code",
      "execution_count": null,
      "metadata": {
        "id": "bFbxskAhW3x4"
      },
      "outputs": [],
      "source": [
        "scaler = MinMaxScaler()\n",
        "scaled_x = scaler.fit_transform(dataset_x)"
      ]
    },
    {
      "cell_type": "code",
      "execution_count": null,
      "metadata": {
        "id": "dnhKojtXX_hk"
      },
      "outputs": [],
      "source": [
        "#splitting the dataset\n",
        "y = dataset_y\n",
        "X_train, X_test, y_train, y_test = train_test_split(scaled_x, y, test_size=0.3, random_state=42)"
      ]
    },
    {
      "cell_type": "markdown",
      "metadata": {
        "id": "TNQ5CgxOY4KG"
      },
      "source": [
        "                                **Linear** **Regression**"
      ]
    },
    {
      "cell_type": "code",
      "execution_count": null,
      "metadata": {
        "colab": {
          "base_uri": "https://localhost:8080/"
        },
        "id": "IJAm5GMPY1RK",
        "outputId": "97903d17-96a7-4a21-f894-580cff3d6c24"
      },
      "outputs": [
        {
          "output_type": "stream",
          "name": "stdout",
          "text": [
            "coefficient of determination: 0.9749539065766213\n",
            "intercept: 1.5883271177577312\n",
            "coefficients: [-8.59046028e+00 -7.75261121e+00  5.95970176e+01 -3.33695426e+01\n",
            " -6.17266453e+01  4.57736050e+01  5.60363250e+00  3.39063803e+01\n",
            "  3.00125383e+01 -1.27735524e+02  1.12346945e+02 -8.60618886e+01\n",
            " -1.49565015e+02  2.94993833e+02 -2.45089619e+02  2.25485689e+02\n",
            "  1.74522626e+02 -4.08572423e+02  1.24740701e+02  2.01254435e+02\n",
            " -2.87027083e+02 -7.76442224e+01  9.95227873e+01 -7.66208836e+01\n",
            " -3.22741727e+01  1.34879716e+02 -3.38595110e+01 -5.98797474e+01\n",
            " -2.78322306e+02  4.11149257e+02  5.78222217e+02 -3.80318138e+03\n",
            "  7.68783394e+03  5.69377152e+03 -1.20756686e+04 -1.67448789e+04\n",
            " -1.08417096e+04  4.49088971e+04  2.61540167e+04 -5.89472347e+04\n",
            "  1.74300045e+04]\n"
          ]
        }
      ],
      "source": [
        "from sklearn.linear_model import LinearRegression\n",
        "model_lr = LinearRegression().fit(X_train, y_train)\n",
        "r_sq = model_lr.score(X_train, y_train)\n",
        "print(f\"coefficient of determination: {r_sq}\")\n",
        "print(f\"intercept: {model_lr.intercept_}\")\n",
        "print(f\"coefficients: {model_lr.coef_}\")\n",
        "y_predicted_lr = model_lr.predict(X_test)"
      ]
    },
    {
      "cell_type": "code",
      "execution_count": null,
      "metadata": {
        "colab": {
          "base_uri": "https://localhost:8080/"
        },
        "id": "C10g_wxCZB2o",
        "outputId": "0f582109-3b43-43c9-af5d-5071a19bcfe8"
      },
      "outputs": [
        {
          "output_type": "stream",
          "name": "stdout",
          "text": [
            "1.8839000944012931\n",
            "0.9596141946291962\n",
            "1.118532839365514\n",
            "2.2682886873549166\n"
          ]
        }
      ],
      "source": [
        "rms = sqrt(mean_squared_error(y_test, y_predicted_lr))\n",
        "print(rms)\n",
        "r_square = model_lr.score(X_test,y_test)\n",
        "print(r_square)\n",
        "mae = mean_absolute_error(y_test,y_predicted_lr)\n",
        "print(mae)\n",
        "mape = mean_absolute_percentage_error(y_test, y_predicted_lr)\n",
        "print(mape)"
      ]
    },
    {
      "cell_type": "markdown",
      "metadata": {
        "id": "MgJI-QSaZHr4"
      },
      "source": [
        "                                 **Gradient** **Booster** **Regressor**"
      ]
    },
    {
      "cell_type": "code",
      "execution_count": null,
      "metadata": {
        "id": "Dc3HHodmZFde"
      },
      "outputs": [],
      "source": [
        "from sklearn.ensemble import GradientBoostingRegressor\n",
        "model_gb = GradientBoostingRegressor().fit(X_train, y_train)\n",
        "y_predicted_gb = model_gb.predict(X_test)"
      ]
    },
    {
      "cell_type": "code",
      "execution_count": null,
      "metadata": {
        "colab": {
          "base_uri": "https://localhost:8080/"
        },
        "id": "ZeYRv4l5ZW2d",
        "outputId": "31e69885-cc15-405c-c0bd-bfc132bb042f"
      },
      "outputs": [
        {
          "output_type": "stream",
          "name": "stdout",
          "text": [
            "2.4219080152888774\n",
            "0.9332535301596381\n",
            "1.2665673623540163\n",
            "0.5285664761158505\n"
          ]
        }
      ],
      "source": [
        "rms = sqrt(mean_squared_error(y_test, y_predicted_gb))\n",
        "print(rms)\n",
        "r_square = model_gb.score(X_test,y_test)\n",
        "print(r_square)\n",
        "mae = mean_absolute_error(y_test,y_predicted_gb)\n",
        "print(mae)\n",
        "mape = mean_absolute_percentage_error(y_test, y_predicted_gb)\n",
        "print(mape)"
      ]
    },
    {
      "cell_type": "code",
      "execution_count": null,
      "metadata": {
        "colab": {
          "base_uri": "https://localhost:8080/"
        },
        "id": "NacLJHZSZmIF",
        "outputId": "1f1fa287-8ddc-40fe-eb38-d027398aa42d"
      },
      "outputs": [
        {
          "output_type": "execute_result",
          "data": {
            "text/plain": [
              "{'learning_rate': 0.01,\n",
              " 'max_depth': 4,\n",
              " 'n_estimators': 2000,\n",
              " 'random_state': 1,\n",
              " 'subsample': 0.5}"
            ]
          },
          "metadata": {},
          "execution_count": 11
        }
      ],
      "source": [
        "#Hyperparameter tuning\n",
        "GBR=GradientBoostingRegressor()\n",
        "search_grid={'n_estimators':[500,1000,2000],'learning_rate':[.001,0.01,.1],'max_depth':[1,2,4],'subsample':[.5,.75,1],'random_state':[1]}\n",
        "search=GridSearchCV(estimator=GBR,param_grid=search_grid,scoring='neg_mean_squared_error',n_jobs=1,cv=5)\n",
        "search.fit(X_train,y_train)\n",
        "search.best_params_"
      ]
    },
    {
      "cell_type": "code",
      "execution_count": null,
      "metadata": {
        "id": "QSlu3z7JZn4V"
      },
      "outputs": [],
      "source": [
        "GBR2 = GradientBoostingRegressor(n_estimators=2000,learning_rate=0.01,subsample=0.5,max_depth=4,random_state=1)\n",
        "model_gbhp = GBR2.fit(X_train, y_train)\n",
        "y_predicted_gbhp = model_gbhp.predict(X_test)"
      ]
    },
    {
      "cell_type": "code",
      "execution_count": null,
      "metadata": {
        "colab": {
          "base_uri": "https://localhost:8080/"
        },
        "id": "HvrwCHcaZsN8",
        "outputId": "381ada0f-87f4-42e2-fad3-b2d0604defcb"
      },
      "outputs": [
        {
          "output_type": "stream",
          "name": "stdout",
          "text": [
            "2.1424756800142326\n",
            "0.9477670188151436\n",
            "1.1974530368579857\n",
            "0.37943372896744865\n"
          ]
        }
      ],
      "source": [
        "rms = sqrt(mean_squared_error(y_test, y_predicted_gbhp))\n",
        "print(rms)\n",
        "r_square = model_gbhp.score(X_test,y_test)\n",
        "print(r_square)\n",
        "mae = mean_absolute_error(y_test,y_predicted_gbhp)\n",
        "print(mae)\n",
        "mape = mean_absolute_percentage_error(y_test, y_predicted_gbhp)\n",
        "print(mape)"
      ]
    },
    {
      "cell_type": "markdown",
      "metadata": {
        "id": "Q7bHi6irZaaS"
      },
      "source": [
        "                                  **PLS** **Regression**"
      ]
    },
    {
      "cell_type": "code",
      "execution_count": null,
      "metadata": {
        "id": "H46TSh8zZfjx"
      },
      "outputs": [],
      "source": [
        "from sklearn.cross_decomposition import PLSRegression\n",
        "model_plsr = PLSRegression(n_components=41, scale=True)\n",
        "model_plsr.fit(X_train, y_train)\n",
        "y_predicted_plsr = model_plsr.predict(X_test)"
      ]
    },
    {
      "cell_type": "code",
      "execution_count": null,
      "metadata": {
        "colab": {
          "base_uri": "https://localhost:8080/"
        },
        "id": "vb6z1HH-ZjTU",
        "outputId": "075c5a74-6bc9-43fe-8640-b4bae51c3347"
      },
      "outputs": [
        {
          "output_type": "stream",
          "name": "stdout",
          "text": [
            "1.8839000944020214\n",
            "0.9332535301596381\n",
            "1.1185328393661806\n",
            "2.2682886873631456\n"
          ]
        }
      ],
      "source": [
        "rms = sqrt(mean_squared_error(y_test, y_predicted_plsr))\n",
        "print(rms)\n",
        "r_square = model_gb.score(X_test,y_test)\n",
        "print(r_square)\n",
        "mae = mean_absolute_error(y_test,y_predicted_plsr)\n",
        "print(mae)\n",
        "mape = mean_absolute_percentage_error(y_test, y_predicted_plsr)\n",
        "print(mape)"
      ]
    },
    {
      "cell_type": "code",
      "execution_count": null,
      "metadata": {
        "id": "zVzxNkGid1cw"
      },
      "outputs": [],
      "source": [
        "#Hyperparameter Tuning\n",
        "r_square = []\n",
        "rms = [] \n",
        "mae = []\n",
        "mape = []#to store rmse values for different n_components\n",
        "for n_comp in range(1, 41):\n",
        "  model_plsrhp = PLSRegression(n_components=n_comp, scale=True)\n",
        "  model_plsrhp.fit(X_train, y_train)\n",
        "  y_predicted_plsrhp = model_plsrhp.predict(X_test)\n",
        "  rms_val = sqrt(mean_squared_error(y_test,y_predicted_plsrhp)) #calculate rmse\n",
        "  rms.append(rms_val) #store rmse values\n",
        "  r2 = model_plsrhp.score(X_test,y_test)\n",
        "  r_square.append(r2) #store r2 values\n",
        "  mae_1 = mean_absolute_error(y_test,y_predicted_gbhp)\n",
        "  mae.append(mae_1)\n",
        "  mape_1 = mean_absolute_percentage_error(y_test, y_predicted_gbhp)\n",
        "  mape.append(mape_1)"
      ]
    },
    {
      "cell_type": "code",
      "execution_count": null,
      "metadata": {
        "colab": {
          "base_uri": "https://localhost:8080/"
        },
        "id": "qcL7Rc6rd5S6",
        "outputId": "0d4510d0-9238-4ecc-a229-a266ad0a48f4"
      },
      "outputs": [
        {
          "output_type": "stream",
          "name": "stdout",
          "text": [
            "1.723763613541174\n",
            "0.9661881891841488\n",
            "1.1974530368579857\n",
            "0.37943372896744865\n"
          ]
        }
      ],
      "source": [
        "print(min(rms))\n",
        "print(max(r_square))\n",
        "print(min(mae))\n",
        "print(min(mape))"
      ]
    },
    {
      "cell_type": "markdown",
      "metadata": {
        "id": "H70EjRKtZnZJ"
      },
      "source": [
        "                                    **Random** **Forest**"
      ]
    },
    {
      "cell_type": "code",
      "execution_count": null,
      "metadata": {
        "id": "1qRjnrpFZ2qc"
      },
      "outputs": [],
      "source": [
        "from sklearn.ensemble import RandomForestRegressor\n",
        "model_rfr = RandomForestRegressor(n_estimators = 500)\n",
        "model_rfr.fit(X_train,y_train)\n",
        "y_predicted_rfr = model_rfr.predict(X_test) "
      ]
    },
    {
      "cell_type": "code",
      "execution_count": null,
      "metadata": {
        "colab": {
          "base_uri": "https://localhost:8080/"
        },
        "id": "_1XmJUTxZ5Xk",
        "outputId": "18eff093-efbd-4813-9fa3-abb8a313dd15"
      },
      "outputs": [
        {
          "output_type": "stream",
          "name": "stdout",
          "text": [
            "2.2903666935242777\n",
            "0.9332535301596381\n",
            "1.227072266666667\n",
            "0.28563880000000014\n"
          ]
        }
      ],
      "source": [
        "rms = sqrt(mean_squared_error(y_test, y_predicted_rfr))\n",
        "print(rms)\n",
        "r_square = model_gb.score(X_test,y_test)\n",
        "print(r_square)\n",
        "mae = mean_absolute_error(y_test,y_predicted_rfr)\n",
        "print(mae)\n",
        "mape = mean_absolute_percentage_error(y_test, y_predicted_rfr)\n",
        "print(mape)"
      ]
    },
    {
      "cell_type": "code",
      "execution_count": null,
      "metadata": {
        "id": "clqxXZCbeCSl"
      },
      "outputs": [],
      "source": [
        "#Hyperparameter Tuning\n",
        "from sklearn.model_selection import GridSearchCV\n",
        "# Create the parameter grid based on the results of random search \n",
        "param_grid = {'bootstrap': [True],'max_depth': [80, 90, 100, 110],'max_features': [2, 3],'min_samples_leaf': [3, 4, 5],'min_samples_split': [8, 10, 12],'n_estimators': [100, 200, 300, 1000]}\n",
        "# Create a based model\n",
        "rf = RandomForestRegressor()\n",
        "# Instantiate the grid search model\n",
        "grid_search = GridSearchCV(estimator = rf, param_grid = param_grid, cv = 3, n_jobs = -1, verbose = 2)"
      ]
    },
    {
      "cell_type": "code",
      "execution_count": null,
      "metadata": {
        "id": "Yo1gd5XVeHCg",
        "colab": {
          "base_uri": "https://localhost:8080/"
        },
        "outputId": "cd875b77-eb45-41e4-a037-21e0abb4bd13"
      },
      "outputs": [
        {
          "output_type": "stream",
          "name": "stdout",
          "text": [
            "Fitting 3 folds for each of 288 candidates, totalling 864 fits\n",
            "{'bootstrap': True, 'max_depth': 100, 'max_features': 2, 'min_samples_leaf': 3, 'min_samples_split': 8, 'n_estimators': 100}\n"
          ]
        }
      ],
      "source": [
        "# Fit the grid search to the data\n",
        "grid_search.fit(X_train, y_train)\n",
        "print(grid_search.best_params_)\n",
        "model_rfrhp = grid_search.best_estimator_\n",
        "model_rfrhp.fit(X_train,y_train)\n",
        "y_predicted_rfrhp = model_rfrhp.predict(X_test) "
      ]
    },
    {
      "cell_type": "code",
      "execution_count": null,
      "metadata": {
        "id": "9GlD8XdveMM8",
        "colab": {
          "base_uri": "https://localhost:8080/"
        },
        "outputId": "d48897b6-2587-4775-d881-974be8685927"
      },
      "outputs": [
        {
          "output_type": "stream",
          "name": "stdout",
          "text": [
            "2.613370572287376\n",
            "0.9222831830119085\n",
            "1.4160747937322629\n",
            "0.41305898079299247\n"
          ]
        }
      ],
      "source": [
        "rms = sqrt(mean_squared_error(y_test, y_predicted_rfrhp))\n",
        "print(rms)\n",
        "r_square = model_rfrhp.score(X_test,y_test)\n",
        "print(r_square)\n",
        "mae = mean_absolute_error(y_test,y_predicted_rfrhp)\n",
        "print(mae)\n",
        "mape = mean_absolute_percentage_error(y_test, y_predicted_rfrhp)\n",
        "print(mape)"
      ]
    },
    {
      "cell_type": "markdown",
      "metadata": {
        "id": "lGrZVBCEZ77a"
      },
      "source": [
        "                                   **KNN**"
      ]
    },
    {
      "cell_type": "code",
      "execution_count": null,
      "metadata": {
        "id": "PsLyvYw5aBBH"
      },
      "outputs": [],
      "source": [
        "from sklearn import neighbors\n",
        "r_square = []\n",
        "rms = [] \n",
        "mae = []\n",
        "mape = [] #to store rmse values for different k\n",
        "for K in range(20):\n",
        "    K = K+1\n",
        "    model_knn = neighbors.KNeighborsRegressor(n_neighbors = K)\n",
        "    model_knn.fit(X_train, y_train)  #fit the model\n",
        "    y_predicted_knn = model_knn.predict(X_test) #make prediction on test set\n",
        "    rms_val = sqrt(mean_squared_error(y_test,y_predicted_knn)) #calculate rmse\n",
        "    rms.append(rms_val) #store rmse values\n",
        "    r2 = model_knn.score(X_test,y_test)\n",
        "    r_square.append(r2) #store r2 values\n",
        "    mae_1 = mean_absolute_error(y_test,y_predicted_knn)\n",
        "    mae.append(mae_1)\n",
        "    mape_1 = mean_absolute_percentage_error(y_test, y_predicted_knn)\n",
        "    mape.append(mape_1)"
      ]
    },
    {
      "cell_type": "code",
      "execution_count": null,
      "metadata": {
        "id": "4qbKUhXlaEgE",
        "colab": {
          "base_uri": "https://localhost:8080/"
        },
        "outputId": "36358ebb-3a38-47b1-dff4-ad3119dc02a1"
      },
      "outputs": [
        {
          "output_type": "stream",
          "name": "stdout",
          "text": [
            "2.3606464990195657\n",
            "0.9365874924475097\n",
            "1.2734400000000001\n",
            "0.3011058201058201\n"
          ]
        }
      ],
      "source": [
        "print(min(rms))\n",
        "print(max(r_square))\n",
        "print(min(mae))\n",
        "print(min(mape))"
      ]
    },
    {
      "cell_type": "code",
      "execution_count": null,
      "metadata": {
        "id": "-nDGIhRXaHu2",
        "colab": {
          "base_uri": "https://localhost:8080/",
          "height": 283
        },
        "outputId": "aa926f00-9f52-4699-c322-ea00b7c7ab59"
      },
      "outputs": [
        {
          "output_type": "execute_result",
          "data": {
            "text/plain": [
              "<matplotlib.axes._subplots.AxesSubplot at 0x7f3fef5492d0>"
            ]
          },
          "metadata": {},
          "execution_count": 25
        },
        {
          "output_type": "display_data",
          "data": {
            "text/plain": [
              "<Figure size 432x288 with 1 Axes>"
            ],
            "image/png": "[encoded data removed]"
          },
          "metadata": {
            "needs_background": "light"
          }
        }
      ],
      "source": [
        "#plotting the rmse values against k values\n",
        "curve = pd.DataFrame(rms) #elbow curve \n",
        "curve.plot()"
      ]
    },
    {
      "cell_type": "markdown",
      "metadata": {
        "id": "W2CQMW2waMXR"
      },
      "source": [
        "                                      **SVR**"
      ]
    },
    {
      "cell_type": "code",
      "execution_count": null,
      "metadata": {
        "id": "6EXeIpIzaK0M",
        "colab": {
          "base_uri": "https://localhost:8080/",
          "height": 610
        },
        "outputId": "54aee4cf-1c3c-4a0f-d48a-c68faffb9ee1"
      },
      "outputs": [
        {
          "output_type": "execute_result",
          "data": {
            "text/plain": [
              "<matplotlib.collections.PathCollection at 0x7f3f81b62d50>"
            ]
          },
          "metadata": {},
          "execution_count": 53
        },
        {
          "output_type": "display_data",
          "data": {
            "text/plain": [
              "<Figure size 720x720 with 1 Axes>"
            ],
            "image/png": "[encoded data removed]"
          },
          "metadata": {
            "needs_background": "light"
          }
        }
      ],
      "source": [
        "from sklearn.svm import SVR\n",
        "model_svr = SVR(kernel = 'rbf')\n",
        "model_svr.fit(X_train, y_train)\n",
        "y_predicted_svr = model_svr.predict(X_test)\n",
        "plt.figure(figsize = (10,10))\n",
        "plt.scatter(y_test,y_predicted_svr)"
      ]
    },
    {
      "cell_type": "code",
      "execution_count": null,
      "metadata": {
        "id": "grtKM4WhaRpQ",
        "colab": {
          "base_uri": "https://localhost:8080/"
        },
        "outputId": "3754a7ff-437b-45fb-f57a-40e4bcb3ac37"
      },
      "outputs": [
        {
          "output_type": "stream",
          "name": "stdout",
          "text": [
            "4.065866824707983\n",
            "0.8118867827509079\n",
            "2.071686640465434\n",
            "1.3436885745203424\n"
          ]
        }
      ],
      "source": [
        "rms = sqrt(mean_squared_error(y_test, y_predicted_svr))\n",
        "print(rms)\n",
        "r_square = model_svr.score(X_test,y_test)\n",
        "print(r_square)\n",
        "mae = mean_absolute_error(y_test,y_predicted_svr)\n",
        "print(mae)\n",
        "mape = mean_absolute_percentage_error(y_test, y_predicted_svr)\n",
        "print(mape)"
      ]
    },
    {
      "cell_type": "code",
      "execution_count": null,
      "metadata": {
        "id": "j9jtKsxpf_8v",
        "colab": {
          "base_uri": "https://localhost:8080/"
        },
        "outputId": "463143bd-cd8f-4797-b749-c8973393ad67"
      },
      "outputs": [
        {
          "output_type": "stream",
          "name": "stdout",
          "text": [
            "{'C': 100.0, 'epsilon': 0.1, 'gamma': 1.0, 'kernel': 'rbf'}\n"
          ]
        }
      ],
      "source": [
        "#Hyperparameter Tuning\n",
        "c_range = np.logspace(-2, 2, 5)\n",
        "gamma_range = np.logspace(-2, 2, 5)\n",
        "parameters = {'kernel': ['rbf'], 'C': c_range,'gamma': gamma_range,'epsilon':[1,0.1,0.01,00.001]}\n",
        "svr = SVR()\n",
        "grid_search = GridSearchCV(svr, parameters)\n",
        "grid_search.fit(X_train,y_train)\n",
        "print(grid_search.best_params_)"
      ]
    },
    {
      "cell_type": "code",
      "execution_count": null,
      "metadata": {
        "id": "gRPY2ExhgE1X"
      },
      "outputs": [],
      "source": [
        "model_svrhp = grid_search.best_estimator_\n",
        "model_svrhp.fit(X_train,y_train)\n",
        "y_predicted_svrhp = model_svrhp.predict(X_test)"
      ]
    },
    {
      "cell_type": "code",
      "execution_count": null,
      "metadata": {
        "id": "iWAVGZAXgHXC",
        "colab": {
          "base_uri": "https://localhost:8080/"
        },
        "outputId": "ed9d996d-7f61-43df-bac0-e1448060f7cf"
      },
      "outputs": [
        {
          "output_type": "stream",
          "name": "stdout",
          "text": [
            "1.5290658239136643\n",
            "0.9733948706189857\n",
            "0.8135979839023273\n",
            "0.5906008118867224\n"
          ]
        }
      ],
      "source": [
        "rms = sqrt(mean_squared_error(y_test, y_predicted_svrhp))\n",
        "print(rms)\n",
        "r_square = model_svrhp.score(X_test,y_test)\n",
        "print(r_square)\n",
        "mae = mean_absolute_error(y_test,y_predicted_svrhp)\n",
        "print(mae)\n",
        "mape = mean_absolute_percentage_error(y_test, y_predicted_svrhp)\n",
        "print(mape)"
      ]
    },
    {
      "cell_type": "markdown",
      "metadata": {
        "id": "bCqG3yiNaWwp"
      },
      "source": [
        "                              **AdaBoost**"
      ]
    },
    {
      "cell_type": "code",
      "execution_count": null,
      "metadata": {
        "id": "CL0zJm0qaU2k"
      },
      "outputs": [],
      "source": [
        "from sklearn.ensemble import AdaBoostRegressor\n",
        "adb = AdaBoostRegressor()\n",
        "model_abr = AdaBoostRegressor().fit(X_train, y_train)\n",
        "y_predicted_abr = model_abr.predict(X_test)"
      ]
    },
    {
      "cell_type": "code",
      "execution_count": null,
      "metadata": {
        "id": "cIswuEf2iQqP",
        "colab": {
          "base_uri": "https://localhost:8080/"
        },
        "outputId": "a4edecee-5948-447b-a76c-bdc2d4769506"
      },
      "outputs": [
        {
          "output_type": "stream",
          "name": "stdout",
          "text": [
            "3.158988250759704\n",
            "0.8864442752420144\n",
            "2.5793254939309365\n",
            "12.577578343411732\n"
          ]
        }
      ],
      "source": [
        "rms = sqrt(mean_squared_error(y_test, y_predicted_abr))\n",
        "print(rms)\n",
        "r_square = model_abr.score(X_test,y_test)\n",
        "print(r_square)\n",
        "mae = mean_absolute_error(y_test,y_predicted_abr)\n",
        "print(mae)\n",
        "mape = mean_absolute_percentage_error(y_test, y_predicted_abr)\n",
        "print(mape)"
      ]
    },
    {
      "cell_type": "code",
      "execution_count": null,
      "metadata": {
        "id": "03dSiuOEgVJt"
      },
      "outputs": [],
      "source": [
        "#Hyperparametrer Tuning\n",
        "param_grid = {'n_estimators':list(range(0, 1000, 100)), 'learning_rate':[100,10,1,0.1, 0.01, 0.001]}\n",
        "grid_search = GridSearchCV(estimator=adb, param_grid=param_grid, scoring='neg_mean_squared_error', n_jobs=1, cv=5)"
      ]
    },
    {
      "cell_type": "code",
      "execution_count": null,
      "metadata": {
        "id": "Ou2cYd2EgYtR",
        "colab": {
          "base_uri": "https://localhost:8080/"
        },
        "outputId": "c259be0d-f650-495a-f38e-07df823401b9"
      },
      "outputs": [
        {
          "output_type": "stream",
          "name": "stdout",
          "text": [
            "{'learning_rate': 0.1, 'n_estimators': 200}\n"
          ]
        }
      ],
      "source": [
        "#fit the data\n",
        "grid_search.fit(X_train, y_train)\n",
        "print(grid_search.best_params_)\n",
        "model_adbhp = grid_search.best_estimator_\n",
        "model_adbhp.fit(X_train,y_train)\n",
        "y_predicted_abrhp = model_adbhp.predict(X_test) "
      ]
    },
    {
      "cell_type": "code",
      "execution_count": null,
      "metadata": {
        "id": "_WBQpC63gmyl",
        "colab": {
          "base_uri": "https://localhost:8080/"
        },
        "outputId": "2279199e-4de2-4672-9d0c-bda10a888d95"
      },
      "outputs": [
        {
          "output_type": "stream",
          "name": "stdout",
          "text": [
            "2.6954444080138753\n",
            "0.917325082430773\n",
            "1.7893464444385767\n",
            "5.497130577130315\n"
          ]
        }
      ],
      "source": [
        "rms = sqrt(mean_squared_error(y_test, y_predicted_abrhp))\n",
        "print(rms)\n",
        "r_square = model_adbhp.score(X_test,y_test)\n",
        "print(r_square)\n",
        "mae = mean_absolute_error(y_test,y_predicted_abrhp)\n",
        "print(mae)\n",
        "mape = mean_absolute_percentage_error(y_test, y_predicted_abrhp)\n",
        "print(mape)"
      ]
    },
    {
      "cell_type": "markdown",
      "metadata": {
        "id": "sl9CUndRiTLd"
      },
      "source": [
        "                         **Ridge & Lasso** **Regression**"
      ]
    },
    {
      "cell_type": "code",
      "execution_count": null,
      "metadata": {
        "id": "0Vy_d4a_iXPX",
        "colab": {
          "base_uri": "https://localhost:8080/"
        },
        "outputId": "14cb241e-722f-4f52-fc22-9b290d66c34f"
      },
      "outputs": [
        {
          "output_type": "execute_result",
          "data": {
            "text/plain": [
              "GridSearchCV(cv=5, estimator=Ridge(),\n",
              "             param_grid={'alpha': [1e-15, 1e-10, 1e-08, 0.0001, 0.001, 0.01, 1,\n",
              "                                   5, 10, 20]},\n",
              "             scoring='neg_mean_squared_error')"
            ]
          },
          "metadata": {},
          "execution_count": 63
        }
      ],
      "source": [
        "#Ridge Regression, using Grid Search CV to find the best parameter for alpha\n",
        "from sklearn.model_selection import cross_val_score\n",
        "from sklearn.model_selection import GridSearchCV\n",
        "from sklearn.linear_model import Ridge\n",
        "ridge = Ridge()\n",
        "parameters = {\"alpha\":[1e-15, 1e-10, 1e-8, 1e-4, 1e-3, 1e-2, 1, 5, 10, 20]}\n",
        "ridge_regression = GridSearchCV(ridge, parameters, scoring='neg_mean_squared_error', cv=5)\n",
        "ridge_regression.fit(X_train, y_train)"
      ]
    },
    {
      "cell_type": "code",
      "execution_count": null,
      "metadata": {
        "id": "g39qG7KPiavy",
        "colab": {
          "base_uri": "https://localhost:8080/"
        },
        "outputId": "8d3c6e66-ba0e-4a96-d9f1-fc7fc3cc3b9f"
      },
      "outputs": [
        {
          "output_type": "stream",
          "name": "stdout",
          "text": [
            "{'alpha': 1e-08}\n"
          ]
        }
      ],
      "source": [
        "print(ridge_regression.best_params_)"
      ]
    },
    {
      "cell_type": "code",
      "execution_count": null,
      "metadata": {
        "id": "P0X97E2PidLN"
      },
      "outputs": [],
      "source": [
        "model_rr = Ridge(alpha=1e-08).fit(X_train,y_train)\n",
        "y_predicted_rr = model_rr.predict(X_test)"
      ]
    },
    {
      "cell_type": "code",
      "execution_count": null,
      "metadata": {
        "id": "rImqBYo-ify6",
        "colab": {
          "base_uri": "https://localhost:8080/"
        },
        "outputId": "9ce416a4-4e49-4eaa-b825-004517b4356a"
      },
      "outputs": [
        {
          "output_type": "stream",
          "name": "stdout",
          "text": [
            "1.7767249267599612\n",
            "0.9640785877225531\n",
            "1.090392147853258\n",
            "2.393974209513725\n"
          ]
        }
      ],
      "source": [
        "rms = sqrt(mean_squared_error(y_test, y_predicted_rr))\n",
        "print(rms)\n",
        "r_square = model_rr.score(X_test,y_test)\n",
        "print(r_square)\n",
        "mae = mean_absolute_error(y_test,y_predicted_rr)\n",
        "print(mae)\n",
        "mape = mean_absolute_percentage_error(y_test, y_predicted_rr)\n",
        "print(mape)"
      ]
    },
    {
      "cell_type": "code",
      "execution_count": null,
      "metadata": {
        "id": "X_z_mC5KikHe",
        "colab": {
          "base_uri": "https://localhost:8080/"
        },
        "outputId": "753cca72-8787-4492-c692-f9c1f9a7d39b"
      },
      "outputs": [
        {
          "output_type": "execute_result",
          "data": {
            "text/plain": [
              "GridSearchCV(cv=5, estimator=Lasso(),\n",
              "             param_grid={'alpha': [1e-15, 1e-10, 1e-08, 0.0001, 0.001, 0.01, 1,\n",
              "                                   5, 10, 20]},\n",
              "             scoring='neg_mean_squared_error')"
            ]
          },
          "metadata": {},
          "execution_count": 68
        }
      ],
      "source": [
        "#Lasso Regression, using Grid Search CV to find the best parameter for alpha\n",
        "from sklearn.linear_model import Lasso\n",
        "lasso = Lasso()\n",
        "parameters = {\"alpha\":[1e-15, 1e-10, 1e-8, 1e-4, 1e-3, 1e-2, 1, 5, 10, 20]}\n",
        "lasso_regression = GridSearchCV(lasso, parameters, scoring='neg_mean_squared_error', cv=5)\n",
        "lasso_regression.fit(X_train, y_train)"
      ]
    },
    {
      "cell_type": "code",
      "execution_count": null,
      "metadata": {
        "id": "YzYemKrNilKY",
        "colab": {
          "base_uri": "https://localhost:8080/"
        },
        "outputId": "21a94746-ade0-4d43-baca-0fece21fbf10"
      },
      "outputs": [
        {
          "output_type": "stream",
          "name": "stdout",
          "text": [
            "{'alpha': 0.001}\n"
          ]
        }
      ],
      "source": [
        "print(lasso_regression.best_params_)"
      ]
    },
    {
      "cell_type": "code",
      "execution_count": null,
      "metadata": {
        "id": "CnKuHg5hinuv"
      },
      "outputs": [],
      "source": [
        "model_lr = Lasso(alpha=0.001).fit(X_train,y_train)\n",
        "y_predicted_lr = model_lr.predict(X_test)"
      ]
    },
    {
      "cell_type": "code",
      "execution_count": null,
      "metadata": {
        "id": "kPkgdgybirBc",
        "colab": {
          "base_uri": "https://localhost:8080/"
        },
        "outputId": "1eb5660b-931c-4844-e690-174840207281"
      },
      "outputs": [
        {
          "output_type": "stream",
          "name": "stdout",
          "text": [
            "2.661610798671261\n",
            "0.9193875515971917\n",
            "1.8666291450529184\n",
            "5.193943924539678\n"
          ]
        }
      ],
      "source": [
        "rms = sqrt(mean_squared_error(y_test, y_predicted_lr))\n",
        "print(rms)\n",
        "r_square = model_lr.score(X_test,y_test)\n",
        "print(r_square)\n",
        "mae = mean_absolute_error(y_test,y_predicted_lr)\n",
        "print(mae)\n",
        "mape = mean_absolute_percentage_error(y_test, y_predicted_lr)\n",
        "print(mape)"
      ]
    },
    {
      "cell_type": "code",
      "execution_count": null,
      "metadata": {
        "id": "jfzguH7NjEZd"
      },
      "outputs": [],
      "source": [
        "import math\n",
        "import tensorflow as tf\n",
        "import matplotlib.pyplot as plt\n",
        "from tensorflow.keras import Model\n",
        "from tensorflow.keras import Sequential\n",
        "from tensorflow.keras.optimizers import Adam\n",
        "from sklearn.preprocessing import StandardScaler\n",
        "from tensorflow.keras.layers import Dense, Dropout\n",
        "from sklearn.model_selection import train_test_split\n",
        "from tensorflow.keras.losses import MeanSquaredLogarithmicError"
      ]
    },
    {
      "cell_type": "code",
      "execution_count": null,
      "metadata": {
        "id": "ArR2En4HjIqJ"
      },
      "outputs": [],
      "source": [
        "input_unit = 41\n",
        "hidden_units2 = 10\n",
        "learning_rate = 0.008\n",
        "# Creating model using the Sequential in tensorflow\n",
        "def build_model_using_sequential():\n",
        "  model = Sequential([\n",
        "    Dense(input_unit, kernel_initializer='normal', activation='relu'),\n",
        "    Dropout(0.4),\n",
        "    # Dense(hidden_units2, kernel_initializer='normal', activation='relu'),\n",
        "    Dense(1, kernel_initializer='normal', activation='linear')\n",
        "  ])\n",
        "  return model\n",
        "# build the model\n",
        "model = build_model_using_sequential()"
      ]
    },
    {
      "cell_type": "code",
      "execution_count": null,
      "metadata": {
        "id": "VCy8Olobk3iE",
        "colab": {
          "base_uri": "https://localhost:8080/"
        },
        "outputId": "2c9a6747-79fe-40a5-bb8f-9054427da38e"
      },
      "outputs": [
        {
          "output_type": "stream",
          "name": "stdout",
          "text": [
            "Epoch 1/150\n",
            "5/5 [==============================] - 1s 40ms/step - loss: 2.3710 - mean_squared_logarithmic_error: 2.3583 - val_loss: 1.6937 - val_mean_squared_logarithmic_error: 1.5783\n",
            "Epoch 2/150\n",
            "5/5 [==============================] - 0s 13ms/step - loss: 1.4442 - mean_squared_logarithmic_error: 1.3327 - val_loss: 1.0178 - val_mean_squared_logarithmic_error: 1.0086\n",
            "Epoch 3/150\n",
            "5/5 [==============================] - 0s 7ms/step - loss: 0.9328 - mean_squared_logarithmic_error: 0.8940 - val_loss: 0.7480 - val_mean_squared_logarithmic_error: 0.7855\n",
            "Epoch 4/150\n",
            "5/5 [==============================] - 0s 7ms/step - loss: 0.7402 - mean_squared_logarithmic_error: 0.7215 - val_loss: 0.5878 - val_mean_squared_logarithmic_error: 0.6346\n",
            "Epoch 5/150\n",
            "5/5 [==============================] - 0s 10ms/step - loss: 0.5794 - mean_squared_logarithmic_error: 0.5557 - val_loss: 0.4314 - val_mean_squared_logarithmic_error: 0.4675\n",
            "Epoch 6/150\n",
            "5/5 [==============================] - 0s 10ms/step - loss: 0.4384 - mean_squared_logarithmic_error: 0.4427 - val_loss: 0.3027 - val_mean_squared_logarithmic_error: 0.3175\n",
            "Epoch 7/150\n",
            "5/5 [==============================] - 0s 7ms/step - loss: 0.3097 - mean_squared_logarithmic_error: 0.3065 - val_loss: 0.2360 - val_mean_squared_logarithmic_error: 0.2439\n",
            "Epoch 8/150\n",
            "5/5 [==============================] - 0s 7ms/step - loss: 0.2435 - mean_squared_logarithmic_error: 0.2359 - val_loss: 0.1994 - val_mean_squared_logarithmic_error: 0.2100\n",
            "Epoch 9/150\n",
            "5/5 [==============================] - 0s 8ms/step - loss: 0.1900 - mean_squared_logarithmic_error: 0.1892 - val_loss: 0.1737 - val_mean_squared_logarithmic_error: 0.1856\n",
            "Epoch 10/150\n",
            "5/5 [==============================] - 0s 8ms/step - loss: 0.1743 - mean_squared_logarithmic_error: 0.1772 - val_loss: 0.1550 - val_mean_squared_logarithmic_error: 0.1681\n",
            "Epoch 11/150\n",
            "5/5 [==============================] - 0s 8ms/step - loss: 0.1590 - mean_squared_logarithmic_error: 0.1480 - val_loss: 0.1414 - val_mean_squared_logarithmic_error: 0.1561\n",
            "Epoch 12/150\n",
            "5/5 [==============================] - 0s 7ms/step - loss: 0.1547 - mean_squared_logarithmic_error: 0.1644 - val_loss: 0.1325 - val_mean_squared_logarithmic_error: 0.1480\n",
            "Epoch 13/150\n",
            "5/5 [==============================] - 0s 7ms/step - loss: 0.1435 - mean_squared_logarithmic_error: 0.1454 - val_loss: 0.1259 - val_mean_squared_logarithmic_error: 0.1412\n",
            "Epoch 14/150\n",
            "5/5 [==============================] - 0s 9ms/step - loss: 0.1293 - mean_squared_logarithmic_error: 0.1220 - val_loss: 0.1205 - val_mean_squared_logarithmic_error: 0.1349\n",
            "Epoch 15/150\n",
            "5/5 [==============================] - 0s 7ms/step - loss: 0.1206 - mean_squared_logarithmic_error: 0.1238 - val_loss: 0.1160 - val_mean_squared_logarithmic_error: 0.1287\n",
            "Epoch 16/150\n",
            "5/5 [==============================] - 0s 8ms/step - loss: 0.1176 - mean_squared_logarithmic_error: 0.1108 - val_loss: 0.1117 - val_mean_squared_logarithmic_error: 0.1225\n",
            "Epoch 17/150\n",
            "5/5 [==============================] - 0s 7ms/step - loss: 0.1137 - mean_squared_logarithmic_error: 0.1241 - val_loss: 0.1076 - val_mean_squared_logarithmic_error: 0.1167\n",
            "Epoch 18/150\n",
            "5/5 [==============================] - 0s 8ms/step - loss: 0.1114 - mean_squared_logarithmic_error: 0.1047 - val_loss: 0.1038 - val_mean_squared_logarithmic_error: 0.1118\n",
            "Epoch 19/150\n",
            "5/5 [==============================] - 0s 8ms/step - loss: 0.0969 - mean_squared_logarithmic_error: 0.0936 - val_loss: 0.1004 - val_mean_squared_logarithmic_error: 0.1079\n",
            "Epoch 20/150\n",
            "5/5 [==============================] - 0s 8ms/step - loss: 0.1096 - mean_squared_logarithmic_error: 0.1051 - val_loss: 0.0972 - val_mean_squared_logarithmic_error: 0.1023\n",
            "Epoch 21/150\n",
            "5/5 [==============================] - 0s 8ms/step - loss: 0.0932 - mean_squared_logarithmic_error: 0.0952 - val_loss: 0.0943 - val_mean_squared_logarithmic_error: 0.0979\n",
            "Epoch 22/150\n",
            "5/5 [==============================] - 0s 10ms/step - loss: 0.0954 - mean_squared_logarithmic_error: 0.0959 - val_loss: 0.0918 - val_mean_squared_logarithmic_error: 0.0945\n",
            "Epoch 23/150\n",
            "5/5 [==============================] - 0s 8ms/step - loss: 0.0918 - mean_squared_logarithmic_error: 0.0905 - val_loss: 0.0897 - val_mean_squared_logarithmic_error: 0.0912\n",
            "Epoch 24/150\n",
            "5/5 [==============================] - 0s 7ms/step - loss: 0.0861 - mean_squared_logarithmic_error: 0.0836 - val_loss: 0.0874 - val_mean_squared_logarithmic_error: 0.0890\n",
            "Epoch 25/150\n",
            "5/5 [==============================] - 0s 8ms/step - loss: 0.0844 - mean_squared_logarithmic_error: 0.0850 - val_loss: 0.0854 - val_mean_squared_logarithmic_error: 0.0866\n",
            "Epoch 26/150\n",
            "5/5 [==============================] - 0s 8ms/step - loss: 0.0805 - mean_squared_logarithmic_error: 0.0803 - val_loss: 0.0838 - val_mean_squared_logarithmic_error: 0.0850\n",
            "Epoch 27/150\n",
            "5/5 [==============================] - 0s 8ms/step - loss: 0.0834 - mean_squared_logarithmic_error: 0.0796 - val_loss: 0.0824 - val_mean_squared_logarithmic_error: 0.0836\n",
            "Epoch 28/150\n",
            "5/5 [==============================] - 0s 9ms/step - loss: 0.0864 - mean_squared_logarithmic_error: 0.0883 - val_loss: 0.0809 - val_mean_squared_logarithmic_error: 0.0813\n",
            "Epoch 29/150\n",
            "5/5 [==============================] - 0s 8ms/step - loss: 0.0851 - mean_squared_logarithmic_error: 0.0829 - val_loss: 0.0795 - val_mean_squared_logarithmic_error: 0.0789\n",
            "Epoch 30/150\n",
            "5/5 [==============================] - 0s 8ms/step - loss: 0.0964 - mean_squared_logarithmic_error: 0.0921 - val_loss: 0.0782 - val_mean_squared_logarithmic_error: 0.0770\n",
            "Epoch 31/150\n",
            "5/5 [==============================] - 0s 7ms/step - loss: 0.0819 - mean_squared_logarithmic_error: 0.0767 - val_loss: 0.0768 - val_mean_squared_logarithmic_error: 0.0745\n",
            "Epoch 32/150\n",
            "5/5 [==============================] - 0s 7ms/step - loss: 0.0825 - mean_squared_logarithmic_error: 0.0816 - val_loss: 0.0754 - val_mean_squared_logarithmic_error: 0.0714\n",
            "Epoch 33/150\n",
            "5/5 [==============================] - 0s 7ms/step - loss: 0.0869 - mean_squared_logarithmic_error: 0.0876 - val_loss: 0.0741 - val_mean_squared_logarithmic_error: 0.0698\n",
            "Epoch 34/150\n",
            "5/5 [==============================] - 0s 7ms/step - loss: 0.0760 - mean_squared_logarithmic_error: 0.0730 - val_loss: 0.0728 - val_mean_squared_logarithmic_error: 0.0690\n",
            "Epoch 35/150\n",
            "5/5 [==============================] - 0s 7ms/step - loss: 0.0790 - mean_squared_logarithmic_error: 0.0748 - val_loss: 0.0718 - val_mean_squared_logarithmic_error: 0.0678\n",
            "Epoch 36/150\n",
            "5/5 [==============================] - 0s 8ms/step - loss: 0.0715 - mean_squared_logarithmic_error: 0.0704 - val_loss: 0.0708 - val_mean_squared_logarithmic_error: 0.0668\n",
            "Epoch 37/150\n",
            "5/5 [==============================] - 0s 8ms/step - loss: 0.0800 - mean_squared_logarithmic_error: 0.0830 - val_loss: 0.0697 - val_mean_squared_logarithmic_error: 0.0654\n",
            "Epoch 38/150\n",
            "5/5 [==============================] - 0s 12ms/step - loss: 0.0754 - mean_squared_logarithmic_error: 0.0773 - val_loss: 0.0689 - val_mean_squared_logarithmic_error: 0.0645\n",
            "Epoch 39/150\n",
            "5/5 [==============================] - 0s 9ms/step - loss: 0.0718 - mean_squared_logarithmic_error: 0.0738 - val_loss: 0.0677 - val_mean_squared_logarithmic_error: 0.0629\n",
            "Epoch 40/150\n",
            "5/5 [==============================] - 0s 8ms/step - loss: 0.0765 - mean_squared_logarithmic_error: 0.0855 - val_loss: 0.0667 - val_mean_squared_logarithmic_error: 0.0610\n",
            "Epoch 41/150\n",
            "5/5 [==============================] - 0s 8ms/step - loss: 0.0716 - mean_squared_logarithmic_error: 0.0674 - val_loss: 0.0658 - val_mean_squared_logarithmic_error: 0.0583\n",
            "Epoch 42/150\n",
            "5/5 [==============================] - 0s 8ms/step - loss: 0.0747 - mean_squared_logarithmic_error: 0.0771 - val_loss: 0.0656 - val_mean_squared_logarithmic_error: 0.0567\n",
            "Epoch 43/150\n",
            "5/5 [==============================] - 0s 10ms/step - loss: 0.0817 - mean_squared_logarithmic_error: 0.0780 - val_loss: 0.0655 - val_mean_squared_logarithmic_error: 0.0557\n",
            "Epoch 44/150\n",
            "5/5 [==============================] - 0s 7ms/step - loss: 0.0760 - mean_squared_logarithmic_error: 0.0816 - val_loss: 0.0644 - val_mean_squared_logarithmic_error: 0.0562\n",
            "Epoch 45/150\n",
            "5/5 [==============================] - 0s 8ms/step - loss: 0.0787 - mean_squared_logarithmic_error: 0.0728 - val_loss: 0.0640 - val_mean_squared_logarithmic_error: 0.0572\n",
            "Epoch 46/150\n",
            "5/5 [==============================] - 0s 8ms/step - loss: 0.0703 - mean_squared_logarithmic_error: 0.0635 - val_loss: 0.0639 - val_mean_squared_logarithmic_error: 0.0572\n",
            "Epoch 47/150\n",
            "5/5 [==============================] - 0s 7ms/step - loss: 0.0721 - mean_squared_logarithmic_error: 0.0715 - val_loss: 0.0638 - val_mean_squared_logarithmic_error: 0.0556\n",
            "Epoch 48/150\n",
            "5/5 [==============================] - 0s 7ms/step - loss: 0.0736 - mean_squared_logarithmic_error: 0.0723 - val_loss: 0.0638 - val_mean_squared_logarithmic_error: 0.0545\n",
            "Epoch 49/150\n",
            "5/5 [==============================] - 0s 8ms/step - loss: 0.0722 - mean_squared_logarithmic_error: 0.0703 - val_loss: 0.0635 - val_mean_squared_logarithmic_error: 0.0540\n",
            "Epoch 50/150\n",
            "5/5 [==============================] - 0s 8ms/step - loss: 0.0682 - mean_squared_logarithmic_error: 0.0642 - val_loss: 0.0629 - val_mean_squared_logarithmic_error: 0.0536\n",
            "Epoch 51/150\n",
            "5/5 [==============================] - 0s 8ms/step - loss: 0.0621 - mean_squared_logarithmic_error: 0.0583 - val_loss: 0.0622 - val_mean_squared_logarithmic_error: 0.0537\n",
            "Epoch 52/150\n",
            "5/5 [==============================] - 0s 8ms/step - loss: 0.0652 - mean_squared_logarithmic_error: 0.0619 - val_loss: 0.0615 - val_mean_squared_logarithmic_error: 0.0527\n",
            "Epoch 53/150\n",
            "5/5 [==============================] - 0s 7ms/step - loss: 0.0721 - mean_squared_logarithmic_error: 0.0750 - val_loss: 0.0609 - val_mean_squared_logarithmic_error: 0.0516\n",
            "Epoch 54/150\n",
            "5/5 [==============================] - 0s 9ms/step - loss: 0.0744 - mean_squared_logarithmic_error: 0.0757 - val_loss: 0.0602 - val_mean_squared_logarithmic_error: 0.0504\n",
            "Epoch 55/150\n",
            "5/5 [==============================] - 0s 8ms/step - loss: 0.0682 - mean_squared_logarithmic_error: 0.0635 - val_loss: 0.0599 - val_mean_squared_logarithmic_error: 0.0487\n",
            "Epoch 56/150\n",
            "5/5 [==============================] - 0s 8ms/step - loss: 0.0701 - mean_squared_logarithmic_error: 0.0657 - val_loss: 0.0597 - val_mean_squared_logarithmic_error: 0.0478\n",
            "Epoch 57/150\n",
            "5/5 [==============================] - 0s 8ms/step - loss: 0.0750 - mean_squared_logarithmic_error: 0.0713 - val_loss: 0.0596 - val_mean_squared_logarithmic_error: 0.0486\n",
            "Epoch 58/150\n",
            "5/5 [==============================] - 0s 8ms/step - loss: 0.0692 - mean_squared_logarithmic_error: 0.0710 - val_loss: 0.0600 - val_mean_squared_logarithmic_error: 0.0492\n",
            "Epoch 59/150\n",
            "5/5 [==============================] - 0s 8ms/step - loss: 0.0678 - mean_squared_logarithmic_error: 0.0637 - val_loss: 0.0603 - val_mean_squared_logarithmic_error: 0.0496\n",
            "Epoch 60/150\n",
            "5/5 [==============================] - 0s 9ms/step - loss: 0.0688 - mean_squared_logarithmic_error: 0.0761 - val_loss: 0.0604 - val_mean_squared_logarithmic_error: 0.0492\n",
            "Epoch 61/150\n",
            "5/5 [==============================] - 0s 9ms/step - loss: 0.0729 - mean_squared_logarithmic_error: 0.0720 - val_loss: 0.0601 - val_mean_squared_logarithmic_error: 0.0488\n",
            "Epoch 62/150\n",
            "5/5 [==============================] - 0s 8ms/step - loss: 0.0626 - mean_squared_logarithmic_error: 0.0655 - val_loss: 0.0602 - val_mean_squared_logarithmic_error: 0.0494\n",
            "Epoch 63/150\n",
            "5/5 [==============================] - 0s 8ms/step - loss: 0.0725 - mean_squared_logarithmic_error: 0.0739 - val_loss: 0.0600 - val_mean_squared_logarithmic_error: 0.0497\n",
            "Epoch 64/150\n",
            "5/5 [==============================] - 0s 9ms/step - loss: 0.0719 - mean_squared_logarithmic_error: 0.0696 - val_loss: 0.0599 - val_mean_squared_logarithmic_error: 0.0505\n",
            "Epoch 65/150\n",
            "5/5 [==============================] - 0s 7ms/step - loss: 0.0655 - mean_squared_logarithmic_error: 0.0673 - val_loss: 0.0599 - val_mean_squared_logarithmic_error: 0.0506\n",
            "Epoch 66/150\n",
            "5/5 [==============================] - 0s 8ms/step - loss: 0.0696 - mean_squared_logarithmic_error: 0.0706 - val_loss: 0.0595 - val_mean_squared_logarithmic_error: 0.0491\n",
            "Epoch 67/150\n",
            "5/5 [==============================] - 0s 7ms/step - loss: 0.0656 - mean_squared_logarithmic_error: 0.0662 - val_loss: 0.0593 - val_mean_squared_logarithmic_error: 0.0488\n",
            "Epoch 68/150\n",
            "5/5 [==============================] - 0s 7ms/step - loss: 0.0746 - mean_squared_logarithmic_error: 0.0684 - val_loss: 0.0587 - val_mean_squared_logarithmic_error: 0.0479\n",
            "Epoch 69/150\n",
            "5/5 [==============================] - 0s 8ms/step - loss: 0.0653 - mean_squared_logarithmic_error: 0.0664 - val_loss: 0.0583 - val_mean_squared_logarithmic_error: 0.0462\n",
            "Epoch 70/150\n",
            "5/5 [==============================] - 0s 8ms/step - loss: 0.0612 - mean_squared_logarithmic_error: 0.0574 - val_loss: 0.0580 - val_mean_squared_logarithmic_error: 0.0456\n",
            "Epoch 71/150\n",
            "5/5 [==============================] - 0s 9ms/step - loss: 0.0705 - mean_squared_logarithmic_error: 0.0749 - val_loss: 0.0580 - val_mean_squared_logarithmic_error: 0.0454\n",
            "Epoch 72/150\n",
            "5/5 [==============================] - 0s 9ms/step - loss: 0.0712 - mean_squared_logarithmic_error: 0.0729 - val_loss: 0.0577 - val_mean_squared_logarithmic_error: 0.0457\n",
            "Epoch 73/150\n",
            "5/5 [==============================] - 0s 9ms/step - loss: 0.0646 - mean_squared_logarithmic_error: 0.0595 - val_loss: 0.0575 - val_mean_squared_logarithmic_error: 0.0452\n",
            "Epoch 74/150\n",
            "5/5 [==============================] - 0s 7ms/step - loss: 0.0666 - mean_squared_logarithmic_error: 0.0643 - val_loss: 0.0575 - val_mean_squared_logarithmic_error: 0.0447\n",
            "Epoch 75/150\n",
            "5/5 [==============================] - 0s 8ms/step - loss: 0.0646 - mean_squared_logarithmic_error: 0.0609 - val_loss: 0.0572 - val_mean_squared_logarithmic_error: 0.0445\n",
            "Epoch 76/150\n",
            "5/5 [==============================] - 0s 8ms/step - loss: 0.0692 - mean_squared_logarithmic_error: 0.0658 - val_loss: 0.0573 - val_mean_squared_logarithmic_error: 0.0438\n",
            "Epoch 77/150\n",
            "5/5 [==============================] - 0s 7ms/step - loss: 0.0670 - mean_squared_logarithmic_error: 0.0706 - val_loss: 0.0575 - val_mean_squared_logarithmic_error: 0.0435\n",
            "Epoch 78/150\n",
            "5/5 [==============================] - 0s 7ms/step - loss: 0.0679 - mean_squared_logarithmic_error: 0.0705 - val_loss: 0.0575 - val_mean_squared_logarithmic_error: 0.0441\n",
            "Epoch 79/150\n",
            "5/5 [==============================] - 0s 7ms/step - loss: 0.0719 - mean_squared_logarithmic_error: 0.0681 - val_loss: 0.0578 - val_mean_squared_logarithmic_error: 0.0450\n",
            "Epoch 80/150\n",
            "5/5 [==============================] - 0s 8ms/step - loss: 0.0634 - mean_squared_logarithmic_error: 0.0676 - val_loss: 0.0586 - val_mean_squared_logarithmic_error: 0.0445\n",
            "Epoch 81/150\n",
            "5/5 [==============================] - 0s 7ms/step - loss: 0.0568 - mean_squared_logarithmic_error: 0.0554 - val_loss: 0.0581 - val_mean_squared_logarithmic_error: 0.0443\n",
            "Epoch 82/150\n",
            "5/5 [==============================] - 0s 8ms/step - loss: 0.0698 - mean_squared_logarithmic_error: 0.0699 - val_loss: 0.0577 - val_mean_squared_logarithmic_error: 0.0445\n",
            "Epoch 83/150\n",
            "5/5 [==============================] - 0s 8ms/step - loss: 0.0630 - mean_squared_logarithmic_error: 0.0618 - val_loss: 0.0575 - val_mean_squared_logarithmic_error: 0.0446\n",
            "Epoch 84/150\n",
            "5/5 [==============================] - 0s 8ms/step - loss: 0.0680 - mean_squared_logarithmic_error: 0.0712 - val_loss: 0.0576 - val_mean_squared_logarithmic_error: 0.0441\n",
            "Epoch 85/150\n",
            "5/5 [==============================] - 0s 9ms/step - loss: 0.0680 - mean_squared_logarithmic_error: 0.0757 - val_loss: 0.0576 - val_mean_squared_logarithmic_error: 0.0438\n",
            "Epoch 86/150\n",
            "5/5 [==============================] - 0s 7ms/step - loss: 0.0771 - mean_squared_logarithmic_error: 0.0764 - val_loss: 0.0572 - val_mean_squared_logarithmic_error: 0.0446\n",
            "Epoch 87/150\n",
            "5/5 [==============================] - 0s 10ms/step - loss: 0.0631 - mean_squared_logarithmic_error: 0.0652 - val_loss: 0.0569 - val_mean_squared_logarithmic_error: 0.0437\n",
            "Epoch 88/150\n",
            "5/5 [==============================] - 0s 8ms/step - loss: 0.0698 - mean_squared_logarithmic_error: 0.0716 - val_loss: 0.0563 - val_mean_squared_logarithmic_error: 0.0424\n",
            "Epoch 89/150\n",
            "5/5 [==============================] - 0s 8ms/step - loss: 0.0666 - mean_squared_logarithmic_error: 0.0700 - val_loss: 0.0559 - val_mean_squared_logarithmic_error: 0.0413\n",
            "Epoch 90/150\n",
            "5/5 [==============================] - 0s 8ms/step - loss: 0.0650 - mean_squared_logarithmic_error: 0.0648 - val_loss: 0.0563 - val_mean_squared_logarithmic_error: 0.0402\n",
            "Epoch 91/150\n",
            "5/5 [==============================] - 0s 8ms/step - loss: 0.0685 - mean_squared_logarithmic_error: 0.0732 - val_loss: 0.0563 - val_mean_squared_logarithmic_error: 0.0398\n",
            "Epoch 92/150\n",
            "5/5 [==============================] - 0s 8ms/step - loss: 0.0673 - mean_squared_logarithmic_error: 0.0718 - val_loss: 0.0555 - val_mean_squared_logarithmic_error: 0.0403\n",
            "Epoch 93/150\n",
            "5/5 [==============================] - 0s 7ms/step - loss: 0.0611 - mean_squared_logarithmic_error: 0.0602 - val_loss: 0.0545 - val_mean_squared_logarithmic_error: 0.0413\n",
            "Epoch 94/150\n",
            "5/5 [==============================] - 0s 9ms/step - loss: 0.0686 - mean_squared_logarithmic_error: 0.0681 - val_loss: 0.0544 - val_mean_squared_logarithmic_error: 0.0414\n",
            "Epoch 95/150\n",
            "5/5 [==============================] - 0s 9ms/step - loss: 0.0579 - mean_squared_logarithmic_error: 0.0577 - val_loss: 0.0543 - val_mean_squared_logarithmic_error: 0.0410\n",
            "Epoch 96/150\n",
            "5/5 [==============================] - 0s 8ms/step - loss: 0.0602 - mean_squared_logarithmic_error: 0.0623 - val_loss: 0.0543 - val_mean_squared_logarithmic_error: 0.0411\n",
            "Epoch 97/150\n",
            "5/5 [==============================] - 0s 8ms/step - loss: 0.0624 - mean_squared_logarithmic_error: 0.0606 - val_loss: 0.0543 - val_mean_squared_logarithmic_error: 0.0415\n",
            "Epoch 98/150\n",
            "5/5 [==============================] - 0s 10ms/step - loss: 0.0640 - mean_squared_logarithmic_error: 0.0625 - val_loss: 0.0546 - val_mean_squared_logarithmic_error: 0.0407\n",
            "Epoch 99/150\n",
            "5/5 [==============================] - 0s 8ms/step - loss: 0.0681 - mean_squared_logarithmic_error: 0.0749 - val_loss: 0.0546 - val_mean_squared_logarithmic_error: 0.0408\n",
            "Epoch 100/150\n",
            "5/5 [==============================] - 0s 8ms/step - loss: 0.0641 - mean_squared_logarithmic_error: 0.0666 - val_loss: 0.0544 - val_mean_squared_logarithmic_error: 0.0408\n",
            "Epoch 101/150\n",
            "5/5 [==============================] - 0s 10ms/step - loss: 0.0593 - mean_squared_logarithmic_error: 0.0612 - val_loss: 0.0541 - val_mean_squared_logarithmic_error: 0.0411\n",
            "Epoch 102/150\n",
            "5/5 [==============================] - 0s 8ms/step - loss: 0.0668 - mean_squared_logarithmic_error: 0.0644 - val_loss: 0.0540 - val_mean_squared_logarithmic_error: 0.0393\n",
            "Epoch 103/150\n",
            "5/5 [==============================] - 0s 8ms/step - loss: 0.0638 - mean_squared_logarithmic_error: 0.0658 - val_loss: 0.0536 - val_mean_squared_logarithmic_error: 0.0388\n",
            "Epoch 104/150\n",
            "5/5 [==============================] - 0s 9ms/step - loss: 0.0642 - mean_squared_logarithmic_error: 0.0617 - val_loss: 0.0536 - val_mean_squared_logarithmic_error: 0.0383\n",
            "Epoch 105/150\n",
            "5/5 [==============================] - 0s 9ms/step - loss: 0.0615 - mean_squared_logarithmic_error: 0.0572 - val_loss: 0.0533 - val_mean_squared_logarithmic_error: 0.0388\n",
            "Epoch 106/150\n",
            "5/5 [==============================] - 0s 8ms/step - loss: 0.0692 - mean_squared_logarithmic_error: 0.0621 - val_loss: 0.0531 - val_mean_squared_logarithmic_error: 0.0396\n",
            "Epoch 107/150\n",
            "5/5 [==============================] - 0s 10ms/step - loss: 0.0499 - mean_squared_logarithmic_error: 0.0509 - val_loss: 0.0527 - val_mean_squared_logarithmic_error: 0.0394\n",
            "Epoch 108/150\n",
            "5/5 [==============================] - 0s 8ms/step - loss: 0.0582 - mean_squared_logarithmic_error: 0.0594 - val_loss: 0.0525 - val_mean_squared_logarithmic_error: 0.0381\n",
            "Epoch 109/150\n",
            "5/5 [==============================] - 0s 8ms/step - loss: 0.0651 - mean_squared_logarithmic_error: 0.0604 - val_loss: 0.0525 - val_mean_squared_logarithmic_error: 0.0377\n",
            "Epoch 110/150\n",
            "5/5 [==============================] - 0s 8ms/step - loss: 0.0608 - mean_squared_logarithmic_error: 0.0554 - val_loss: 0.0527 - val_mean_squared_logarithmic_error: 0.0378\n",
            "Epoch 111/150\n",
            "5/5 [==============================] - 0s 8ms/step - loss: 0.0550 - mean_squared_logarithmic_error: 0.0551 - val_loss: 0.0531 - val_mean_squared_logarithmic_error: 0.0381\n",
            "Epoch 112/150\n",
            "5/5 [==============================] - 0s 9ms/step - loss: 0.0620 - mean_squared_logarithmic_error: 0.0646 - val_loss: 0.0535 - val_mean_squared_logarithmic_error: 0.0382\n",
            "Epoch 113/150\n",
            "5/5 [==============================] - 0s 8ms/step - loss: 0.0625 - mean_squared_logarithmic_error: 0.0655 - val_loss: 0.0533 - val_mean_squared_logarithmic_error: 0.0389\n",
            "Epoch 114/150\n",
            "5/5 [==============================] - 0s 9ms/step - loss: 0.0693 - mean_squared_logarithmic_error: 0.0700 - val_loss: 0.0534 - val_mean_squared_logarithmic_error: 0.0392\n",
            "Epoch 115/150\n",
            "5/5 [==============================] - 0s 9ms/step - loss: 0.0692 - mean_squared_logarithmic_error: 0.0695 - val_loss: 0.0532 - val_mean_squared_logarithmic_error: 0.0404\n",
            "Epoch 116/150\n",
            "5/5 [==============================] - 0s 9ms/step - loss: 0.0608 - mean_squared_logarithmic_error: 0.0630 - val_loss: 0.0535 - val_mean_squared_logarithmic_error: 0.0414\n",
            "Epoch 117/150\n",
            "5/5 [==============================] - 0s 9ms/step - loss: 0.0581 - mean_squared_logarithmic_error: 0.0637 - val_loss: 0.0535 - val_mean_squared_logarithmic_error: 0.0402\n",
            "Epoch 118/150\n",
            "5/5 [==============================] - 0s 8ms/step - loss: 0.0591 - mean_squared_logarithmic_error: 0.0576 - val_loss: 0.0545 - val_mean_squared_logarithmic_error: 0.0387\n",
            "Epoch 119/150\n",
            "5/5 [==============================] - 0s 8ms/step - loss: 0.0622 - mean_squared_logarithmic_error: 0.0635 - val_loss: 0.0540 - val_mean_squared_logarithmic_error: 0.0390\n",
            "Epoch 120/150\n",
            "5/5 [==============================] - 0s 8ms/step - loss: 0.0624 - mean_squared_logarithmic_error: 0.0599 - val_loss: 0.0533 - val_mean_squared_logarithmic_error: 0.0397\n",
            "Epoch 121/150\n",
            "5/5 [==============================] - 0s 8ms/step - loss: 0.0718 - mean_squared_logarithmic_error: 0.0765 - val_loss: 0.0530 - val_mean_squared_logarithmic_error: 0.0400\n",
            "Epoch 122/150\n",
            "5/5 [==============================] - 0s 8ms/step - loss: 0.0613 - mean_squared_logarithmic_error: 0.0596 - val_loss: 0.0529 - val_mean_squared_logarithmic_error: 0.0404\n",
            "Epoch 123/150\n",
            "5/5 [==============================] - 0s 8ms/step - loss: 0.0590 - mean_squared_logarithmic_error: 0.0590 - val_loss: 0.0529 - val_mean_squared_logarithmic_error: 0.0401\n",
            "Epoch 124/150\n",
            "5/5 [==============================] - 0s 8ms/step - loss: 0.0552 - mean_squared_logarithmic_error: 0.0524 - val_loss: 0.0531 - val_mean_squared_logarithmic_error: 0.0396\n",
            "Epoch 125/150\n",
            "5/5 [==============================] - 0s 8ms/step - loss: 0.0594 - mean_squared_logarithmic_error: 0.0597 - val_loss: 0.0530 - val_mean_squared_logarithmic_error: 0.0396\n",
            "Epoch 126/150\n",
            "5/5 [==============================] - 0s 10ms/step - loss: 0.0552 - mean_squared_logarithmic_error: 0.0539 - val_loss: 0.0532 - val_mean_squared_logarithmic_error: 0.0405\n",
            "Epoch 127/150\n",
            "5/5 [==============================] - 0s 8ms/step - loss: 0.0623 - mean_squared_logarithmic_error: 0.0672 - val_loss: 0.0533 - val_mean_squared_logarithmic_error: 0.0396\n",
            "Epoch 128/150\n",
            "5/5 [==============================] - 0s 7ms/step - loss: 0.0595 - mean_squared_logarithmic_error: 0.0621 - val_loss: 0.0529 - val_mean_squared_logarithmic_error: 0.0390\n",
            "Epoch 129/150\n",
            "5/5 [==============================] - 0s 10ms/step - loss: 0.0725 - mean_squared_logarithmic_error: 0.0723 - val_loss: 0.0526 - val_mean_squared_logarithmic_error: 0.0389\n",
            "Epoch 130/150\n",
            "5/5 [==============================] - 0s 8ms/step - loss: 0.0714 - mean_squared_logarithmic_error: 0.0684 - val_loss: 0.0525 - val_mean_squared_logarithmic_error: 0.0381\n",
            "Epoch 131/150\n",
            "5/5 [==============================] - 0s 8ms/step - loss: 0.0656 - mean_squared_logarithmic_error: 0.0714 - val_loss: 0.0526 - val_mean_squared_logarithmic_error: 0.0374\n",
            "Epoch 132/150\n",
            "5/5 [==============================] - 0s 8ms/step - loss: 0.0573 - mean_squared_logarithmic_error: 0.0592 - val_loss: 0.0526 - val_mean_squared_logarithmic_error: 0.0369\n",
            "Epoch 133/150\n",
            "5/5 [==============================] - 0s 9ms/step - loss: 0.0670 - mean_squared_logarithmic_error: 0.0631 - val_loss: 0.0518 - val_mean_squared_logarithmic_error: 0.0372\n",
            "Epoch 134/150\n",
            "5/5 [==============================] - 0s 8ms/step - loss: 0.0600 - mean_squared_logarithmic_error: 0.0561 - val_loss: 0.0515 - val_mean_squared_logarithmic_error: 0.0373\n",
            "Epoch 135/150\n",
            "5/5 [==============================] - 0s 10ms/step - loss: 0.0612 - mean_squared_logarithmic_error: 0.0589 - val_loss: 0.0519 - val_mean_squared_logarithmic_error: 0.0375\n",
            "Epoch 136/150\n",
            "5/5 [==============================] - 0s 8ms/step - loss: 0.0614 - mean_squared_logarithmic_error: 0.0613 - val_loss: 0.0519 - val_mean_squared_logarithmic_error: 0.0369\n",
            "Epoch 137/150\n",
            "5/5 [==============================] - 0s 8ms/step - loss: 0.0644 - mean_squared_logarithmic_error: 0.0637 - val_loss: 0.0520 - val_mean_squared_logarithmic_error: 0.0368\n",
            "Epoch 138/150\n",
            "5/5 [==============================] - 0s 8ms/step - loss: 0.0571 - mean_squared_logarithmic_error: 0.0547 - val_loss: 0.0519 - val_mean_squared_logarithmic_error: 0.0367\n",
            "Epoch 139/150\n",
            "5/5 [==============================] - 0s 8ms/step - loss: 0.0585 - mean_squared_logarithmic_error: 0.0558 - val_loss: 0.0522 - val_mean_squared_logarithmic_error: 0.0363\n",
            "Epoch 140/150\n",
            "5/5 [==============================] - 0s 10ms/step - loss: 0.0615 - mean_squared_logarithmic_error: 0.0648 - val_loss: 0.0520 - val_mean_squared_logarithmic_error: 0.0365\n",
            "Epoch 141/150\n",
            "5/5 [==============================] - 0s 8ms/step - loss: 0.0623 - mean_squared_logarithmic_error: 0.0611 - val_loss: 0.0519 - val_mean_squared_logarithmic_error: 0.0370\n",
            "Epoch 142/150\n",
            "5/5 [==============================] - 0s 9ms/step - loss: 0.0637 - mean_squared_logarithmic_error: 0.0640 - val_loss: 0.0524 - val_mean_squared_logarithmic_error: 0.0369\n",
            "Epoch 143/150\n",
            "5/5 [==============================] - 0s 9ms/step - loss: 0.0595 - mean_squared_logarithmic_error: 0.0576 - val_loss: 0.0523 - val_mean_squared_logarithmic_error: 0.0372\n",
            "Epoch 144/150\n",
            "5/5 [==============================] - 0s 7ms/step - loss: 0.0625 - mean_squared_logarithmic_error: 0.0625 - val_loss: 0.0528 - val_mean_squared_logarithmic_error: 0.0365\n",
            "Epoch 145/150\n",
            "5/5 [==============================] - 0s 9ms/step - loss: 0.0677 - mean_squared_logarithmic_error: 0.0680 - val_loss: 0.0525 - val_mean_squared_logarithmic_error: 0.0370\n",
            "Epoch 146/150\n",
            "5/5 [==============================] - 0s 7ms/step - loss: 0.0592 - mean_squared_logarithmic_error: 0.0593 - val_loss: 0.0524 - val_mean_squared_logarithmic_error: 0.0373\n",
            "Epoch 147/150\n",
            "5/5 [==============================] - 0s 8ms/step - loss: 0.0721 - mean_squared_logarithmic_error: 0.0733 - val_loss: 0.0519 - val_mean_squared_logarithmic_error: 0.0385\n",
            "Epoch 148/150\n",
            "5/5 [==============================] - 0s 8ms/step - loss: 0.0550 - mean_squared_logarithmic_error: 0.0515 - val_loss: 0.0518 - val_mean_squared_logarithmic_error: 0.0399\n",
            "Epoch 149/150\n",
            "5/5 [==============================] - 0s 8ms/step - loss: 0.0587 - mean_squared_logarithmic_error: 0.0593 - val_loss: 0.0518 - val_mean_squared_logarithmic_error: 0.0388\n",
            "Epoch 150/150\n",
            "5/5 [==============================] - 0s 9ms/step - loss: 0.0616 - mean_squared_logarithmic_error: 0.0604 - val_loss: 0.0526 - val_mean_squared_logarithmic_error: 0.0369\n"
          ]
        }
      ],
      "source": [
        "msle = MeanSquaredLogarithmicError()\n",
        "model.compile(\n",
        "    loss=msle, \n",
        "    optimizer=Adam(learning_rate=learning_rate), \n",
        "    metrics=[msle]\n",
        ")\n",
        "# train the model\n",
        "history = model.fit(\n",
        "    X_train, \n",
        "    y_train, \n",
        "    epochs=150, \n",
        "    batch_size=64,\n",
        "    validation_split=0.2)"
      ]
    },
    {
      "cell_type": "code",
      "execution_count": null,
      "metadata": {
        "id": "MaX4VlSDlWV7",
        "colab": {
          "base_uri": "https://localhost:8080/",
          "height": 279
        },
        "outputId": "15883004-1628-41f3-d325-3b895900ed7e"
      },
      "outputs": [
        {
          "output_type": "display_data",
          "data": {
            "text/plain": [
              "<Figure size 432x288 with 1 Axes>"
            ],
            "image/png": "[encoded data removed]"
          },
          "metadata": {
            "needs_background": "light"
          }
        }
      ],
      "source": [
        "def plot_history(history, key):\n",
        "  plt.plot(history.history[key])\n",
        "  plt.plot(history.history['val_'+key])\n",
        "  plt.xlabel(\"Epochs\")\n",
        "  plt.ylabel(key)\n",
        "  plt.legend([key, 'val_'+key])\n",
        "  plt.show()\n",
        "# Plot the history\n",
        "plot_history(history, 'mean_squared_logarithmic_error')"
      ]
    },
    {
      "cell_type": "code",
      "execution_count": null,
      "metadata": {
        "id": "ROo8H8y0l0_d",
        "colab": {
          "base_uri": "https://localhost:8080/"
        },
        "outputId": "8e7d3484-437e-413a-c246-93375af01f60"
      },
      "outputs": [
        {
          "output_type": "stream",
          "name": "stdout",
          "text": [
            "3.3254076187686166\n",
            "0.8741646135769033\n",
            "1.6238821985205014\n",
            "0.5497430839199868\n"
          ]
        }
      ],
      "source": [
        "Y_pred = model.predict(X_test)\n",
        "from sklearn.metrics import mean_squared_error\n",
        "mse = mean_squared_error(y_test, Y_pred)\n",
        "rmse = math.sqrt(mse)\n",
        "print(rmse)\n",
        "from sklearn.metrics import r2_score\n",
        "r2 = r2_score(y_test, Y_pred)\n",
        "print(r2)\n",
        "mae = mean_absolute_error(y_test,Y_pred)\n",
        "print(mae)\n",
        "mape = mean_absolute_percentage_error(y_test, Y_pred)\n",
        "print(mape)"
      ]
    }
  ],
  "metadata": {
    "colab": {
      "collapsed_sections": [],
      "name": "Minmax Scaler.ipynb",
      "provenance": []
    },
    "kernelspec": {
      "display_name": "Python 3",
      "name": "python3"
    },
    "language_info": {
      "name": "python"
    }
  },
  "nbformat": 4,
  "nbformat_minor": 0
}