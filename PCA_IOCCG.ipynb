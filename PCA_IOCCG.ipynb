{
  "cells": [
    {
      "cell_type": "code",
      "execution_count": null,
      "metadata": {
        "colab": {
          "base_uri": "https://localhost:8080/"
        },
        "id": "u2Ay_KUOlyxV",
        "outputId": "0e543353-2d95-4cbe-82bb-4d76dceb945e"
      },
      "outputs": [
        {
          "output_type": "stream",
          "name": "stdout",
          "text": [
            "Mounted at /content/drive\n"
          ]
        }
      ],
      "source": [
        "from google.colab import drive\n",
        "drive.mount('/content/drive')"
      ]
    },
    {
      "cell_type": "code",
      "execution_count": null,
      "metadata": {
        "id": "wn_vfEcWl78i"
      },
      "outputs": [],
      "source": [
        "#Imports\n",
        "import warnings\n",
        "warnings.filterwarnings(\"ignore\")\n",
        "import pandas as pd\n",
        "import numpy as np\n",
        "import matplotlib.pyplot as plt\n",
        "import seaborn as sns\n",
        "from sklearn import preprocessing\n",
        "from sklearn.linear_model import LinearRegression\n",
        "from sklearn.model_selection import train_test_split\n",
        "from sklearn.preprocessing import MinMaxScaler\n",
        "from sklearn.preprocessing import StandardScaler\n",
        "from math import sqrt\n",
        "from sklearn.metrics import mean_squared_error\n",
        "from sklearn.metrics import mean_absolute_error\n",
        "from sklearn.metrics import mean_absolute_percentage_error\n",
        "from sklearn.model_selection import GridSearchCV\n",
        "from sklearn.model_selection import KFold"
      ]
    },
    {
      "cell_type": "code",
      "execution_count": null,
      "metadata": {
        "id": "m66Ay_j3dg7v"
      },
      "outputs": [],
      "source": [
        "#Read dataset to pandas dataframe\n",
        "dataset = pd.read_excel('/content/drive/MyDrive/MTP_FINAL/Dataset-3.xlsx', sheet_name='IOCCG_simulated')"
      ]
    },
    {
      "cell_type": "code",
      "execution_count": null,
      "metadata": {
        "id": "WTSj3bJ5mBz0"
      },
      "outputs": [],
      "source": [
        "#breaking down the dataset into x feature and y target\n",
        "dataset_y=dataset['Chlorophyll']\n",
        "dataset_x=dataset.drop(['Chlorophyll'],axis=1)"
      ]
    },
    {
      "cell_type": "code",
      "execution_count": null,
      "metadata": {
        "colab": {
          "base_uri": "https://localhost:8080/"
        },
        "id": "gqx56nKOmWYh",
        "outputId": "8d569e4f-2751-43a2-e121-46a139d23838"
      },
      "outputs": [
        {
          "output_type": "execute_result",
          "data": {
            "text/plain": [
              "[0,\n",
              " 1,\n",
              " 2,\n",
              " 3,\n",
              " 4,\n",
              " 5,\n",
              " 6,\n",
              " 7,\n",
              " 8,\n",
              " 9,\n",
              " 10,\n",
              " 11,\n",
              " 12,\n",
              " 13,\n",
              " 14,\n",
              " 15,\n",
              " 16,\n",
              " 17,\n",
              " 18,\n",
              " 19,\n",
              " 20,\n",
              " 21,\n",
              " 22,\n",
              " 23,\n",
              " 24,\n",
              " 25,\n",
              " 26,\n",
              " 27,\n",
              " 28,\n",
              " 29,\n",
              " 30,\n",
              " 31,\n",
              " 32,\n",
              " 33,\n",
              " 34,\n",
              " 35,\n",
              " 36,\n",
              " 37,\n",
              " 38,\n",
              " 39,\n",
              " 40]"
            ]
          },
          "metadata": {},
          "execution_count": 5
        }
      ],
      "source": [
        "#Standardize the features\n",
        "#Create an object of StandardScaler which is present in sklearn.preprocessing\n",
        "scalar = StandardScaler()\n",
        "scaled_data = pd.DataFrame(scalar.fit_transform(dataset_x)) #scaling the data\n",
        "scaled_data\n",
        "scaled_data.columns.tolist()"
      ]
    },
    {
      "cell_type": "code",
      "execution_count": null,
      "metadata": {
        "id": "04jBvfgRGS1a"
      },
      "outputs": [],
      "source": [
        "from sklearn.decomposition import PCA\n",
        "#define PCA model to use\n",
        "pca = PCA(n_components=41)\n",
        "#fit PCA model to data\n",
        "pca_fit = pca.fit(scaled_data)"
      ]
    },
    {
      "cell_type": "code",
      "execution_count": null,
      "metadata": {
        "colab": {
          "base_uri": "https://localhost:8080/",
          "height": 497
        },
        "id": "RL9SH2anFuC-",
        "outputId": "c611b997-e552-4f37-cde9-0f641bdf489f"
      },
      "outputs": [
        {
          "output_type": "display_data",
          "data": {
            "text/plain": [
              "<Figure size 432x288 with 1 Axes>"
            ],
            "image/png": "[encoded data removed]"
          },
          "metadata": {
            "needs_background": "light"
          }
        },
        {
          "output_type": "stream",
          "name": "stdout",
          "text": [
            "[6.79234843e-01 2.52274073e-01 6.04529653e-02 6.02708953e-03\n",
            " 1.05511993e-03 5.20449308e-04 1.97175004e-04 7.11125181e-05\n",
            " 4.78309806e-05 3.07014693e-05 2.73222204e-05 1.76645125e-05\n",
            " 8.19946171e-06 7.90308265e-06 5.61949749e-06 4.47262760e-06\n",
            " 3.10389644e-06 2.61025465e-06 1.87339962e-06 1.76010676e-06\n",
            " 1.45682650e-06 1.32743135e-06 1.14446915e-06 9.51867649e-07\n",
            " 7.12497600e-07 5.29353150e-07 4.46069179e-07 4.17848414e-07\n",
            " 3.88674484e-07 2.92309061e-07 1.64411977e-07 1.05623962e-07\n",
            " 7.86091842e-08 5.38485265e-08 3.99978691e-08 9.39730032e-10\n",
            " 2.68974387e-10 6.78874482e-11 3.20171535e-11 8.57026854e-12\n",
            " 6.49961793e-12]\n"
          ]
        }
      ],
      "source": [
        "#scree test\n",
        "PC_values = np.arange(pca.n_components_) + 1\n",
        "plt.plot(PC_values, pca.explained_variance_ratio_, 'o-', linewidth=2, color='blue')\n",
        "plt.title('Scree Plot')\n",
        "plt.xlabel('Principal Component')\n",
        "plt.ylabel('Variance Explained')\n",
        "plt.show()\n",
        "print(pca.explained_variance_ratio_)"
      ]
    },
    {
      "cell_type": "markdown",
      "metadata": {
        "id": "DJJWmgcfHVCV"
      },
      "source": [
        "Observation- 99% of the variation is captured by first three principal components. Using standard scaler\n"
      ]
    },
    {
      "cell_type": "markdown",
      "metadata": {
        "id": "aUZYbh6ULQIJ"
      },
      "source": [
        "Now using standard scaler"
      ]
    },
    {
      "cell_type": "code",
      "execution_count": null,
      "metadata": {
        "colab": {
          "base_uri": "https://localhost:8080/",
          "height": 221
        },
        "id": "KZX4AvEwWFr2",
        "outputId": "1d511983-d47a-4bf4-d7ce-63bfe6dd41bc"
      },
      "outputs": [
        {
          "output_type": "execute_result",
          "data": {
            "text/plain": [
              "        PC1       PC2       PC3\n",
              "0 -5.450856  4.885989  3.426022\n",
              "1 -4.932461  1.366307  1.885736\n",
              "2 -5.088639  2.836859  2.410387\n",
              "3 -5.021705  5.229715  2.456386\n",
              "4 -5.287155  3.324261  2.851600"
            ],
            "text/html": [
              "\n",
              "  <div id=\"df-bbe25f2f-a352-4256-b847-97b4332ce64f\">\n",
              "    <div class=\"colab-df-container\">\n",
              "      <div>\n",
              "<style scoped>\n",
              "    .dataframe tbody tr th:only-of-type {\n",
              "        vertical-align: middle;\n",
              "    }\n",
              "\n",
              "    .dataframe tbody tr th {\n",
              "        vertical-align: top;\n",
              "    }\n",
              "\n",
              "    .dataframe thead th {\n",
              "        text-align: right;\n",
              "    }\n",
              "</style>\n",
              "<table border=\"1\" class=\"dataframe\">\n",
              "  <thead>\n",
              "    <tr style=\"text-align: right;\">\n",
              "      <th></th>\n",
              "      <th>PC1</th>\n",
              "      <th>PC2</th>\n",
              "      <th>PC3</th>\n",
              "    </tr>\n",
              "  </thead>\n",
              "  <tbody>\n",
              "    <tr>\n",
              "      <th>0</th>\n",
              "      <td>-5.450856</td>\n",
              "      <td>4.885989</td>\n",
              "      <td>3.426022</td>\n",
              "    </tr>\n",
              "    <tr>\n",
              "      <th>1</th>\n",
              "      <td>-4.932461</td>\n",
              "      <td>1.366307</td>\n",
              "      <td>1.885736</td>\n",
              "    </tr>\n",
              "    <tr>\n",
              "      <th>2</th>\n",
              "      <td>-5.088639</td>\n",
              "      <td>2.836859</td>\n",
              "      <td>2.410387</td>\n",
              "    </tr>\n",
              "    <tr>\n",
              "      <th>3</th>\n",
              "      <td>-5.021705</td>\n",
              "      <td>5.229715</td>\n",
              "      <td>2.456386</td>\n",
              "    </tr>\n",
              "    <tr>\n",
              "      <th>4</th>\n",
              "      <td>-5.287155</td>\n",
              "      <td>3.324261</td>\n",
              "      <td>2.851600</td>\n",
              "    </tr>\n",
              "  </tbody>\n",
              "</table>\n",
              "</div>\n",
              "      <button class=\"colab-df-convert\" onclick=\"convertToInteractive('df-bbe25f2f-a352-4256-b847-97b4332ce64f')\"\n",
              "              title=\"Convert this dataframe to an interactive table.\"\n",
              "              style=\"display:none;\">\n",
              "        \n",
              "  <svg xmlns=\"http://www.w3.org/2000/svg\" height=\"24px\"viewBox=\"0 0 24 24\"\n",
              "       width=\"24px\">\n",
              "    <path d=\"M0 0h24v24H0V0z\" fill=\"none\"/>\n",
              "    <path d=\"M18.56 5.44l.94 2.06.94-2.06 2.06-.94-2.06-.94-.94-2.06-.94 2.06-2.06.94zm-11 1L8.5 8.5l.94-2.06 2.06-.94-2.06-.94L8.5 2.5l-.94 2.06-2.06.94zm10 10l.94 2.06.94-2.06 2.06-.94-2.06-.94-.94-2.06-.94 2.06-2.06.94z\"/><path d=\"M17.41 7.96l-1.37-1.37c-.4-.4-.92-.59-1.43-.59-.52 0-1.04.2-1.43.59L10.3 9.45l-7.72 7.72c-.78.78-.78 2.05 0 2.83L4 21.41c.39.39.9.59 1.41.59.51 0 1.02-.2 1.41-.59l7.78-7.78 2.81-2.81c.8-.78.8-2.07 0-2.86zM5.41 20L4 18.59l7.72-7.72 1.47 1.35L5.41 20z\"/>\n",
              "  </svg>\n",
              "      </button>\n",
              "      \n",
              "  <style>\n",
              "    .colab-df-container {\n",
              "      display:flex;\n",
              "      flex-wrap:wrap;\n",
              "      gap: 12px;\n",
              "    }\n",
              "\n",
              "    .colab-df-convert {\n",
              "      background-color: #E8F0FE;\n",
              "      border: none;\n",
              "      border-radius: 50%;\n",
              "      cursor: pointer;\n",
              "      display: none;\n",
              "      fill: #1967D2;\n",
              "      height: 32px;\n",
              "      padding: 0 0 0 0;\n",
              "      width: 32px;\n",
              "    }\n",
              "\n",
              "    .colab-df-convert:hover {\n",
              "      background-color: #E2EBFA;\n",
              "      box-shadow: 0px 1px 2px rgba(60, 64, 67, 0.3), 0px 1px 3px 1px rgba(60, 64, 67, 0.15);\n",
              "      fill: #174EA6;\n",
              "    }\n",
              "\n",
              "    [theme=dark] .colab-df-convert {\n",
              "      background-color: #3B4455;\n",
              "      fill: #D2E3FC;\n",
              "    }\n",
              "\n",
              "    [theme=dark] .colab-df-convert:hover {\n",
              "      background-color: #434B5C;\n",
              "      box-shadow: 0px 1px 3px 1px rgba(0, 0, 0, 0.15);\n",
              "      filter: drop-shadow(0px 1px 2px rgba(0, 0, 0, 0.3));\n",
              "      fill: #FFFFFF;\n",
              "    }\n",
              "  </style>\n",
              "\n",
              "      <script>\n",
              "        const buttonEl =\n",
              "          document.querySelector('#df-bbe25f2f-a352-4256-b847-97b4332ce64f button.colab-df-convert');\n",
              "        buttonEl.style.display =\n",
              "          google.colab.kernel.accessAllowed ? 'block' : 'none';\n",
              "\n",
              "        async function convertToInteractive(key) {\n",
              "          const element = document.querySelector('#df-bbe25f2f-a352-4256-b847-97b4332ce64f');\n",
              "          const dataTable =\n",
              "            await google.colab.kernel.invokeFunction('convertToInteractive',\n",
              "                                                     [key], {});\n",
              "          if (!dataTable) return;\n",
              "\n",
              "          const docLinkHtml = 'Like what you see? Visit the ' +\n",
              "            '<a target=\"_blank\" href=https://colab.research.google.com/notebooks/data_table.ipynb>data table notebook</a>'\n",
              "            + ' to learn more about interactive tables.';\n",
              "          element.innerHTML = '';\n",
              "          dataTable['output_type'] = 'display_data';\n",
              "          await google.colab.output.renderOutput(dataTable, element);\n",
              "          const docLink = document.createElement('div');\n",
              "          docLink.innerHTML = docLinkHtml;\n",
              "          element.appendChild(docLink);\n",
              "        }\n",
              "      </script>\n",
              "    </div>\n",
              "  </div>\n",
              "  "
            ]
          },
          "metadata": {},
          "execution_count": 8
        }
      ],
      "source": [
        "\n",
        "#Applying PCA\n",
        "#Taking no. of Principal Components as 3\n",
        "pca = PCA(n_components = 3)\n",
        "pca.fit(scaled_data)\n",
        "data_pca = pca.transform(scaled_data)\n",
        "data_pca = pd.DataFrame(data_pca,columns=['PC1','PC2','PC3'])\n",
        "data_pca.head()\n"
      ]
    },
    {
      "cell_type": "code",
      "execution_count": null,
      "metadata": {
        "colab": {
          "base_uri": "https://localhost:8080/",
          "height": 306
        },
        "id": "CxvwEOGzWS_m",
        "outputId": "cb409810-4595-4de8-d8d7-85561f33f121"
      },
      "outputs": [
        {
          "output_type": "execute_result",
          "data": {
            "text/plain": [
              "<matplotlib.axes._subplots.AxesSubplot at 0x7f405fc0a1d0>"
            ]
          },
          "metadata": {},
          "execution_count": 9
        },
        {
          "output_type": "display_data",
          "data": {
            "text/plain": [
              "<Figure size 432x288 with 2 Axes>"
            ],
            "image/png": "[encoded data removed]"
          },
          "metadata": {
            "needs_background": "light"
          }
        }
      ],
      "source": [
        "sns.heatmap(data_pca.corr())"
      ]
    },
    {
      "cell_type": "code",
      "execution_count": null,
      "metadata": {
        "colab": {
          "base_uri": "https://localhost:8080/"
        },
        "id": "NhHSxS5QWabm",
        "outputId": "e107276c-1c27-4853-cd3f-0439fa45c177"
      },
      "outputs": [
        {
          "output_type": "execute_result",
          "data": {
            "text/plain": [
              "(500, 3)"
            ]
          },
          "metadata": {},
          "execution_count": 10
        }
      ],
      "source": [
        "data_pca.shape"
      ]
    },
    {
      "cell_type": "code",
      "execution_count": null,
      "metadata": {
        "id": "uNSwhGfoXk6G"
      },
      "outputs": [],
      "source": [
        "X_train, X_test, y_train, y_test = train_test_split(data_pca, dataset_y, test_size = 0.3, random_state = 0)"
      ]
    },
    {
      "cell_type": "code",
      "execution_count": null,
      "metadata": {
        "colab": {
          "base_uri": "https://localhost:8080/",
          "height": 433
        },
        "id": "0IRT_lGUcJum",
        "outputId": "b6f85c8f-c1e3-4c81-bc09-b06d8c4746d6"
      },
      "outputs": [
        {
          "output_type": "execute_result",
          "data": {
            "text/plain": [
              "           PC1       PC2       PC3\n",
              "141  -3.681471  3.909847  0.174956\n",
              "383   5.154098 -1.571589 -0.827263\n",
              "135  -3.152540  1.988167 -0.748413\n",
              "493  10.402856  1.767335  0.426045\n",
              "122  -3.622612  5.319704  0.270141\n",
              "..         ...       ...       ...\n",
              "323   2.281887  2.707605 -3.114936\n",
              "192  -1.680486  5.689398 -1.808501\n",
              "117  -4.186815  1.746055  0.820110\n",
              "47   -4.693230  2.832670  1.760165\n",
              "172  -2.572418  7.062162 -0.470480\n",
              "\n",
              "[350 rows x 3 columns]"
            ],
            "text/html": [
              "\n",
              "  <div id=\"df-a9a8fb74-4708-4ce2-915d-1396e4a4a0be\">\n",
              "    <div class=\"colab-df-container\">\n",
              "      <div>\n",
              "<style scoped>\n",
              "    .dataframe tbody tr th:only-of-type {\n",
              "        vertical-align: middle;\n",
              "    }\n",
              "\n",
              "    .dataframe tbody tr th {\n",
              "        vertical-align: top;\n",
              "    }\n",
              "\n",
              "    .dataframe thead th {\n",
              "        text-align: right;\n",
              "    }\n",
              "</style>\n",
              "<table border=\"1\" class=\"dataframe\">\n",
              "  <thead>\n",
              "    <tr style=\"text-align: right;\">\n",
              "      <th></th>\n",
              "      <th>PC1</th>\n",
              "      <th>PC2</th>\n",
              "      <th>PC3</th>\n",
              "    </tr>\n",
              "  </thead>\n",
              "  <tbody>\n",
              "    <tr>\n",
              "      <th>141</th>\n",
              "      <td>-3.681471</td>\n",
              "      <td>3.909847</td>\n",
              "      <td>0.174956</td>\n",
              "    </tr>\n",
              "    <tr>\n",
              "      <th>383</th>\n",
              "      <td>5.154098</td>\n",
              "      <td>-1.571589</td>\n",
              "      <td>-0.827263</td>\n",
              "    </tr>\n",
              "    <tr>\n",
              "      <th>135</th>\n",
              "      <td>-3.152540</td>\n",
              "      <td>1.988167</td>\n",
              "      <td>-0.748413</td>\n",
              "    </tr>\n",
              "    <tr>\n",
              "      <th>493</th>\n",
              "      <td>10.402856</td>\n",
              "      <td>1.767335</td>\n",
              "      <td>0.426045</td>\n",
              "    </tr>\n",
              "    <tr>\n",
              "      <th>122</th>\n",
              "      <td>-3.622612</td>\n",
              "      <td>5.319704</td>\n",
              "      <td>0.270141</td>\n",
              "    </tr>\n",
              "    <tr>\n",
              "      <th>...</th>\n",
              "      <td>...</td>\n",
              "      <td>...</td>\n",
              "      <td>...</td>\n",
              "    </tr>\n",
              "    <tr>\n",
              "      <th>323</th>\n",
              "      <td>2.281887</td>\n",
              "      <td>2.707605</td>\n",
              "      <td>-3.114936</td>\n",
              "    </tr>\n",
              "    <tr>\n",
              "      <th>192</th>\n",
              "      <td>-1.680486</td>\n",
              "      <td>5.689398</td>\n",
              "      <td>-1.808501</td>\n",
              "    </tr>\n",
              "    <tr>\n",
              "      <th>117</th>\n",
              "      <td>-4.186815</td>\n",
              "      <td>1.746055</td>\n",
              "      <td>0.820110</td>\n",
              "    </tr>\n",
              "    <tr>\n",
              "      <th>47</th>\n",
              "      <td>-4.693230</td>\n",
              "      <td>2.832670</td>\n",
              "      <td>1.760165</td>\n",
              "    </tr>\n",
              "    <tr>\n",
              "      <th>172</th>\n",
              "      <td>-2.572418</td>\n",
              "      <td>7.062162</td>\n",
              "      <td>-0.470480</td>\n",
              "    </tr>\n",
              "  </tbody>\n",
              "</table>\n",
              "<p>350 rows × 3 columns</p>\n",
              "</div>\n",
              "      <button class=\"colab-df-convert\" onclick=\"convertToInteractive('df-a9a8fb74-4708-4ce2-915d-1396e4a4a0be')\"\n",
              "              title=\"Convert this dataframe to an interactive table.\"\n",
              "              style=\"display:none;\">\n",
              "        \n",
              "  <svg xmlns=\"http://www.w3.org/2000/svg\" height=\"24px\"viewBox=\"0 0 24 24\"\n",
              "       width=\"24px\">\n",
              "    <path d=\"M0 0h24v24H0V0z\" fill=\"none\"/>\n",
              "    <path d=\"M18.56 5.44l.94 2.06.94-2.06 2.06-.94-2.06-.94-.94-2.06-.94 2.06-2.06.94zm-11 1L8.5 8.5l.94-2.06 2.06-.94-2.06-.94L8.5 2.5l-.94 2.06-2.06.94zm10 10l.94 2.06.94-2.06 2.06-.94-2.06-.94-.94-2.06-.94 2.06-2.06.94z\"/><path d=\"M17.41 7.96l-1.37-1.37c-.4-.4-.92-.59-1.43-.59-.52 0-1.04.2-1.43.59L10.3 9.45l-7.72 7.72c-.78.78-.78 2.05 0 2.83L4 21.41c.39.39.9.59 1.41.59.51 0 1.02-.2 1.41-.59l7.78-7.78 2.81-2.81c.8-.78.8-2.07 0-2.86zM5.41 20L4 18.59l7.72-7.72 1.47 1.35L5.41 20z\"/>\n",
              "  </svg>\n",
              "      </button>\n",
              "      \n",
              "  <style>\n",
              "    .colab-df-container {\n",
              "      display:flex;\n",
              "      flex-wrap:wrap;\n",
              "      gap: 12px;\n",
              "    }\n",
              "\n",
              "    .colab-df-convert {\n",
              "      background-color: #E8F0FE;\n",
              "      border: none;\n",
              "      border-radius: 50%;\n",
              "      cursor: pointer;\n",
              "      display: none;\n",
              "      fill: #1967D2;\n",
              "      height: 32px;\n",
              "      padding: 0 0 0 0;\n",
              "      width: 32px;\n",
              "    }\n",
              "\n",
              "    .colab-df-convert:hover {\n",
              "      background-color: #E2EBFA;\n",
              "      box-shadow: 0px 1px 2px rgba(60, 64, 67, 0.3), 0px 1px 3px 1px rgba(60, 64, 67, 0.15);\n",
              "      fill: #174EA6;\n",
              "    }\n",
              "\n",
              "    [theme=dark] .colab-df-convert {\n",
              "      background-color: #3B4455;\n",
              "      fill: #D2E3FC;\n",
              "    }\n",
              "\n",
              "    [theme=dark] .colab-df-convert:hover {\n",
              "      background-color: #434B5C;\n",
              "      box-shadow: 0px 1px 3px 1px rgba(0, 0, 0, 0.15);\n",
              "      filter: drop-shadow(0px 1px 2px rgba(0, 0, 0, 0.3));\n",
              "      fill: #FFFFFF;\n",
              "    }\n",
              "  </style>\n",
              "\n",
              "      <script>\n",
              "        const buttonEl =\n",
              "          document.querySelector('#df-a9a8fb74-4708-4ce2-915d-1396e4a4a0be button.colab-df-convert');\n",
              "        buttonEl.style.display =\n",
              "          google.colab.kernel.accessAllowed ? 'block' : 'none';\n",
              "\n",
              "        async function convertToInteractive(key) {\n",
              "          const element = document.querySelector('#df-a9a8fb74-4708-4ce2-915d-1396e4a4a0be');\n",
              "          const dataTable =\n",
              "            await google.colab.kernel.invokeFunction('convertToInteractive',\n",
              "                                                     [key], {});\n",
              "          if (!dataTable) return;\n",
              "\n",
              "          const docLinkHtml = 'Like what you see? Visit the ' +\n",
              "            '<a target=\"_blank\" href=https://colab.research.google.com/notebooks/data_table.ipynb>data table notebook</a>'\n",
              "            + ' to learn more about interactive tables.';\n",
              "          element.innerHTML = '';\n",
              "          dataTable['output_type'] = 'display_data';\n",
              "          await google.colab.output.renderOutput(dataTable, element);\n",
              "          const docLink = document.createElement('div');\n",
              "          docLink.innerHTML = docLinkHtml;\n",
              "          element.appendChild(docLink);\n",
              "        }\n",
              "      </script>\n",
              "    </div>\n",
              "  </div>\n",
              "  "
            ]
          },
          "metadata": {},
          "execution_count": 12
        }
      ],
      "source": [
        "X_train"
      ]
    },
    {
      "cell_type": "markdown",
      "metadata": {
        "id": "XRhZ38cwpQB1"
      },
      "source": [
        "                    **Linear Regression**"
      ]
    },
    {
      "cell_type": "code",
      "execution_count": null,
      "metadata": {
        "colab": {
          "base_uri": "https://localhost:8080/"
        },
        "id": "TGh7JgmDpV-J",
        "outputId": "5bc6c633-d061-4f27-b0ce-c7a705052d68"
      },
      "outputs": [
        {
          "output_type": "stream",
          "name": "stdout",
          "text": [
            "coefficient of determination: 0.8547062418921285\n",
            "intercept: 6.070796551024931\n",
            "coefficients: [ 1.40490462 -0.58945784  1.69022847]\n"
          ]
        }
      ],
      "source": [
        "from sklearn.linear_model import LinearRegression\n",
        "model_lr = LinearRegression().fit(X_train, y_train)\n",
        "r_sq = model_lr.score(X_train, y_train)\n",
        "print(f\"coefficient of determination: {r_sq}\")\n",
        "print(f\"intercept: {model_lr.intercept_}\")\n",
        "print(f\"coefficients: {model_lr.coef_}\")\n",
        "y_predicted_lr = model_lr.predict(X_test)"
      ]
    },
    {
      "cell_type": "code",
      "execution_count": null,
      "metadata": {
        "colab": {
          "base_uri": "https://localhost:8080/"
        },
        "id": "IaeCxP43pd_Y",
        "outputId": "444083da-98d4-4f9d-da92-8979ffa4350a"
      },
      "outputs": [
        {
          "output_type": "stream",
          "name": "stdout",
          "text": [
            "3.576850259154604\n",
            "0.8479081992426938\n",
            "2.318192515385669\n",
            "5.7764368392935195\n"
          ]
        }
      ],
      "source": [
        "rms = sqrt(mean_squared_error(y_test, y_predicted_lr))\n",
        "print(rms)\n",
        "r_square = model_lr.score(X_test,y_test)\n",
        "print(r_square)\n",
        "mae = mean_absolute_error(y_test,y_predicted_lr)\n",
        "print(mae)\n",
        "mape = mean_absolute_percentage_error(y_test, y_predicted_lr)\n",
        "print(mape)"
      ]
    },
    {
      "cell_type": "markdown",
      "metadata": {
        "id": "lbG8BY67pmkW"
      },
      "source": [
        "                          **Gradient Bossting Regression**"
      ]
    },
    {
      "cell_type": "code",
      "execution_count": null,
      "metadata": {
        "id": "X2SPrJt4psu4"
      },
      "outputs": [],
      "source": [
        "from sklearn.ensemble import GradientBoostingRegressor\n",
        "model_gb = GradientBoostingRegressor().fit(X_train, y_train)\n",
        "y_predicted_gb = model_gb.predict(X_test)"
      ]
    },
    {
      "cell_type": "code",
      "execution_count": null,
      "metadata": {
        "colab": {
          "base_uri": "https://localhost:8080/"
        },
        "id": "lXvqvXafpu2V",
        "outputId": "42b24283-0252-4872-e6a9-f1c2ad809100"
      },
      "outputs": [
        {
          "output_type": "stream",
          "name": "stdout",
          "text": [
            "2.968722382489831\n",
            "0.8952284287501049\n",
            "1.6030237412810087\n",
            "0.5764692852337692\n"
          ]
        }
      ],
      "source": [
        "rms = sqrt(mean_squared_error(y_test, y_predicted_gb))\n",
        "print(rms)\n",
        "r_square = model_gb.score(X_test,y_test)\n",
        "print(r_square)\n",
        "mae = mean_absolute_error(y_test,y_predicted_gb)\n",
        "print(mae)\n",
        "mape = mean_absolute_percentage_error(y_test, y_predicted_gb)\n",
        "print(mape)"
      ]
    },
    {
      "cell_type": "code",
      "execution_count": null,
      "metadata": {
        "colab": {
          "base_uri": "https://localhost:8080/"
        },
        "id": "bANXdVrhp5fG",
        "outputId": "4f37a7a6-9df9-4095-c34b-2aca8624d97e"
      },
      "outputs": [
        {
          "output_type": "execute_result",
          "data": {
            "text/plain": [
              "{'learning_rate': 0.01,\n",
              " 'max_depth': 4,\n",
              " 'n_estimators': 500,\n",
              " 'random_state': 1,\n",
              " 'subsample': 0.5}"
            ]
          },
          "metadata": {},
          "execution_count": 17
        }
      ],
      "source": [
        "#Hyperparameter tuning\n",
        "GBR=GradientBoostingRegressor()\n",
        "search_grid={'n_estimators':[500,1000,2000],'learning_rate':[.001,0.01,.1],'max_depth':[1,2,4],'subsample':[.5,.75,1],'random_state':[1]}\n",
        "search=GridSearchCV(estimator=GBR,param_grid=search_grid,scoring='neg_mean_squared_error',n_jobs=1,cv=5)\n",
        "search.fit(X_train,y_train)\n",
        "search.best_params_"
      ]
    },
    {
      "cell_type": "code",
      "execution_count": null,
      "metadata": {
        "id": "V7-k_j01p74B"
      },
      "outputs": [],
      "source": [
        "GBR2 = GradientBoostingRegressor(n_estimators=2000,learning_rate=0.01,subsample=0.5,max_depth=4,random_state=1)\n",
        "model_gbhp = GBR2.fit(X_train, y_train)\n",
        "y_predicted_gbhp = model_gbhp.predict(X_test)"
      ]
    },
    {
      "cell_type": "code",
      "execution_count": null,
      "metadata": {
        "colab": {
          "base_uri": "https://localhost:8080/"
        },
        "id": "NaXJR7lcp_K-",
        "outputId": "e4e63c87-ea1c-4f3a-9334-c9bf050b8969"
      },
      "outputs": [
        {
          "output_type": "stream",
          "name": "stdout",
          "text": [
            "3.0024729652182702\n",
            "0.8928326492835507\n",
            "1.5539075029786007\n",
            "0.45518566730396354\n"
          ]
        }
      ],
      "source": [
        "rms = sqrt(mean_squared_error(y_test, y_predicted_gbhp))\n",
        "print(rms)\n",
        "r_square = model_gbhp.score(X_test,y_test)\n",
        "print(r_square)\n",
        "mae = mean_absolute_error(y_test,y_predicted_gbhp)\n",
        "print(mae)\n",
        "mape = mean_absolute_percentage_error(y_test, y_predicted_gbhp)\n",
        "print(mape)"
      ]
    },
    {
      "cell_type": "markdown",
      "metadata": {
        "id": "KB4MEf2_sgAn"
      },
      "source": [
        "                                    **PLS** **Regression**"
      ]
    },
    {
      "cell_type": "code",
      "execution_count": null,
      "metadata": {
        "id": "uoEu7ElJskS0"
      },
      "outputs": [],
      "source": [
        "from sklearn.cross_decomposition import PLSRegression\n",
        "model_plsr = PLSRegression(n_components=41, scale=True)\n",
        "model_plsr.fit(X_train, y_train)\n",
        "y_predicted_plsr = model_plsr.predict(X_test)"
      ]
    },
    {
      "cell_type": "code",
      "execution_count": null,
      "metadata": {
        "colab": {
          "base_uri": "https://localhost:8080/"
        },
        "id": "Rd3xwbbjsnB-",
        "outputId": "c3976a7a-71a5-448a-cc82-9d6b349778d7"
      },
      "outputs": [
        {
          "output_type": "stream",
          "name": "stdout",
          "text": [
            "3.576850259154604\n",
            "0.8479081992426938\n",
            "2.3181925153856695\n",
            "5.776436839293508\n"
          ]
        }
      ],
      "source": [
        "rms = sqrt(mean_squared_error(y_test, y_predicted_plsr))\n",
        "print(rms)\n",
        "r_square = model_plsr.score(X_test,y_test)\n",
        "print(r_square)\n",
        "mae = mean_absolute_error(y_test,y_predicted_plsr)\n",
        "print(mae)\n",
        "mape = mean_absolute_percentage_error(y_test, y_predicted_plsr)\n",
        "print(mape)"
      ]
    },
    {
      "cell_type": "code",
      "execution_count": null,
      "metadata": {
        "id": "4IPu33p7sq2H"
      },
      "outputs": [],
      "source": [
        "#Hyperparameter Tuning\n",
        "r_square = []\n",
        "rms = [] #to store rmse values for different n_components\n",
        "mae = []\n",
        "mape = []\n",
        "for n_comp in range(1, 41):\n",
        "  model_plsrhp = PLSRegression(n_components=n_comp, scale=True)\n",
        "  model_plsrhp.fit(X_train, y_train)\n",
        "  y_predicted_plsrhp = model_plsrhp.predict(X_test)\n",
        "  rms_val = sqrt(mean_squared_error(y_test,y_predicted_plsrhp)) #calculate rmse\n",
        "  rms.append(rms_val) #store rmse values\n",
        "  r2 = model_plsrhp.score(X_test,y_test)\n",
        "  r_square.append(r2) #store r2 values\n",
        "  mae_1 = mean_absolute_error(y_test,y_predicted_gbhp)\n",
        "  mae.append(mae_1)\n",
        "  mape_1 = mean_absolute_percentage_error(y_test, y_predicted_gbhp)\n",
        "  mape.append(mape_1)"
      ]
    },
    {
      "cell_type": "code",
      "execution_count": null,
      "metadata": {
        "colab": {
          "base_uri": "https://localhost:8080/"
        },
        "id": "n-lueAMhsubA",
        "outputId": "2c5e2849-2bce-439e-c14d-04b675536087"
      },
      "outputs": [
        {
          "output_type": "stream",
          "name": "stdout",
          "text": [
            "3.556877815552336\n",
            "0.8496019598874897\n",
            "1.5539075029786007\n",
            "0.45518566730396354\n"
          ]
        }
      ],
      "source": [
        "print(min(rms))\n",
        "print(max(r_square))\n",
        "print(min(mae))\n",
        "print(min(mape))"
      ]
    },
    {
      "cell_type": "markdown",
      "metadata": {
        "id": "wLKXmYOMs9Lj"
      },
      "source": [
        "                                   **Random** **Forset**"
      ]
    },
    {
      "cell_type": "code",
      "execution_count": null,
      "metadata": {
        "id": "KI8WLjHYtDh9"
      },
      "outputs": [],
      "source": [
        "from sklearn.ensemble import RandomForestRegressor\n",
        "model_rfr = RandomForestRegressor(n_estimators = 500)\n",
        "model_rfr.fit(X_train,y_train)\n",
        "y_predicted_rfr = model_rfr.predict(X_test) "
      ]
    },
    {
      "cell_type": "code",
      "execution_count": null,
      "metadata": {
        "colab": {
          "base_uri": "https://localhost:8080/"
        },
        "id": "3LbLrJQXtEy7",
        "outputId": "0d47da52-8d75-4798-80cd-0314b9852a53"
      },
      "outputs": [
        {
          "output_type": "stream",
          "name": "stdout",
          "text": [
            "2.982571094926434\n",
            "0.8942486566958671\n",
            "1.5308675999999999\n",
            "0.3419786761904759\n"
          ]
        }
      ],
      "source": [
        "rms = sqrt(mean_squared_error(y_test, y_predicted_rfr))\n",
        "print(rms)\n",
        "r_square = model_rfr.score(X_test,y_test)\n",
        "print(r_square)\n",
        "mae = mean_absolute_error(y_test,y_predicted_rfr)\n",
        "print(mae)\n",
        "mape = mean_absolute_percentage_error(y_test, y_predicted_rfr)\n",
        "print(mape)"
      ]
    },
    {
      "cell_type": "code",
      "execution_count": null,
      "metadata": {
        "id": "Nkfi2RfHtUlh"
      },
      "outputs": [],
      "source": [
        "#Hyperparameter Tuning\n",
        "from sklearn.model_selection import GridSearchCV\n",
        "# Create the parameter grid based on the results of random search \n",
        "param_grid = {'bootstrap': [True],'max_depth': [80, 90, 100, 110],'max_features': [2, 3],'min_samples_leaf': [3, 4, 5],'min_samples_split': [8, 10, 12],'n_estimators': [100, 200, 300, 1000]}\n",
        "# Create a based model\n",
        "rf = RandomForestRegressor()\n",
        "# Instantiate the grid search model\n",
        "grid_search = GridSearchCV(estimator = rf, param_grid = param_grid, cv = 3, n_jobs = -1, verbose = 2)"
      ]
    },
    {
      "cell_type": "code",
      "execution_count": null,
      "metadata": {
        "colab": {
          "base_uri": "https://localhost:8080/"
        },
        "id": "4I9aj0MstYXZ",
        "outputId": "f1e8d4cf-a0bb-4cc7-c963-0a7631c00e0d"
      },
      "outputs": [
        {
          "output_type": "stream",
          "name": "stdout",
          "text": [
            "Fitting 3 folds for each of 288 candidates, totalling 864 fits\n",
            "{'bootstrap': True, 'max_depth': 100, 'max_features': 2, 'min_samples_leaf': 3, 'min_samples_split': 8, 'n_estimators': 100}\n"
          ]
        }
      ],
      "source": [
        "# Fit the grid search to the data\n",
        "grid_search.fit(X_train, y_train)\n",
        "print(grid_search.best_params_)\n",
        "model_rfrhp = grid_search.best_estimator_\n",
        "model_rfrhp.fit(X_train,y_train)\n",
        "y_predicted_rfrhp = model_rfrhp.predict(X_test)  "
      ]
    },
    {
      "cell_type": "code",
      "execution_count": null,
      "metadata": {
        "colab": {
          "base_uri": "https://localhost:8080/"
        },
        "id": "DBHjJfapjuTE",
        "outputId": "b4b39fa2-fb10-4d08-8198-bd720badc8a0"
      },
      "outputs": [
        {
          "output_type": "stream",
          "name": "stdout",
          "text": [
            "3.576850259154604\n",
            "0.896442729568292\n",
            "1.602248357954627\n",
            "0.7406943821555101\n"
          ]
        }
      ],
      "source": [
        "rms = sqrt(mean_squared_error(y_test, y_predicted_plsr))\n",
        "print(rms)\n",
        "r_square = model_rfrhp.score(X_test,y_test)\n",
        "print(r_square)\n",
        "mae = mean_absolute_error(y_test,y_predicted_rfrhp)\n",
        "print(mae)\n",
        "mape = mean_absolute_percentage_error(y_test, y_predicted_rfrhp)\n",
        "print(mape)"
      ]
    },
    {
      "cell_type": "markdown",
      "metadata": {
        "id": "hRHgEwDhu6Qi"
      },
      "source": [
        "                                            **KNN**"
      ]
    },
    {
      "cell_type": "code",
      "execution_count": null,
      "metadata": {
        "id": "6PqhjhKau9Gy"
      },
      "outputs": [],
      "source": [
        "from sklearn import neighbors\n",
        "r_square = []\n",
        "rms = []\n",
        "mae = []\n",
        "mape = []\n",
        " #to store rmse values for different k\n",
        "for K in range(20):\n",
        "    K = K+1\n",
        "    model_knn = neighbors.KNeighborsRegressor(n_neighbors = K)\n",
        "    model_knn.fit(X_train, y_train)  #fit the model\n",
        "    y_predicted_knn = model_knn.predict(X_test) #make prediction on test set\n",
        "    rms_val = sqrt(mean_squared_error(y_test,y_predicted_knn)) #calculate rmse\n",
        "    rms.append(rms_val) #store rmse values\n",
        "    r2 = model_knn.score(X_test,y_test)\n",
        "    r_square.append(r2) #store r2 values\n",
        "    mae_1 = mean_absolute_error(y_test,y_predicted_knn)\n",
        "    mae.append(mae_1)\n",
        "    mape_1 = mean_absolute_percentage_error(y_test, y_predicted_knn)\n",
        "    mape.append(mape_1)"
      ]
    },
    {
      "cell_type": "code",
      "execution_count": null,
      "metadata": {
        "colab": {
          "base_uri": "https://localhost:8080/"
        },
        "id": "ipwKwxR0u_sf",
        "outputId": "adabfa8b-7d04-46b7-cfad-0af2cd3ab40e"
      },
      "outputs": [
        {
          "output_type": "stream",
          "name": "stdout",
          "text": [
            "3.1046095583228546\n",
            "0.8854175078456505\n",
            "1.6161866666666667\n",
            "0.3207936507936508\n"
          ]
        }
      ],
      "source": [
        "print(min(rms))\n",
        "print(max(r_square))\n",
        "print(min(mae))\n",
        "print(min(mape))"
      ]
    },
    {
      "cell_type": "code",
      "execution_count": null,
      "metadata": {
        "colab": {
          "base_uri": "https://localhost:8080/",
          "height": 302
        },
        "id": "Hw7NugI9vEMa",
        "outputId": "28ee4609-4564-4205-bf21-e5c91ef11f66"
      },
      "outputs": [
        {
          "output_type": "execute_result",
          "data": {
            "text/plain": [
              "<matplotlib.axes._subplots.AxesSubplot at 0x7f405a0c3990>"
            ]
          },
          "metadata": {},
          "execution_count": 31
        },
        {
          "output_type": "display_data",
          "data": {
            "text/plain": [
              "<Figure size 432x288 with 1 Axes>"
            ],
            "image/png": "[encoded data removed]"
          },
          "metadata": {
            "needs_background": "light"
          }
        }
      ],
      "source": [
        "#plotting the rmse values against k values\n",
        "curve = pd.DataFrame(rms) #elbow curve \n",
        "curve.plot()"
      ]
    },
    {
      "cell_type": "markdown",
      "metadata": {
        "id": "dDLq8k0PvLh7"
      },
      "source": [
        "                            **SVR**"
      ]
    },
    {
      "cell_type": "code",
      "execution_count": null,
      "metadata": {
        "colab": {
          "base_uri": "https://localhost:8080/",
          "height": 629
        },
        "id": "NcNvvM5vvPSG",
        "outputId": "261dc7cc-782a-4374-9d7b-e7fe8c2667c4"
      },
      "outputs": [
        {
          "output_type": "stream",
          "name": "stdout",
          "text": [
            "{'C': 1.0, 'cache_size': 200, 'coef0': 0.0, 'degree': 3, 'epsilon': 0.1, 'gamma': 'scale', 'kernel': 'rbf', 'max_iter': -1, 'shrinking': True, 'tol': 0.001, 'verbose': False}\n"
          ]
        },
        {
          "output_type": "display_data",
          "data": {
            "text/plain": [
              "<Figure size 720x720 with 1 Axes>"
            ],
            "image/png": "[encoded data removed]"
          },
          "metadata": {
            "needs_background": "light"
          }
        }
      ],
      "source": [
        "from sklearn.svm import SVR\n",
        "model_svr = SVR(kernel = 'rbf')\n",
        "model_svr.fit(X_train, y_train)\n",
        "y_predicted_svr = model_svr.predict(X_test)\n",
        "plt.figure(figsize = (10,10))\n",
        "plt.scatter(y_test,y_predicted_svr)\n",
        "print(model_svr.get_params())"
      ]
    },
    {
      "cell_type": "code",
      "execution_count": null,
      "metadata": {
        "colab": {
          "base_uri": "https://localhost:8080/"
        },
        "id": "jrwhoNMsvSnT",
        "outputId": "2db3275b-aaff-4005-bd6a-a43539a608bf"
      },
      "outputs": [
        {
          "output_type": "stream",
          "name": "stdout",
          "text": [
            "3.850218791182103\n",
            "0.8237719231162832\n",
            "1.938460970205158\n",
            "0.7837164638487274\n"
          ]
        }
      ],
      "source": [
        "rms = sqrt(mean_squared_error(y_test, y_predicted_svr))\n",
        "print(rms)\n",
        "r_square = model_svr.score(X_test,y_test)\n",
        "print(r_square)\n",
        "mae = mean_absolute_error(y_test,y_predicted_svr)\n",
        "print(mae)\n",
        "mape = mean_absolute_percentage_error(y_test, y_predicted_svr)\n",
        "print(mape)"
      ]
    },
    {
      "cell_type": "code",
      "execution_count": null,
      "metadata": {
        "colab": {
          "base_uri": "https://localhost:8080/"
        },
        "id": "lkOSlTMDvVO0",
        "outputId": "ac5e0e5d-45ce-4141-849b-1b328f600600"
      },
      "outputs": [
        {
          "output_type": "stream",
          "name": "stdout",
          "text": [
            "{'C': 100.0, 'epsilon': 1, 'gamma': 0.01, 'kernel': 'rbf'}\n"
          ]
        }
      ],
      "source": [
        "#Hyperparameter Tuning\n",
        "c_range = np.logspace(-2, 2, 5)\n",
        "gamma_range = np.logspace(-2, 2, 5)\n",
        "parameters = {'kernel': ['rbf'], 'C': c_range,'gamma': gamma_range,'epsilon':[1000,100,10,1,0.1,0.01]}\n",
        "svr = SVR()\n",
        "grid_search = GridSearchCV(svr, parameters)\n",
        "grid_search.fit(X_train,y_train)\n",
        "print(grid_search.best_params_)"
      ]
    },
    {
      "cell_type": "code",
      "execution_count": null,
      "metadata": {
        "id": "9PDTTxYCvfav"
      },
      "outputs": [],
      "source": [
        "model_svrhp = grid_search.best_estimator_\n",
        "model_svrhp.fit(X_train,y_train)\n",
        "y_predicted_svrhp = model_svrhp.predict(X_test)"
      ]
    },
    {
      "cell_type": "code",
      "execution_count": null,
      "metadata": {
        "colab": {
          "base_uri": "https://localhost:8080/"
        },
        "id": "NcLsmGQJvk6f",
        "outputId": "4401a35f-8ea2-45dd-c2b2-dd6aba5699ff"
      },
      "outputs": [
        {
          "output_type": "stream",
          "name": "stdout",
          "text": [
            "2.6150971758824153\n",
            "0.9187019840737409\n",
            "1.5710535462187538\n",
            "3.21868471617655\n"
          ]
        }
      ],
      "source": [
        "rms = sqrt(mean_squared_error(y_test, y_predicted_svrhp))\n",
        "print(rms)\n",
        "r_square = model_svrhp.score(X_test,y_test)\n",
        "print(r_square)\n",
        "mae = mean_absolute_error(y_test,y_predicted_svrhp)\n",
        "print(mae)\n",
        "mape = mean_absolute_percentage_error(y_test, y_predicted_svrhp)\n",
        "print(mape)"
      ]
    },
    {
      "cell_type": "markdown",
      "metadata": {
        "id": "0wUb1-CCwDwl"
      },
      "source": [
        "                                    **AdaBoost**"
      ]
    },
    {
      "cell_type": "code",
      "execution_count": null,
      "metadata": {
        "id": "hQIQBqLUwHpE"
      },
      "outputs": [],
      "source": [
        "from sklearn.ensemble import AdaBoostRegressor\n",
        "adb = AdaBoostRegressor()\n",
        "model_abr = adb.fit(X_train, y_train)\n",
        "y_predicted_abr = model_abr.predict(X_test)"
      ]
    },
    {
      "cell_type": "code",
      "execution_count": null,
      "metadata": {
        "colab": {
          "base_uri": "https://localhost:8080/"
        },
        "id": "u7Rcpe63wJ8F",
        "outputId": "26203c61-d55b-48ea-d968-3e024005afd8"
      },
      "outputs": [
        {
          "output_type": "stream",
          "name": "stdout",
          "text": [
            "3.635704784517515\n",
            "0.8428618966856642\n",
            "2.3656577401735643\n",
            "3.914520111994531\n"
          ]
        }
      ],
      "source": [
        "rms = sqrt(mean_squared_error(y_test, y_predicted_abr))\n",
        "print(rms)\n",
        "r_square = model_abr.score(X_test,y_test)\n",
        "print(r_square)\n",
        "mae = mean_absolute_error(y_test,y_predicted_abr)\n",
        "print(mae)\n",
        "mape = mean_absolute_percentage_error(y_test, y_predicted_abr)\n",
        "print(mape)"
      ]
    },
    {
      "cell_type": "code",
      "execution_count": null,
      "metadata": {
        "id": "66CBkAXGwkuT"
      },
      "outputs": [],
      "source": [
        "#Hyperparametrer Tuning\n",
        "param_grid = {'n_estimators':list(range(0, 1000, 100)), 'learning_rate':[100,10,1,0.1, 0.01, 0.001]}\n",
        "grid_search = GridSearchCV(estimator=adb, param_grid=param_grid, scoring='neg_mean_squared_error', n_jobs=1, cv=5)"
      ]
    },
    {
      "cell_type": "code",
      "execution_count": null,
      "metadata": {
        "colab": {
          "base_uri": "https://localhost:8080/"
        },
        "id": "UFZJvX5awlsA",
        "outputId": "8ce6dba4-142f-4d1d-bfef-0897e0bf1d63"
      },
      "outputs": [
        {
          "output_type": "stream",
          "name": "stdout",
          "text": [
            "{'learning_rate': 1, 'n_estimators': 700}\n"
          ]
        }
      ],
      "source": [
        "#fit the data\n",
        "grid_search.fit(X_train, y_train)\n",
        "print(grid_search.best_params_)\n",
        "model_adbhp = grid_search.best_estimator_\n",
        "model_adbhp.fit(X_train,y_train)\n",
        "y_predicted_abrhp = model_adbhp.predict(X_test)  "
      ]
    },
    {
      "cell_type": "code",
      "execution_count": null,
      "metadata": {
        "colab": {
          "base_uri": "https://localhost:8080/"
        },
        "id": "IaMdL_6Dwo-P",
        "outputId": "d3ae5e78-5bcf-4d03-93e5-c7b5be42ac5d"
      },
      "outputs": [
        {
          "output_type": "stream",
          "name": "stdout",
          "text": [
            "3.696158242010525\n",
            "0.8375927562876581\n",
            "2.3809072355989165\n",
            "4.682673764891027\n"
          ]
        }
      ],
      "source": [
        "rms = sqrt(mean_squared_error(y_test, y_predicted_abrhp))\n",
        "print(rms)\n",
        "r_square = model_adbhp.score(X_test,y_test)\n",
        "print(r_square)\n",
        "mae = mean_absolute_error(y_test,y_predicted_abrhp)\n",
        "print(mae)\n",
        "mape = mean_absolute_percentage_error(y_test, y_predicted_abrhp)\n",
        "print(mape)"
      ]
    },
    {
      "cell_type": "markdown",
      "metadata": {
        "id": "-J49H-pLxGdE"
      },
      "source": [
        "                                **Ridge & Lasso** **Regression**"
      ]
    },
    {
      "cell_type": "code",
      "execution_count": null,
      "metadata": {
        "colab": {
          "base_uri": "https://localhost:8080/"
        },
        "id": "eh8_xyDVxBeN",
        "outputId": "6bf21d43-2531-4548-8e91-0203713dae2c"
      },
      "outputs": [
        {
          "output_type": "execute_result",
          "data": {
            "text/plain": [
              "GridSearchCV(cv=5, estimator=Ridge(),\n",
              "             param_grid={'alpha': [1e-15, 1e-10, 1e-08, 0.0001, 0.001, 0.01, 1,\n",
              "                                   5, 10, 20]},\n",
              "             scoring='neg_mean_squared_error')"
            ]
          },
          "metadata": {},
          "execution_count": 42
        }
      ],
      "source": [
        "#Ridge Regression, using Grid Search CV to find the best parameter for alpha\n",
        "from sklearn.model_selection import cross_val_score\n",
        "from sklearn.model_selection import GridSearchCV\n",
        "from sklearn.linear_model import Ridge\n",
        "ridge = Ridge()\n",
        "parameters = {\"alpha\":[1e-15, 1e-10, 1e-8, 1e-4, 1e-3, 1e-2, 1, 5, 10, 20]}\n",
        "ridge_regression = GridSearchCV(ridge, parameters, scoring='neg_mean_squared_error', cv=5)\n",
        "ridge_regression.fit(X_train, y_train)"
      ]
    },
    {
      "cell_type": "code",
      "execution_count": null,
      "metadata": {
        "colab": {
          "base_uri": "https://localhost:8080/"
        },
        "id": "NYJjF8cRxPbM",
        "outputId": "bf764328-0cbc-423e-a94c-9b42262494d1"
      },
      "outputs": [
        {
          "output_type": "stream",
          "name": "stdout",
          "text": [
            "{'alpha': 5}\n"
          ]
        }
      ],
      "source": [
        "print(ridge_regression.best_params_)"
      ]
    },
    {
      "cell_type": "code",
      "execution_count": null,
      "metadata": {
        "id": "6mFgd6M_xSe_"
      },
      "outputs": [],
      "source": [
        "model_rr = Ridge(alpha=1).fit(X_train,y_train)\n",
        "y_predicted_rr = model_rr.predict(X_test)"
      ]
    },
    {
      "cell_type": "code",
      "execution_count": null,
      "metadata": {
        "colab": {
          "base_uri": "https://localhost:8080/"
        },
        "id": "ub8FceIyxT1A",
        "outputId": "896444de-8fa6-40d3-c5af-8075cc1413cf"
      },
      "outputs": [
        {
          "output_type": "stream",
          "name": "stdout",
          "text": [
            "3.577496192272326\n",
            "0.8478532626395561\n",
            "2.3181625751215194\n",
            "5.7655883263823355\n"
          ]
        }
      ],
      "source": [
        "rms = sqrt(mean_squared_error(y_test, y_predicted_rr))\n",
        "print(rms)\n",
        "r_square = model_rr.score(X_test,y_test)\n",
        "print(r_square)\n",
        "mae = mean_absolute_error(y_test,y_predicted_rr)\n",
        "print(mae)\n",
        "mape = mean_absolute_percentage_error(y_test, y_predicted_rr)\n",
        "print(mape)"
      ]
    },
    {
      "cell_type": "code",
      "execution_count": null,
      "metadata": {
        "colab": {
          "base_uri": "https://localhost:8080/"
        },
        "id": "8E4Y68XO9N_0",
        "outputId": "46cefdae-062c-4218-e794-ceb1d4a65818"
      },
      "outputs": [
        {
          "output_type": "execute_result",
          "data": {
            "text/plain": [
              "GridSearchCV(cv=5, estimator=Lasso(),\n",
              "             param_grid={'alpha': [1e-15, 1e-10, 1e-08, 0.0001, 0.001, 0.01, 1,\n",
              "                                   5, 10, 20]},\n",
              "             scoring='neg_mean_squared_error')"
            ]
          },
          "metadata": {},
          "execution_count": 46
        }
      ],
      "source": [
        "#Lasso Regression, using Grid Search CV to find the best parameter for alpha\n",
        "from sklearn.linear_model import Lasso\n",
        "lasso = Lasso()\n",
        "parameters = {\"alpha\":[1e-15, 1e-10, 1e-8, 1e-4, 1e-3, 1e-2, 1, 5, 10, 20]}\n",
        "lasso_regression = GridSearchCV(lasso, parameters, scoring='neg_mean_squared_error', cv=5)\n",
        "lasso_regression.fit(X_train, y_train)"
      ]
    },
    {
      "cell_type": "code",
      "execution_count": null,
      "metadata": {
        "colab": {
          "base_uri": "https://localhost:8080/"
        },
        "id": "VyrUMcYfxZz1",
        "outputId": "8af7aebd-4a99-487c-cb5f-1ebfb05ce90a"
      },
      "outputs": [
        {
          "output_type": "stream",
          "name": "stdout",
          "text": [
            "{'alpha': 0.01}\n"
          ]
        }
      ],
      "source": [
        "print(lasso_regression.best_params_)"
      ]
    },
    {
      "cell_type": "code",
      "execution_count": null,
      "metadata": {
        "id": "droX73lSxv95"
      },
      "outputs": [],
      "source": [
        "model_lr = Lasso(alpha=0.01).fit(X_train,y_train)\n",
        "y_predicted_lr = model_lr.predict(X_test)"
      ]
    },
    {
      "cell_type": "code",
      "execution_count": null,
      "metadata": {
        "colab": {
          "base_uri": "https://localhost:8080/"
        },
        "id": "7pxEIaBFxxWJ",
        "outputId": "0c7de75c-ea9c-4c96-bf31-22a86e7b1de2"
      },
      "outputs": [
        {
          "output_type": "stream",
          "name": "stdout",
          "text": [
            "3.5785694019255074\n",
            "0.8477619642395771\n",
            "2.318069482377683\n",
            "5.757745436033167\n"
          ]
        }
      ],
      "source": [
        "rms = sqrt(mean_squared_error(y_test, y_predicted_lr))\n",
        "print(rms)\n",
        "r_square = model_lr.score(X_test,y_test)\n",
        "print(r_square)\n",
        "mae = mean_absolute_error(y_test,y_predicted_lr)\n",
        "print(mae)\n",
        "mape = mean_absolute_percentage_error(y_test, y_predicted_lr)\n",
        "print(mape)"
      ]
    },
    {
      "cell_type": "markdown",
      "metadata": {
        "id": "3O9vN6CMxznN"
      },
      "source": [
        "                                    **ANN**  "
      ]
    },
    {
      "cell_type": "code",
      "execution_count": null,
      "metadata": {
        "id": "oN9wH_ebx4YA"
      },
      "outputs": [],
      "source": [
        "import math\n",
        "import tensorflow as tf\n",
        "import matplotlib.pyplot as plt\n",
        "from tensorflow.keras import Model\n",
        "from tensorflow.keras import Sequential\n",
        "from tensorflow.keras.optimizers import Adam\n",
        "from sklearn.preprocessing import StandardScaler\n",
        "from tensorflow.keras.layers import Dense, Dropout\n",
        "from sklearn.model_selection import train_test_split\n",
        "from tensorflow.keras.losses import MeanSquaredLogarithmicError"
      ]
    },
    {
      "cell_type": "code",
      "execution_count": null,
      "metadata": {
        "id": "g1O3l-rFyC1D"
      },
      "outputs": [],
      "source": [
        "input_unit = 41\n",
        "hidden_units2 = 10\n",
        "learning_rate = 0.008\n",
        "# Creating model using the Sequential in tensorflow\n",
        "def build_model_using_sequential():\n",
        "  model = Sequential([\n",
        "    Dense(input_unit, kernel_initializer='normal', activation='relu'),\n",
        "    Dropout(0.4),\n",
        "    # Dense(hidden_units2, kernel_initializer='normal', activation='relu'),\n",
        "    Dense(1, kernel_initializer='normal', activation='linear')\n",
        "  ])\n",
        "  return model\n",
        "# build the model\n",
        "model = build_model_using_sequential()"
      ]
    },
    {
      "cell_type": "code",
      "execution_count": null,
      "metadata": {
        "colab": {
          "base_uri": "https://localhost:8080/"
        },
        "id": "qn8lJBimyAgY",
        "outputId": "9a29ced5-4754-4054-b9f3-14b62a613443"
      },
      "outputs": [
        {
          "output_type": "stream",
          "name": "stdout",
          "text": [
            "Epoch 1/150\n",
            "5/5 [==============================] - 1s 55ms/step - loss: 2.5509 - mean_squared_logarithmic_error: 2.3877 - val_loss: 2.0586 - val_mean_squared_logarithmic_error: 1.2786\n",
            "Epoch 2/150\n",
            "5/5 [==============================] - 0s 9ms/step - loss: 1.8207 - mean_squared_logarithmic_error: 1.7674 - val_loss: 1.4013 - val_mean_squared_logarithmic_error: 0.8500\n",
            "Epoch 3/150\n",
            "5/5 [==============================] - 0s 9ms/step - loss: 1.2484 - mean_squared_logarithmic_error: 1.2077 - val_loss: 0.8706 - val_mean_squared_logarithmic_error: 0.5143\n",
            "Epoch 4/150\n",
            "5/5 [==============================] - 0s 9ms/step - loss: 0.7980 - mean_squared_logarithmic_error: 0.8075 - val_loss: 0.5158 - val_mean_squared_logarithmic_error: 0.2972\n",
            "Epoch 5/150\n",
            "5/5 [==============================] - 0s 10ms/step - loss: 0.4350 - mean_squared_logarithmic_error: 0.4252 - val_loss: 0.3063 - val_mean_squared_logarithmic_error: 0.1753\n",
            "Epoch 6/150\n",
            "5/5 [==============================] - 0s 9ms/step - loss: 0.2701 - mean_squared_logarithmic_error: 0.2461 - val_loss: 0.1938 - val_mean_squared_logarithmic_error: 0.1153\n",
            "Epoch 7/150\n",
            "5/5 [==============================] - 0s 9ms/step - loss: 0.1904 - mean_squared_logarithmic_error: 0.1916 - val_loss: 0.1379 - val_mean_squared_logarithmic_error: 0.0878\n",
            "Epoch 8/150\n",
            "5/5 [==============================] - 0s 9ms/step - loss: 0.1383 - mean_squared_logarithmic_error: 0.1498 - val_loss: 0.1142 - val_mean_squared_logarithmic_error: 0.0765\n",
            "Epoch 9/150\n",
            "5/5 [==============================] - 0s 8ms/step - loss: 0.1136 - mean_squared_logarithmic_error: 0.1163 - val_loss: 0.1041 - val_mean_squared_logarithmic_error: 0.0710\n",
            "Epoch 10/150\n",
            "5/5 [==============================] - 0s 8ms/step - loss: 0.1083 - mean_squared_logarithmic_error: 0.1158 - val_loss: 0.0998 - val_mean_squared_logarithmic_error: 0.0682\n",
            "Epoch 11/150\n",
            "5/5 [==============================] - 0s 9ms/step - loss: 0.1068 - mean_squared_logarithmic_error: 0.1125 - val_loss: 0.0974 - val_mean_squared_logarithmic_error: 0.0654\n",
            "Epoch 12/150\n",
            "5/5 [==============================] - 0s 9ms/step - loss: 0.0954 - mean_squared_logarithmic_error: 0.0917 - val_loss: 0.0936 - val_mean_squared_logarithmic_error: 0.0628\n",
            "Epoch 13/150\n",
            "5/5 [==============================] - 0s 11ms/step - loss: 0.0847 - mean_squared_logarithmic_error: 0.0804 - val_loss: 0.0888 - val_mean_squared_logarithmic_error: 0.0596\n",
            "Epoch 14/150\n",
            "5/5 [==============================] - 0s 10ms/step - loss: 0.0866 - mean_squared_logarithmic_error: 0.0840 - val_loss: 0.0826 - val_mean_squared_logarithmic_error: 0.0559\n",
            "Epoch 15/150\n",
            "5/5 [==============================] - 0s 9ms/step - loss: 0.0846 - mean_squared_logarithmic_error: 0.0835 - val_loss: 0.0770 - val_mean_squared_logarithmic_error: 0.0530\n",
            "Epoch 16/150\n",
            "5/5 [==============================] - 0s 9ms/step - loss: 0.0752 - mean_squared_logarithmic_error: 0.0806 - val_loss: 0.0723 - val_mean_squared_logarithmic_error: 0.0500\n",
            "Epoch 17/150\n",
            "5/5 [==============================] - 0s 9ms/step - loss: 0.0800 - mean_squared_logarithmic_error: 0.0787 - val_loss: 0.0684 - val_mean_squared_logarithmic_error: 0.0468\n",
            "Epoch 18/150\n",
            "5/5 [==============================] - 0s 9ms/step - loss: 0.0812 - mean_squared_logarithmic_error: 0.0846 - val_loss: 0.0659 - val_mean_squared_logarithmic_error: 0.0445\n",
            "Epoch 19/150\n",
            "5/5 [==============================] - 0s 8ms/step - loss: 0.0727 - mean_squared_logarithmic_error: 0.0708 - val_loss: 0.0653 - val_mean_squared_logarithmic_error: 0.0441\n",
            "Epoch 20/150\n",
            "5/5 [==============================] - 0s 9ms/step - loss: 0.0867 - mean_squared_logarithmic_error: 0.0816 - val_loss: 0.0649 - val_mean_squared_logarithmic_error: 0.0435\n",
            "Epoch 21/150\n",
            "5/5 [==============================] - 0s 11ms/step - loss: 0.0808 - mean_squared_logarithmic_error: 0.0833 - val_loss: 0.0637 - val_mean_squared_logarithmic_error: 0.0416\n",
            "Epoch 22/150\n",
            "5/5 [==============================] - 0s 9ms/step - loss: 0.0720 - mean_squared_logarithmic_error: 0.0690 - val_loss: 0.0618 - val_mean_squared_logarithmic_error: 0.0392\n",
            "Epoch 23/150\n",
            "5/5 [==============================] - 0s 11ms/step - loss: 0.0903 - mean_squared_logarithmic_error: 0.0868 - val_loss: 0.0604 - val_mean_squared_logarithmic_error: 0.0377\n",
            "Epoch 24/150\n",
            "5/5 [==============================] - 0s 9ms/step - loss: 0.0777 - mean_squared_logarithmic_error: 0.0802 - val_loss: 0.0609 - val_mean_squared_logarithmic_error: 0.0376\n",
            "Epoch 25/150\n",
            "5/5 [==============================] - 0s 9ms/step - loss: 0.0741 - mean_squared_logarithmic_error: 0.0705 - val_loss: 0.0617 - val_mean_squared_logarithmic_error: 0.0382\n",
            "Epoch 26/150\n",
            "5/5 [==============================] - 0s 9ms/step - loss: 0.0809 - mean_squared_logarithmic_error: 0.0836 - val_loss: 0.0619 - val_mean_squared_logarithmic_error: 0.0385\n",
            "Epoch 27/150\n",
            "5/5 [==============================] - 0s 9ms/step - loss: 0.0676 - mean_squared_logarithmic_error: 0.0665 - val_loss: 0.0617 - val_mean_squared_logarithmic_error: 0.0385\n",
            "Epoch 28/150\n",
            "5/5 [==============================] - 0s 9ms/step - loss: 0.0718 - mean_squared_logarithmic_error: 0.0772 - val_loss: 0.0606 - val_mean_squared_logarithmic_error: 0.0378\n",
            "Epoch 29/150\n",
            "5/5 [==============================] - 0s 10ms/step - loss: 0.0781 - mean_squared_logarithmic_error: 0.0799 - val_loss: 0.0602 - val_mean_squared_logarithmic_error: 0.0378\n",
            "Epoch 30/150\n",
            "5/5 [==============================] - 0s 9ms/step - loss: 0.0742 - mean_squared_logarithmic_error: 0.0830 - val_loss: 0.0589 - val_mean_squared_logarithmic_error: 0.0368\n",
            "Epoch 31/150\n",
            "5/5 [==============================] - 0s 9ms/step - loss: 0.0702 - mean_squared_logarithmic_error: 0.0676 - val_loss: 0.0590 - val_mean_squared_logarithmic_error: 0.0369\n",
            "Epoch 32/150\n",
            "5/5 [==============================] - 0s 12ms/step - loss: 0.0786 - mean_squared_logarithmic_error: 0.0811 - val_loss: 0.0587 - val_mean_squared_logarithmic_error: 0.0366\n",
            "Epoch 33/150\n",
            "5/5 [==============================] - 0s 10ms/step - loss: 0.0646 - mean_squared_logarithmic_error: 0.0621 - val_loss: 0.0578 - val_mean_squared_logarithmic_error: 0.0359\n",
            "Epoch 34/150\n",
            "5/5 [==============================] - 0s 11ms/step - loss: 0.0775 - mean_squared_logarithmic_error: 0.0731 - val_loss: 0.0580 - val_mean_squared_logarithmic_error: 0.0355\n",
            "Epoch 35/150\n",
            "5/5 [==============================] - 0s 9ms/step - loss: 0.0719 - mean_squared_logarithmic_error: 0.0740 - val_loss: 0.0593 - val_mean_squared_logarithmic_error: 0.0363\n",
            "Epoch 36/150\n",
            "5/5 [==============================] - 0s 9ms/step - loss: 0.0718 - mean_squared_logarithmic_error: 0.0693 - val_loss: 0.0590 - val_mean_squared_logarithmic_error: 0.0361\n",
            "Epoch 37/150\n",
            "5/5 [==============================] - 0s 9ms/step - loss: 0.0789 - mean_squared_logarithmic_error: 0.0744 - val_loss: 0.0583 - val_mean_squared_logarithmic_error: 0.0359\n",
            "Epoch 38/150\n",
            "5/5 [==============================] - 0s 8ms/step - loss: 0.0742 - mean_squared_logarithmic_error: 0.0730 - val_loss: 0.0573 - val_mean_squared_logarithmic_error: 0.0355\n",
            "Epoch 39/150\n",
            "5/5 [==============================] - 0s 9ms/step - loss: 0.0702 - mean_squared_logarithmic_error: 0.0699 - val_loss: 0.0585 - val_mean_squared_logarithmic_error: 0.0365\n",
            "Epoch 40/150\n",
            "5/5 [==============================] - 0s 9ms/step - loss: 0.0716 - mean_squared_logarithmic_error: 0.0694 - val_loss: 0.0602 - val_mean_squared_logarithmic_error: 0.0373\n",
            "Epoch 41/150\n",
            "5/5 [==============================] - 0s 10ms/step - loss: 0.0734 - mean_squared_logarithmic_error: 0.0670 - val_loss: 0.0608 - val_mean_squared_logarithmic_error: 0.0376\n",
            "Epoch 42/150\n",
            "5/5 [==============================] - 0s 12ms/step - loss: 0.0697 - mean_squared_logarithmic_error: 0.0767 - val_loss: 0.0601 - val_mean_squared_logarithmic_error: 0.0371\n",
            "Epoch 43/150\n",
            "5/5 [==============================] - 0s 10ms/step - loss: 0.0684 - mean_squared_logarithmic_error: 0.0726 - val_loss: 0.0602 - val_mean_squared_logarithmic_error: 0.0372\n",
            "Epoch 44/150\n",
            "5/5 [==============================] - 0s 10ms/step - loss: 0.0695 - mean_squared_logarithmic_error: 0.0714 - val_loss: 0.0617 - val_mean_squared_logarithmic_error: 0.0382\n",
            "Epoch 45/150\n",
            "5/5 [==============================] - 0s 9ms/step - loss: 0.0672 - mean_squared_logarithmic_error: 0.0700 - val_loss: 0.0605 - val_mean_squared_logarithmic_error: 0.0375\n",
            "Epoch 46/150\n",
            "5/5 [==============================] - 0s 9ms/step - loss: 0.0675 - mean_squared_logarithmic_error: 0.0615 - val_loss: 0.0570 - val_mean_squared_logarithmic_error: 0.0356\n",
            "Epoch 47/150\n",
            "5/5 [==============================] - 0s 10ms/step - loss: 0.0606 - mean_squared_logarithmic_error: 0.0603 - val_loss: 0.0559 - val_mean_squared_logarithmic_error: 0.0351\n",
            "Epoch 48/150\n",
            "5/5 [==============================] - 0s 8ms/step - loss: 0.0671 - mean_squared_logarithmic_error: 0.0659 - val_loss: 0.0557 - val_mean_squared_logarithmic_error: 0.0349\n",
            "Epoch 49/150\n",
            "5/5 [==============================] - 0s 10ms/step - loss: 0.0770 - mean_squared_logarithmic_error: 0.0743 - val_loss: 0.0567 - val_mean_squared_logarithmic_error: 0.0359\n",
            "Epoch 50/150\n",
            "5/5 [==============================] - 0s 9ms/step - loss: 0.0676 - mean_squared_logarithmic_error: 0.0663 - val_loss: 0.0579 - val_mean_squared_logarithmic_error: 0.0366\n",
            "Epoch 51/150\n",
            "5/5 [==============================] - 0s 10ms/step - loss: 0.0661 - mean_squared_logarithmic_error: 0.0721 - val_loss: 0.0572 - val_mean_squared_logarithmic_error: 0.0360\n",
            "Epoch 52/150\n",
            "5/5 [==============================] - 0s 9ms/step - loss: 0.0817 - mean_squared_logarithmic_error: 0.0862 - val_loss: 0.0578 - val_mean_squared_logarithmic_error: 0.0368\n",
            "Epoch 53/150\n",
            "5/5 [==============================] - 0s 9ms/step - loss: 0.0768 - mean_squared_logarithmic_error: 0.0785 - val_loss: 0.0578 - val_mean_squared_logarithmic_error: 0.0368\n",
            "Epoch 54/150\n",
            "5/5 [==============================] - 0s 11ms/step - loss: 0.0652 - mean_squared_logarithmic_error: 0.0631 - val_loss: 0.0581 - val_mean_squared_logarithmic_error: 0.0368\n",
            "Epoch 55/150\n",
            "5/5 [==============================] - 0s 10ms/step - loss: 0.0650 - mean_squared_logarithmic_error: 0.0656 - val_loss: 0.0602 - val_mean_squared_logarithmic_error: 0.0372\n",
            "Epoch 56/150\n",
            "5/5 [==============================] - 0s 10ms/step - loss: 0.0724 - mean_squared_logarithmic_error: 0.0696 - val_loss: 0.0591 - val_mean_squared_logarithmic_error: 0.0362\n",
            "Epoch 57/150\n",
            "5/5 [==============================] - 0s 9ms/step - loss: 0.0708 - mean_squared_logarithmic_error: 0.0673 - val_loss: 0.0580 - val_mean_squared_logarithmic_error: 0.0356\n",
            "Epoch 58/150\n",
            "5/5 [==============================] - 0s 9ms/step - loss: 0.0707 - mean_squared_logarithmic_error: 0.0647 - val_loss: 0.0584 - val_mean_squared_logarithmic_error: 0.0363\n",
            "Epoch 59/150\n",
            "5/5 [==============================] - 0s 8ms/step - loss: 0.0627 - mean_squared_logarithmic_error: 0.0637 - val_loss: 0.0583 - val_mean_squared_logarithmic_error: 0.0368\n",
            "Epoch 60/150\n",
            "5/5 [==============================] - 0s 9ms/step - loss: 0.0693 - mean_squared_logarithmic_error: 0.0672 - val_loss: 0.0574 - val_mean_squared_logarithmic_error: 0.0364\n",
            "Epoch 61/150\n",
            "5/5 [==============================] - 0s 9ms/step - loss: 0.0667 - mean_squared_logarithmic_error: 0.0671 - val_loss: 0.0556 - val_mean_squared_logarithmic_error: 0.0372\n",
            "Epoch 62/150\n",
            "5/5 [==============================] - 0s 11ms/step - loss: 0.0682 - mean_squared_logarithmic_error: 0.0672 - val_loss: 0.0561 - val_mean_squared_logarithmic_error: 0.0376\n",
            "Epoch 63/150\n",
            "5/5 [==============================] - 0s 8ms/step - loss: 0.0692 - mean_squared_logarithmic_error: 0.0663 - val_loss: 0.0583 - val_mean_squared_logarithmic_error: 0.0386\n",
            "Epoch 64/150\n",
            "5/5 [==============================] - 0s 9ms/step - loss: 0.0677 - mean_squared_logarithmic_error: 0.0748 - val_loss: 0.0565 - val_mean_squared_logarithmic_error: 0.0362\n",
            "Epoch 65/150\n",
            "5/5 [==============================] - 0s 9ms/step - loss: 0.0600 - mean_squared_logarithmic_error: 0.0589 - val_loss: 0.0560 - val_mean_squared_logarithmic_error: 0.0351\n",
            "Epoch 66/150\n",
            "5/5 [==============================] - 0s 13ms/step - loss: 0.0725 - mean_squared_logarithmic_error: 0.0754 - val_loss: 0.0559 - val_mean_squared_logarithmic_error: 0.0344\n",
            "Epoch 67/150\n",
            "5/5 [==============================] - 0s 9ms/step - loss: 0.0647 - mean_squared_logarithmic_error: 0.0706 - val_loss: 0.0574 - val_mean_squared_logarithmic_error: 0.0354\n",
            "Epoch 68/150\n",
            "5/5 [==============================] - 0s 10ms/step - loss: 0.0769 - mean_squared_logarithmic_error: 0.0750 - val_loss: 0.0609 - val_mean_squared_logarithmic_error: 0.0376\n",
            "Epoch 69/150\n",
            "5/5 [==============================] - 0s 10ms/step - loss: 0.0664 - mean_squared_logarithmic_error: 0.0730 - val_loss: 0.0601 - val_mean_squared_logarithmic_error: 0.0370\n",
            "Epoch 70/150\n",
            "5/5 [==============================] - 0s 9ms/step - loss: 0.0570 - mean_squared_logarithmic_error: 0.0592 - val_loss: 0.0606 - val_mean_squared_logarithmic_error: 0.0383\n",
            "Epoch 71/150\n",
            "5/5 [==============================] - 0s 10ms/step - loss: 0.0628 - mean_squared_logarithmic_error: 0.0586 - val_loss: 0.0591 - val_mean_squared_logarithmic_error: 0.0404\n",
            "Epoch 72/150\n",
            "5/5 [==============================] - 0s 11ms/step - loss: 0.0614 - mean_squared_logarithmic_error: 0.0656 - val_loss: 0.0592 - val_mean_squared_logarithmic_error: 0.0424\n",
            "Epoch 73/150\n",
            "5/5 [==============================] - 0s 13ms/step - loss: 0.0624 - mean_squared_logarithmic_error: 0.0622 - val_loss: 0.0593 - val_mean_squared_logarithmic_error: 0.0390\n",
            "Epoch 74/150\n",
            "5/5 [==============================] - 0s 9ms/step - loss: 0.0608 - mean_squared_logarithmic_error: 0.0627 - val_loss: 0.0597 - val_mean_squared_logarithmic_error: 0.0374\n",
            "Epoch 75/150\n",
            "5/5 [==============================] - 0s 9ms/step - loss: 0.0654 - mean_squared_logarithmic_error: 0.0636 - val_loss: 0.0566 - val_mean_squared_logarithmic_error: 0.0355\n",
            "Epoch 76/150\n",
            "5/5 [==============================] - 0s 10ms/step - loss: 0.0665 - mean_squared_logarithmic_error: 0.0694 - val_loss: 0.0545 - val_mean_squared_logarithmic_error: 0.0337\n",
            "Epoch 77/150\n",
            "5/5 [==============================] - 0s 11ms/step - loss: 0.0690 - mean_squared_logarithmic_error: 0.0700 - val_loss: 0.0540 - val_mean_squared_logarithmic_error: 0.0344\n",
            "Epoch 78/150\n",
            "5/5 [==============================] - 0s 11ms/step - loss: 0.0653 - mean_squared_logarithmic_error: 0.0671 - val_loss: 0.0573 - val_mean_squared_logarithmic_error: 0.0364\n",
            "Epoch 79/150\n",
            "5/5 [==============================] - 0s 9ms/step - loss: 0.0810 - mean_squared_logarithmic_error: 0.0757 - val_loss: 0.0567 - val_mean_squared_logarithmic_error: 0.0357\n",
            "Epoch 80/150\n",
            "5/5 [==============================] - 0s 9ms/step - loss: 0.0697 - mean_squared_logarithmic_error: 0.0689 - val_loss: 0.0564 - val_mean_squared_logarithmic_error: 0.0356\n",
            "Epoch 81/150\n",
            "5/5 [==============================] - 0s 10ms/step - loss: 0.0643 - mean_squared_logarithmic_error: 0.0600 - val_loss: 0.0552 - val_mean_squared_logarithmic_error: 0.0356\n",
            "Epoch 82/150\n",
            "5/5 [==============================] - 0s 15ms/step - loss: 0.0741 - mean_squared_logarithmic_error: 0.0759 - val_loss: 0.0555 - val_mean_squared_logarithmic_error: 0.0359\n",
            "Epoch 83/150\n",
            "5/5 [==============================] - 0s 11ms/step - loss: 0.0716 - mean_squared_logarithmic_error: 0.0769 - val_loss: 0.0545 - val_mean_squared_logarithmic_error: 0.0340\n",
            "Epoch 84/150\n",
            "5/5 [==============================] - 0s 11ms/step - loss: 0.0711 - mean_squared_logarithmic_error: 0.0694 - val_loss: 0.0540 - val_mean_squared_logarithmic_error: 0.0334\n",
            "Epoch 85/150\n",
            "5/5 [==============================] - 0s 10ms/step - loss: 0.0695 - mean_squared_logarithmic_error: 0.0681 - val_loss: 0.0548 - val_mean_squared_logarithmic_error: 0.0340\n",
            "Epoch 86/150\n",
            "5/5 [==============================] - 0s 10ms/step - loss: 0.0649 - mean_squared_logarithmic_error: 0.0610 - val_loss: 0.0558 - val_mean_squared_logarithmic_error: 0.0344\n",
            "Epoch 87/150\n",
            "5/5 [==============================] - 0s 12ms/step - loss: 0.0663 - mean_squared_logarithmic_error: 0.0673 - val_loss: 0.0577 - val_mean_squared_logarithmic_error: 0.0359\n",
            "Epoch 88/150\n",
            "5/5 [==============================] - 0s 9ms/step - loss: 0.0660 - mean_squared_logarithmic_error: 0.0676 - val_loss: 0.0568 - val_mean_squared_logarithmic_error: 0.0361\n",
            "Epoch 89/150\n",
            "5/5 [==============================] - 0s 9ms/step - loss: 0.0622 - mean_squared_logarithmic_error: 0.0592 - val_loss: 0.0566 - val_mean_squared_logarithmic_error: 0.0360\n",
            "Epoch 90/150\n",
            "5/5 [==============================] - 0s 10ms/step - loss: 0.0685 - mean_squared_logarithmic_error: 0.0655 - val_loss: 0.0560 - val_mean_squared_logarithmic_error: 0.0351\n",
            "Epoch 91/150\n",
            "5/5 [==============================] - 0s 13ms/step - loss: 0.0738 - mean_squared_logarithmic_error: 0.0799 - val_loss: 0.0541 - val_mean_squared_logarithmic_error: 0.0334\n",
            "Epoch 92/150\n",
            "5/5 [==============================] - 0s 10ms/step - loss: 0.0642 - mean_squared_logarithmic_error: 0.0645 - val_loss: 0.0547 - val_mean_squared_logarithmic_error: 0.0342\n",
            "Epoch 93/150\n",
            "5/5 [==============================] - 0s 10ms/step - loss: 0.0685 - mean_squared_logarithmic_error: 0.0675 - val_loss: 0.0563 - val_mean_squared_logarithmic_error: 0.0351\n",
            "Epoch 94/150\n",
            "5/5 [==============================] - 0s 10ms/step - loss: 0.0677 - mean_squared_logarithmic_error: 0.0701 - val_loss: 0.0525 - val_mean_squared_logarithmic_error: 0.0325\n",
            "Epoch 95/150\n",
            "5/5 [==============================] - 0s 12ms/step - loss: 0.0674 - mean_squared_logarithmic_error: 0.0723 - val_loss: 0.0532 - val_mean_squared_logarithmic_error: 0.0330\n",
            "Epoch 96/150\n",
            "5/5 [==============================] - 0s 11ms/step - loss: 0.0673 - mean_squared_logarithmic_error: 0.0683 - val_loss: 0.0559 - val_mean_squared_logarithmic_error: 0.0350\n",
            "Epoch 97/150\n",
            "5/5 [==============================] - 0s 13ms/step - loss: 0.0607 - mean_squared_logarithmic_error: 0.0603 - val_loss: 0.0567 - val_mean_squared_logarithmic_error: 0.0365\n",
            "Epoch 98/150\n",
            "5/5 [==============================] - 0s 10ms/step - loss: 0.0696 - mean_squared_logarithmic_error: 0.0720 - val_loss: 0.0568 - val_mean_squared_logarithmic_error: 0.0375\n",
            "Epoch 99/150\n",
            "5/5 [==============================] - 0s 13ms/step - loss: 0.0663 - mean_squared_logarithmic_error: 0.0605 - val_loss: 0.0564 - val_mean_squared_logarithmic_error: 0.0363\n",
            "Epoch 100/150\n",
            "5/5 [==============================] - 0s 9ms/step - loss: 0.0643 - mean_squared_logarithmic_error: 0.0612 - val_loss: 0.0553 - val_mean_squared_logarithmic_error: 0.0352\n",
            "Epoch 101/150\n",
            "5/5 [==============================] - 0s 12ms/step - loss: 0.0632 - mean_squared_logarithmic_error: 0.0621 - val_loss: 0.0547 - val_mean_squared_logarithmic_error: 0.0346\n",
            "Epoch 102/150\n",
            "5/5 [==============================] - 0s 9ms/step - loss: 0.0619 - mean_squared_logarithmic_error: 0.0624 - val_loss: 0.0553 - val_mean_squared_logarithmic_error: 0.0351\n",
            "Epoch 103/150\n",
            "5/5 [==============================] - 0s 9ms/step - loss: 0.0654 - mean_squared_logarithmic_error: 0.0687 - val_loss: 0.0580 - val_mean_squared_logarithmic_error: 0.0375\n",
            "Epoch 104/150\n",
            "5/5 [==============================] - 0s 11ms/step - loss: 0.0727 - mean_squared_logarithmic_error: 0.0697 - val_loss: 0.0581 - val_mean_squared_logarithmic_error: 0.0374\n",
            "Epoch 105/150\n",
            "5/5 [==============================] - 0s 10ms/step - loss: 0.0627 - mean_squared_logarithmic_error: 0.0625 - val_loss: 0.0554 - val_mean_squared_logarithmic_error: 0.0361\n",
            "Epoch 106/150\n",
            "5/5 [==============================] - 0s 9ms/step - loss: 0.0663 - mean_squared_logarithmic_error: 0.0795 - val_loss: 0.0541 - val_mean_squared_logarithmic_error: 0.0338\n",
            "Epoch 107/150\n",
            "5/5 [==============================] - 0s 10ms/step - loss: 0.0607 - mean_squared_logarithmic_error: 0.0640 - val_loss: 0.0550 - val_mean_squared_logarithmic_error: 0.0340\n",
            "Epoch 108/150\n",
            "5/5 [==============================] - 0s 10ms/step - loss: 0.0596 - mean_squared_logarithmic_error: 0.0557 - val_loss: 0.0540 - val_mean_squared_logarithmic_error: 0.0341\n",
            "Epoch 109/150\n",
            "5/5 [==============================] - 0s 10ms/step - loss: 0.0629 - mean_squared_logarithmic_error: 0.0589 - val_loss: 0.0522 - val_mean_squared_logarithmic_error: 0.0338\n",
            "Epoch 110/150\n",
            "5/5 [==============================] - 0s 12ms/step - loss: 0.0754 - mean_squared_logarithmic_error: 0.0808 - val_loss: 0.0510 - val_mean_squared_logarithmic_error: 0.0328\n",
            "Epoch 111/150\n",
            "5/5 [==============================] - 0s 9ms/step - loss: 0.0677 - mean_squared_logarithmic_error: 0.0726 - val_loss: 0.0536 - val_mean_squared_logarithmic_error: 0.0345\n",
            "Epoch 112/150\n",
            "5/5 [==============================] - 0s 9ms/step - loss: 0.0579 - mean_squared_logarithmic_error: 0.0568 - val_loss: 0.0543 - val_mean_squared_logarithmic_error: 0.0350\n",
            "Epoch 113/150\n",
            "5/5 [==============================] - 0s 9ms/step - loss: 0.0588 - mean_squared_logarithmic_error: 0.0565 - val_loss: 0.0512 - val_mean_squared_logarithmic_error: 0.0323\n",
            "Epoch 114/150\n",
            "5/5 [==============================] - 0s 9ms/step - loss: 0.0557 - mean_squared_logarithmic_error: 0.0540 - val_loss: 0.0531 - val_mean_squared_logarithmic_error: 0.0331\n",
            "Epoch 115/150\n",
            "5/5 [==============================] - 0s 9ms/step - loss: 0.0684 - mean_squared_logarithmic_error: 0.0672 - val_loss: 0.0523 - val_mean_squared_logarithmic_error: 0.0337\n",
            "Epoch 116/150\n",
            "5/5 [==============================] - 0s 9ms/step - loss: 0.0688 - mean_squared_logarithmic_error: 0.0723 - val_loss: 0.0522 - val_mean_squared_logarithmic_error: 0.0346\n",
            "Epoch 117/150\n",
            "5/5 [==============================] - 0s 11ms/step - loss: 0.0668 - mean_squared_logarithmic_error: 0.0687 - val_loss: 0.0547 - val_mean_squared_logarithmic_error: 0.0356\n",
            "Epoch 118/150\n",
            "5/5 [==============================] - 0s 9ms/step - loss: 0.0651 - mean_squared_logarithmic_error: 0.0649 - val_loss: 0.0521 - val_mean_squared_logarithmic_error: 0.0334\n",
            "Epoch 119/150\n",
            "5/5 [==============================] - 0s 10ms/step - loss: 0.0603 - mean_squared_logarithmic_error: 0.0600 - val_loss: 0.0502 - val_mean_squared_logarithmic_error: 0.0321\n",
            "Epoch 120/150\n",
            "5/5 [==============================] - 0s 10ms/step - loss: 0.0676 - mean_squared_logarithmic_error: 0.0673 - val_loss: 0.0510 - val_mean_squared_logarithmic_error: 0.0327\n",
            "Epoch 121/150\n",
            "5/5 [==============================] - 0s 10ms/step - loss: 0.0609 - mean_squared_logarithmic_error: 0.0610 - val_loss: 0.0515 - val_mean_squared_logarithmic_error: 0.0332\n",
            "Epoch 122/150\n",
            "5/5 [==============================] - 0s 11ms/step - loss: 0.0673 - mean_squared_logarithmic_error: 0.0763 - val_loss: 0.0492 - val_mean_squared_logarithmic_error: 0.0319\n",
            "Epoch 123/150\n",
            "5/5 [==============================] - 0s 9ms/step - loss: 0.0647 - mean_squared_logarithmic_error: 0.0637 - val_loss: 0.0534 - val_mean_squared_logarithmic_error: 0.0344\n",
            "Epoch 124/150\n",
            "5/5 [==============================] - 0s 9ms/step - loss: 0.0652 - mean_squared_logarithmic_error: 0.0617 - val_loss: 0.0546 - val_mean_squared_logarithmic_error: 0.0353\n",
            "Epoch 125/150\n",
            "5/5 [==============================] - 0s 10ms/step - loss: 0.0721 - mean_squared_logarithmic_error: 0.0795 - val_loss: 0.0527 - val_mean_squared_logarithmic_error: 0.0340\n",
            "Epoch 126/150\n",
            "5/5 [==============================] - 0s 9ms/step - loss: 0.0667 - mean_squared_logarithmic_error: 0.0644 - val_loss: 0.0541 - val_mean_squared_logarithmic_error: 0.0344\n",
            "Epoch 127/150\n",
            "5/5 [==============================] - 0s 10ms/step - loss: 0.0701 - mean_squared_logarithmic_error: 0.0692 - val_loss: 0.0537 - val_mean_squared_logarithmic_error: 0.0362\n",
            "Epoch 128/150\n",
            "5/5 [==============================] - 0s 9ms/step - loss: 0.0636 - mean_squared_logarithmic_error: 0.0639 - val_loss: 0.0514 - val_mean_squared_logarithmic_error: 0.0360\n",
            "Epoch 129/150\n",
            "5/5 [==============================] - 0s 9ms/step - loss: 0.0672 - mean_squared_logarithmic_error: 0.0702 - val_loss: 0.0510 - val_mean_squared_logarithmic_error: 0.0345\n",
            "Epoch 130/150\n",
            "5/5 [==============================] - 0s 12ms/step - loss: 0.0660 - mean_squared_logarithmic_error: 0.0685 - val_loss: 0.0513 - val_mean_squared_logarithmic_error: 0.0329\n",
            "Epoch 131/150\n",
            "5/5 [==============================] - 0s 9ms/step - loss: 0.0607 - mean_squared_logarithmic_error: 0.0623 - val_loss: 0.0549 - val_mean_squared_logarithmic_error: 0.0356\n",
            "Epoch 132/150\n",
            "5/5 [==============================] - 0s 10ms/step - loss: 0.0693 - mean_squared_logarithmic_error: 0.0645 - val_loss: 0.0524 - val_mean_squared_logarithmic_error: 0.0342\n",
            "Epoch 133/150\n",
            "5/5 [==============================] - 0s 10ms/step - loss: 0.0590 - mean_squared_logarithmic_error: 0.0591 - val_loss: 0.0517 - val_mean_squared_logarithmic_error: 0.0336\n",
            "Epoch 134/150\n",
            "5/5 [==============================] - 0s 9ms/step - loss: 0.0634 - mean_squared_logarithmic_error: 0.0659 - val_loss: 0.0508 - val_mean_squared_logarithmic_error: 0.0336\n",
            "Epoch 135/150\n",
            "5/5 [==============================] - 0s 10ms/step - loss: 0.0638 - mean_squared_logarithmic_error: 0.0651 - val_loss: 0.0530 - val_mean_squared_logarithmic_error: 0.0354\n",
            "Epoch 136/150\n",
            "5/5 [==============================] - 0s 10ms/step - loss: 0.0610 - mean_squared_logarithmic_error: 0.0656 - val_loss: 0.0530 - val_mean_squared_logarithmic_error: 0.0364\n",
            "Epoch 137/150\n",
            "5/5 [==============================] - 0s 9ms/step - loss: 0.0611 - mean_squared_logarithmic_error: 0.0589 - val_loss: 0.0557 - val_mean_squared_logarithmic_error: 0.0374\n",
            "Epoch 138/150\n",
            "5/5 [==============================] - 0s 9ms/step - loss: 0.0615 - mean_squared_logarithmic_error: 0.0603 - val_loss: 0.0537 - val_mean_squared_logarithmic_error: 0.0355\n",
            "Epoch 139/150\n",
            "5/5 [==============================] - 0s 9ms/step - loss: 0.0649 - mean_squared_logarithmic_error: 0.0660 - val_loss: 0.0537 - val_mean_squared_logarithmic_error: 0.0349\n",
            "Epoch 140/150\n",
            "5/5 [==============================] - 0s 10ms/step - loss: 0.0636 - mean_squared_logarithmic_error: 0.0625 - val_loss: 0.0524 - val_mean_squared_logarithmic_error: 0.0347\n",
            "Epoch 141/150\n",
            "5/5 [==============================] - 0s 9ms/step - loss: 0.0558 - mean_squared_logarithmic_error: 0.0564 - val_loss: 0.0506 - val_mean_squared_logarithmic_error: 0.0337\n",
            "Epoch 142/150\n",
            "5/5 [==============================] - 0s 9ms/step - loss: 0.0681 - mean_squared_logarithmic_error: 0.0728 - val_loss: 0.0505 - val_mean_squared_logarithmic_error: 0.0332\n",
            "Epoch 143/150\n",
            "5/5 [==============================] - 0s 9ms/step - loss: 0.0658 - mean_squared_logarithmic_error: 0.0720 - val_loss: 0.0529 - val_mean_squared_logarithmic_error: 0.0351\n",
            "Epoch 144/150\n",
            "5/5 [==============================] - 0s 10ms/step - loss: 0.0678 - mean_squared_logarithmic_error: 0.0700 - val_loss: 0.0553 - val_mean_squared_logarithmic_error: 0.0366\n",
            "Epoch 145/150\n",
            "5/5 [==============================] - 0s 9ms/step - loss: 0.0669 - mean_squared_logarithmic_error: 0.0646 - val_loss: 0.0512 - val_mean_squared_logarithmic_error: 0.0349\n",
            "Epoch 146/150\n",
            "5/5 [==============================] - 0s 9ms/step - loss: 0.0556 - mean_squared_logarithmic_error: 0.0587 - val_loss: 0.0506 - val_mean_squared_logarithmic_error: 0.0342\n",
            "Epoch 147/150\n",
            "5/5 [==============================] - 0s 9ms/step - loss: 0.0626 - mean_squared_logarithmic_error: 0.0598 - val_loss: 0.0507 - val_mean_squared_logarithmic_error: 0.0322\n",
            "Epoch 148/150\n",
            "5/5 [==============================] - 0s 10ms/step - loss: 0.0630 - mean_squared_logarithmic_error: 0.0672 - val_loss: 0.0514 - val_mean_squared_logarithmic_error: 0.0323\n",
            "Epoch 149/150\n",
            "5/5 [==============================] - 0s 11ms/step - loss: 0.0667 - mean_squared_logarithmic_error: 0.0620 - val_loss: 0.0514 - val_mean_squared_logarithmic_error: 0.0328\n",
            "Epoch 150/150\n",
            "5/5 [==============================] - 0s 9ms/step - loss: 0.0644 - mean_squared_logarithmic_error: 0.0649 - val_loss: 0.0526 - val_mean_squared_logarithmic_error: 0.0339\n"
          ]
        }
      ],
      "source": [
        "msle = MeanSquaredLogarithmicError()\n",
        "model.compile(\n",
        "    loss=msle, \n",
        "    optimizer=Adam(learning_rate=learning_rate), \n",
        "    metrics=[msle]\n",
        ")\n",
        "# train the model\n",
        "history = model.fit(\n",
        "    X_train.values, \n",
        "    y_train.values, \n",
        "    epochs=150, \n",
        "    batch_size=64,\n",
        "    validation_split=0.2\n",
        ")"
      ]
    },
    {
      "cell_type": "code",
      "execution_count": null,
      "metadata": {
        "colab": {
          "base_uri": "https://localhost:8080/",
          "height": 303
        },
        "id": "e660zgG7yGnI",
        "outputId": "e1831fea-6b1c-41d4-be84-fa488c8dc4bf"
      },
      "outputs": [
        {
          "output_type": "display_data",
          "data": {
            "text/plain": [
              "<Figure size 432x288 with 1 Axes>"
            ],
            "image/png": "[encoded data removed]"
          },
          "metadata": {
            "needs_background": "light"
          }
        }
      ],
      "source": [
        "def plot_history(history, key):\n",
        "  plt.plot(history.history[key])\n",
        "  plt.plot(history.history['val_'+key])\n",
        "  plt.xlabel(\"Epochs\")\n",
        "  plt.ylabel(key)\n",
        "  plt.legend([key, 'val_'+key])\n",
        "  plt.show()\n",
        "# Plot the history\n",
        "plot_history(history, 'mean_squared_logarithmic_error')"
      ]
    },
    {
      "cell_type": "code",
      "execution_count": null,
      "metadata": {
        "colab": {
          "base_uri": "https://localhost:8080/"
        },
        "id": "F2sNrAZeyJoZ",
        "outputId": "aad42e45-cf8a-488e-f4ab-0fa71afd45ce"
      },
      "outputs": [
        {
          "output_type": "stream",
          "name": "stdout",
          "text": [
            "3.2461073202451485\n",
            "0.8747349167258327\n",
            "1.6841013068715733\n",
            "2.162227996924378\n"
          ]
        }
      ],
      "source": [
        "Y_pred = model.predict(X_test)\n",
        "from sklearn.metrics import mean_squared_error\n",
        "mse = mean_squared_error(y_test, Y_pred)\n",
        "rmse = math.sqrt(mse)\n",
        "print(rmse)\n",
        "from sklearn.metrics import r2_score\n",
        "r2 = r2_score(y_test, Y_pred)\n",
        "print(r2)\n",
        "mae = mean_absolute_error(y_test,Y_pred)\n",
        "print(mae)\n",
        "mape = mean_absolute_percentage_error(y_test, Y_pred)\n",
        "print(mape)"
      ]
    }
  ],
  "metadata": {
    "colab": {
      "collapsed_sections": [],
      "name": "MTP_PCA.ipynb",
      "provenance": []
    },
    "kernelspec": {
      "display_name": "Python 3",
      "name": "python3"
    },
    "language_info": {
      "name": "python"
    }
  },
  "nbformat": 4,
  "nbformat_minor": 0
}