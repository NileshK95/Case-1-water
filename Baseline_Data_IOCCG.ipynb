{
  "cells": [
    {
      "cell_type": "code",
      "execution_count": null,
      "metadata": {
        "colab": {
          "base_uri": "https://localhost:8080/"
        },
        "id": "JMFhHhm8MsFi",
        "outputId": "eaadf724-b654-4eb4-a71c-927eddc84c99"
      },
      "outputs": [
        {
          "output_type": "stream",
          "name": "stdout",
          "text": [
            "Mounted at /content/drive\n"
          ]
        }
      ],
      "source": [
        "from google.colab import drive\n",
        "drive.mount('/content/drive')"
      ]
    },
    {
      "cell_type": "code",
      "execution_count": null,
      "metadata": {
        "id": "xoU6BezhNKTr"
      },
      "outputs": [],
      "source": [
        "#Imports\n",
        "import warnings\n",
        "warnings.filterwarnings(\"ignore\")\n",
        "import pandas as pd\n",
        "import numpy as np\n",
        "import matplotlib.pyplot as plt\n",
        "import seaborn as sns\n",
        "from sklearn import preprocessing\n",
        "from sklearn.model_selection import train_test_split\n",
        "from sklearn.metrics import mean_squared_error\n",
        "from math import sqrt\n",
        "from sklearn.model_selection import cross_val_score\n",
        "from sklearn.model_selection import GridSearchCV\n",
        "from sklearn.model_selection import KFold\n",
        "from sklearn.metrics import mean_absolute_error\n",
        "from sklearn.metrics import mean_absolute_percentage_error\n",
        "from sklearn.metrics import r2_score"
      ]
    },
    {
      "cell_type": "code",
      "execution_count": null,
      "metadata": {
        "id": "oapYuG7KNmUJ"
      },
      "outputs": [],
      "source": [
        "#Read dataset to pandas dataframe\n",
        "dataset = pd.read_excel('/content/drive/MyDrive/MTP_FINAL/Dataset-3.xlsx', sheet_name='IOCCG_simulated')"
      ]
    },
    {
      "cell_type": "code",
      "execution_count": null,
      "metadata": {
        "id": "ODR2Am3ENq2v",
        "colab": {
          "base_uri": "https://localhost:8080/",
          "height": 483
        },
        "outputId": "b0ef5192-21ed-48a6-8a41-ffbbea39b0fb"
      },
      "outputs": [
        {
          "output_type": "execute_result",
          "data": {
            "text/plain": [
              "          400       410       420       430       440       450       460  \\\n",
              "0    0.015468  0.016338  0.015585  0.014308  0.012539  0.010416  0.009906   \n",
              "1    0.009214  0.009727  0.009511  0.009092  0.008288  0.007286  0.007121   \n",
              "2    0.011594  0.012039  0.011659  0.011009  0.010000  0.008701  0.008436   \n",
              "3    0.012409  0.013388  0.013469  0.013196  0.012331  0.011018  0.010971   \n",
              "4    0.012849  0.013552  0.012991  0.012189  0.010740  0.009073  0.008725   \n",
              "..        ...       ...       ...       ...       ...       ...       ...   \n",
              "495  0.001000  0.001175  0.001378  0.001606  0.001880  0.002234  0.002694   \n",
              "496  0.001032  0.001159  0.001303  0.001453  0.001632  0.001861  0.002119   \n",
              "497  0.001250  0.001332  0.001422  0.001506  0.001617  0.001802  0.002030   \n",
              "498  0.002743  0.003021  0.003328  0.003648  0.004029  0.004601  0.005153   \n",
              "499  0.002071  0.002329  0.002620  0.002896  0.003239  0.003716  0.004247   \n",
              "\n",
              "          470       480       490  ...       710       720       730  \\\n",
              "0    0.009398  0.008280  0.007162  ...  0.000064  0.000040  0.000027   \n",
              "1    0.006931  0.006297  0.005528  ...  0.000050  0.000031  0.000021   \n",
              "2    0.008066  0.007203  0.006347  ...  0.000060  0.000038  0.000025   \n",
              "3    0.010771  0.009786  0.008728  ...  0.000081  0.000051  0.000035   \n",
              "4    0.008292  0.007382  0.006367  ...  0.000054  0.000033  0.000023   \n",
              "..        ...       ...       ...  ...       ...       ...       ...   \n",
              "495  0.003290  0.004023  0.004828  ...  0.007221  0.004664  0.003048   \n",
              "496  0.002438  0.002806  0.003192  ...  0.006039  0.004108  0.002761   \n",
              "497  0.002322  0.002644  0.002957  ...  0.003205  0.002150  0.001458   \n",
              "498  0.005769  0.006582  0.007460  ...  0.007551  0.004953  0.003265   \n",
              "499  0.004939  0.005738  0.006503  ...  0.006152  0.004060  0.002676   \n",
              "\n",
              "          740       750       760       770       780       790       800  \n",
              "0    0.000020  0.000018  0.000017  0.000017  0.000017  0.000018  0.000019  \n",
              "1    0.000016  0.000014  0.000013  0.000013  0.000013  0.000014  0.000014  \n",
              "2    0.000019  0.000017  0.000016  0.000016  0.000016  0.000017  0.000018  \n",
              "3    0.000026  0.000023  0.000022  0.000022  0.000022  0.000023  0.000024  \n",
              "4    0.000017  0.000015  0.000014  0.000014  0.000014  0.000015  0.000015  \n",
              "..        ...       ...       ...       ...       ...       ...       ...  \n",
              "495  0.002233  0.002146  0.002074  0.002113  0.002265  0.002504  0.002623  \n",
              "496  0.002051  0.001977  0.001916  0.001955  0.002096  0.002317  0.002429  \n",
              "497  0.001095  0.001056  0.001025  0.001044  0.001114  0.001225  0.001281  \n",
              "498  0.002401  0.002312  0.002239  0.002286  0.002455  0.002720  0.002856  \n",
              "499  0.001967  0.001893  0.001832  0.001869  0.002005  0.002219  0.002328  \n",
              "\n",
              "[500 rows x 41 columns]"
            ],
            "text/html": [
              "\n",
              "  <div id=\"df-2de334af-bb22-4fde-9437-d79e9eec402e\">\n",
              "    <div class=\"colab-df-container\">\n",
              "      <div>\n",
              "<style scoped>\n",
              "    .dataframe tbody tr th:only-of-type {\n",
              "        vertical-align: middle;\n",
              "    }\n",
              "\n",
              "    .dataframe tbody tr th {\n",
              "        vertical-align: top;\n",
              "    }\n",
              "\n",
              "    .dataframe thead th {\n",
              "        text-align: right;\n",
              "    }\n",
              "</style>\n",
              "<table border=\"1\" class=\"dataframe\">\n",
              "  <thead>\n",
              "    <tr style=\"text-align: right;\">\n",
              "      <th></th>\n",
              "      <th>400</th>\n",
              "      <th>410</th>\n",
              "      <th>420</th>\n",
              "      <th>430</th>\n",
              "      <th>440</th>\n",
              "      <th>450</th>\n",
              "      <th>460</th>\n",
              "      <th>470</th>\n",
              "      <th>480</th>\n",
              "      <th>490</th>\n",
              "      <th>...</th>\n",
              "      <th>710</th>\n",
              "      <th>720</th>\n",
              "      <th>730</th>\n",
              "      <th>740</th>\n",
              "      <th>750</th>\n",
              "      <th>760</th>\n",
              "      <th>770</th>\n",
              "      <th>780</th>\n",
              "      <th>790</th>\n",
              "      <th>800</th>\n",
              "    </tr>\n",
              "  </thead>\n",
              "  <tbody>\n",
              "    <tr>\n",
              "      <th>0</th>\n",
              "      <td>0.015468</td>\n",
              "      <td>0.016338</td>\n",
              "      <td>0.015585</td>\n",
              "      <td>0.014308</td>\n",
              "      <td>0.012539</td>\n",
              "      <td>0.010416</td>\n",
              "      <td>0.009906</td>\n",
              "      <td>0.009398</td>\n",
              "      <td>0.008280</td>\n",
              "      <td>0.007162</td>\n",
              "      <td>...</td>\n",
              "      <td>0.000064</td>\n",
              "      <td>0.000040</td>\n",
              "      <td>0.000027</td>\n",
              "      <td>0.000020</td>\n",
              "      <td>0.000018</td>\n",
              "      <td>0.000017</td>\n",
              "      <td>0.000017</td>\n",
              "      <td>0.000017</td>\n",
              "      <td>0.000018</td>\n",
              "      <td>0.000019</td>\n",
              "    </tr>\n",
              "    <tr>\n",
              "      <th>1</th>\n",
              "      <td>0.009214</td>\n",
              "      <td>0.009727</td>\n",
              "      <td>0.009511</td>\n",
              "      <td>0.009092</td>\n",
              "      <td>0.008288</td>\n",
              "      <td>0.007286</td>\n",
              "      <td>0.007121</td>\n",
              "      <td>0.006931</td>\n",
              "      <td>0.006297</td>\n",
              "      <td>0.005528</td>\n",
              "      <td>...</td>\n",
              "      <td>0.000050</td>\n",
              "      <td>0.000031</td>\n",
              "      <td>0.000021</td>\n",
              "      <td>0.000016</td>\n",
              "      <td>0.000014</td>\n",
              "      <td>0.000013</td>\n",
              "      <td>0.000013</td>\n",
              "      <td>0.000013</td>\n",
              "      <td>0.000014</td>\n",
              "      <td>0.000014</td>\n",
              "    </tr>\n",
              "    <tr>\n",
              "      <th>2</th>\n",
              "      <td>0.011594</td>\n",
              "      <td>0.012039</td>\n",
              "      <td>0.011659</td>\n",
              "      <td>0.011009</td>\n",
              "      <td>0.010000</td>\n",
              "      <td>0.008701</td>\n",
              "      <td>0.008436</td>\n",
              "      <td>0.008066</td>\n",
              "      <td>0.007203</td>\n",
              "      <td>0.006347</td>\n",
              "      <td>...</td>\n",
              "      <td>0.000060</td>\n",
              "      <td>0.000038</td>\n",
              "      <td>0.000025</td>\n",
              "      <td>0.000019</td>\n",
              "      <td>0.000017</td>\n",
              "      <td>0.000016</td>\n",
              "      <td>0.000016</td>\n",
              "      <td>0.000016</td>\n",
              "      <td>0.000017</td>\n",
              "      <td>0.000018</td>\n",
              "    </tr>\n",
              "    <tr>\n",
              "      <th>3</th>\n",
              "      <td>0.012409</td>\n",
              "      <td>0.013388</td>\n",
              "      <td>0.013469</td>\n",
              "      <td>0.013196</td>\n",
              "      <td>0.012331</td>\n",
              "      <td>0.011018</td>\n",
              "      <td>0.010971</td>\n",
              "      <td>0.010771</td>\n",
              "      <td>0.009786</td>\n",
              "      <td>0.008728</td>\n",
              "      <td>...</td>\n",
              "      <td>0.000081</td>\n",
              "      <td>0.000051</td>\n",
              "      <td>0.000035</td>\n",
              "      <td>0.000026</td>\n",
              "      <td>0.000023</td>\n",
              "      <td>0.000022</td>\n",
              "      <td>0.000022</td>\n",
              "      <td>0.000022</td>\n",
              "      <td>0.000023</td>\n",
              "      <td>0.000024</td>\n",
              "    </tr>\n",
              "    <tr>\n",
              "      <th>4</th>\n",
              "      <td>0.012849</td>\n",
              "      <td>0.013552</td>\n",
              "      <td>0.012991</td>\n",
              "      <td>0.012189</td>\n",
              "      <td>0.010740</td>\n",
              "      <td>0.009073</td>\n",
              "      <td>0.008725</td>\n",
              "      <td>0.008292</td>\n",
              "      <td>0.007382</td>\n",
              "      <td>0.006367</td>\n",
              "      <td>...</td>\n",
              "      <td>0.000054</td>\n",
              "      <td>0.000033</td>\n",
              "      <td>0.000023</td>\n",
              "      <td>0.000017</td>\n",
              "      <td>0.000015</td>\n",
              "      <td>0.000014</td>\n",
              "      <td>0.000014</td>\n",
              "      <td>0.000014</td>\n",
              "      <td>0.000015</td>\n",
              "      <td>0.000015</td>\n",
              "    </tr>\n",
              "    <tr>\n",
              "      <th>...</th>\n",
              "      <td>...</td>\n",
              "      <td>...</td>\n",
              "      <td>...</td>\n",
              "      <td>...</td>\n",
              "      <td>...</td>\n",
              "      <td>...</td>\n",
              "      <td>...</td>\n",
              "      <td>...</td>\n",
              "      <td>...</td>\n",
              "      <td>...</td>\n",
              "      <td>...</td>\n",
              "      <td>...</td>\n",
              "      <td>...</td>\n",
              "      <td>...</td>\n",
              "      <td>...</td>\n",
              "      <td>...</td>\n",
              "      <td>...</td>\n",
              "      <td>...</td>\n",
              "      <td>...</td>\n",
              "      <td>...</td>\n",
              "      <td>...</td>\n",
              "    </tr>\n",
              "    <tr>\n",
              "      <th>495</th>\n",
              "      <td>0.001000</td>\n",
              "      <td>0.001175</td>\n",
              "      <td>0.001378</td>\n",
              "      <td>0.001606</td>\n",
              "      <td>0.001880</td>\n",
              "      <td>0.002234</td>\n",
              "      <td>0.002694</td>\n",
              "      <td>0.003290</td>\n",
              "      <td>0.004023</td>\n",
              "      <td>0.004828</td>\n",
              "      <td>...</td>\n",
              "      <td>0.007221</td>\n",
              "      <td>0.004664</td>\n",
              "      <td>0.003048</td>\n",
              "      <td>0.002233</td>\n",
              "      <td>0.002146</td>\n",
              "      <td>0.002074</td>\n",
              "      <td>0.002113</td>\n",
              "      <td>0.002265</td>\n",
              "      <td>0.002504</td>\n",
              "      <td>0.002623</td>\n",
              "    </tr>\n",
              "    <tr>\n",
              "      <th>496</th>\n",
              "      <td>0.001032</td>\n",
              "      <td>0.001159</td>\n",
              "      <td>0.001303</td>\n",
              "      <td>0.001453</td>\n",
              "      <td>0.001632</td>\n",
              "      <td>0.001861</td>\n",
              "      <td>0.002119</td>\n",
              "      <td>0.002438</td>\n",
              "      <td>0.002806</td>\n",
              "      <td>0.003192</td>\n",
              "      <td>...</td>\n",
              "      <td>0.006039</td>\n",
              "      <td>0.004108</td>\n",
              "      <td>0.002761</td>\n",
              "      <td>0.002051</td>\n",
              "      <td>0.001977</td>\n",
              "      <td>0.001916</td>\n",
              "      <td>0.001955</td>\n",
              "      <td>0.002096</td>\n",
              "      <td>0.002317</td>\n",
              "      <td>0.002429</td>\n",
              "    </tr>\n",
              "    <tr>\n",
              "      <th>497</th>\n",
              "      <td>0.001250</td>\n",
              "      <td>0.001332</td>\n",
              "      <td>0.001422</td>\n",
              "      <td>0.001506</td>\n",
              "      <td>0.001617</td>\n",
              "      <td>0.001802</td>\n",
              "      <td>0.002030</td>\n",
              "      <td>0.002322</td>\n",
              "      <td>0.002644</td>\n",
              "      <td>0.002957</td>\n",
              "      <td>...</td>\n",
              "      <td>0.003205</td>\n",
              "      <td>0.002150</td>\n",
              "      <td>0.001458</td>\n",
              "      <td>0.001095</td>\n",
              "      <td>0.001056</td>\n",
              "      <td>0.001025</td>\n",
              "      <td>0.001044</td>\n",
              "      <td>0.001114</td>\n",
              "      <td>0.001225</td>\n",
              "      <td>0.001281</td>\n",
              "    </tr>\n",
              "    <tr>\n",
              "      <th>498</th>\n",
              "      <td>0.002743</td>\n",
              "      <td>0.003021</td>\n",
              "      <td>0.003328</td>\n",
              "      <td>0.003648</td>\n",
              "      <td>0.004029</td>\n",
              "      <td>0.004601</td>\n",
              "      <td>0.005153</td>\n",
              "      <td>0.005769</td>\n",
              "      <td>0.006582</td>\n",
              "      <td>0.007460</td>\n",
              "      <td>...</td>\n",
              "      <td>0.007551</td>\n",
              "      <td>0.004953</td>\n",
              "      <td>0.003265</td>\n",
              "      <td>0.002401</td>\n",
              "      <td>0.002312</td>\n",
              "      <td>0.002239</td>\n",
              "      <td>0.002286</td>\n",
              "      <td>0.002455</td>\n",
              "      <td>0.002720</td>\n",
              "      <td>0.002856</td>\n",
              "    </tr>\n",
              "    <tr>\n",
              "      <th>499</th>\n",
              "      <td>0.002071</td>\n",
              "      <td>0.002329</td>\n",
              "      <td>0.002620</td>\n",
              "      <td>0.002896</td>\n",
              "      <td>0.003239</td>\n",
              "      <td>0.003716</td>\n",
              "      <td>0.004247</td>\n",
              "      <td>0.004939</td>\n",
              "      <td>0.005738</td>\n",
              "      <td>0.006503</td>\n",
              "      <td>...</td>\n",
              "      <td>0.006152</td>\n",
              "      <td>0.004060</td>\n",
              "      <td>0.002676</td>\n",
              "      <td>0.001967</td>\n",
              "      <td>0.001893</td>\n",
              "      <td>0.001832</td>\n",
              "      <td>0.001869</td>\n",
              "      <td>0.002005</td>\n",
              "      <td>0.002219</td>\n",
              "      <td>0.002328</td>\n",
              "    </tr>\n",
              "  </tbody>\n",
              "</table>\n",
              "<p>500 rows × 41 columns</p>\n",
              "</div>\n",
              "      <button class=\"colab-df-convert\" onclick=\"convertToInteractive('df-2de334af-bb22-4fde-9437-d79e9eec402e')\"\n",
              "              title=\"Convert this dataframe to an interactive table.\"\n",
              "              style=\"display:none;\">\n",
              "        \n",
              "  <svg xmlns=\"http://www.w3.org/2000/svg\" height=\"24px\"viewBox=\"0 0 24 24\"\n",
              "       width=\"24px\">\n",
              "    <path d=\"M0 0h24v24H0V0z\" fill=\"none\"/>\n",
              "    <path d=\"M18.56 5.44l.94 2.06.94-2.06 2.06-.94-2.06-.94-.94-2.06-.94 2.06-2.06.94zm-11 1L8.5 8.5l.94-2.06 2.06-.94-2.06-.94L8.5 2.5l-.94 2.06-2.06.94zm10 10l.94 2.06.94-2.06 2.06-.94-2.06-.94-.94-2.06-.94 2.06-2.06.94z\"/><path d=\"M17.41 7.96l-1.37-1.37c-.4-.4-.92-.59-1.43-.59-.52 0-1.04.2-1.43.59L10.3 9.45l-7.72 7.72c-.78.78-.78 2.05 0 2.83L4 21.41c.39.39.9.59 1.41.59.51 0 1.02-.2 1.41-.59l7.78-7.78 2.81-2.81c.8-.78.8-2.07 0-2.86zM5.41 20L4 18.59l7.72-7.72 1.47 1.35L5.41 20z\"/>\n",
              "  </svg>\n",
              "      </button>\n",
              "      \n",
              "  <style>\n",
              "    .colab-df-container {\n",
              "      display:flex;\n",
              "      flex-wrap:wrap;\n",
              "      gap: 12px;\n",
              "    }\n",
              "\n",
              "    .colab-df-convert {\n",
              "      background-color: #E8F0FE;\n",
              "      border: none;\n",
              "      border-radius: 50%;\n",
              "      cursor: pointer;\n",
              "      display: none;\n",
              "      fill: #1967D2;\n",
              "      height: 32px;\n",
              "      padding: 0 0 0 0;\n",
              "      width: 32px;\n",
              "    }\n",
              "\n",
              "    .colab-df-convert:hover {\n",
              "      background-color: #E2EBFA;\n",
              "      box-shadow: 0px 1px 2px rgba(60, 64, 67, 0.3), 0px 1px 3px 1px rgba(60, 64, 67, 0.15);\n",
              "      fill: #174EA6;\n",
              "    }\n",
              "\n",
              "    [theme=dark] .colab-df-convert {\n",
              "      background-color: #3B4455;\n",
              "      fill: #D2E3FC;\n",
              "    }\n",
              "\n",
              "    [theme=dark] .colab-df-convert:hover {\n",
              "      background-color: #434B5C;\n",
              "      box-shadow: 0px 1px 3px 1px rgba(0, 0, 0, 0.15);\n",
              "      filter: drop-shadow(0px 1px 2px rgba(0, 0, 0, 0.3));\n",
              "      fill: #FFFFFF;\n",
              "    }\n",
              "  </style>\n",
              "\n",
              "      <script>\n",
              "        const buttonEl =\n",
              "          document.querySelector('#df-2de334af-bb22-4fde-9437-d79e9eec402e button.colab-df-convert');\n",
              "        buttonEl.style.display =\n",
              "          google.colab.kernel.accessAllowed ? 'block' : 'none';\n",
              "\n",
              "        async function convertToInteractive(key) {\n",
              "          const element = document.querySelector('#df-2de334af-bb22-4fde-9437-d79e9eec402e');\n",
              "          const dataTable =\n",
              "            await google.colab.kernel.invokeFunction('convertToInteractive',\n",
              "                                                     [key], {});\n",
              "          if (!dataTable) return;\n",
              "\n",
              "          const docLinkHtml = 'Like what you see? Visit the ' +\n",
              "            '<a target=\"_blank\" href=https://colab.research.google.com/notebooks/data_table.ipynb>data table notebook</a>'\n",
              "            + ' to learn more about interactive tables.';\n",
              "          element.innerHTML = '';\n",
              "          dataTable['output_type'] = 'display_data';\n",
              "          await google.colab.output.renderOutput(dataTable, element);\n",
              "          const docLink = document.createElement('div');\n",
              "          docLink.innerHTML = docLinkHtml;\n",
              "          element.appendChild(docLink);\n",
              "        }\n",
              "      </script>\n",
              "    </div>\n",
              "  </div>\n",
              "  "
            ]
          },
          "metadata": {},
          "execution_count": 4
        }
      ],
      "source": [
        "#breaking down the dataset into x feature and y target\n",
        "dataset_y = dataset['Chlorophyll']\n",
        "dataset_x = dataset.drop(['Chlorophyll'],axis=1)"
      ]
    },
    {
      "cell_type": "code",
      "execution_count": null,
      "metadata": {
        "id": "UKWM93BiNyiJ"
      },
      "outputs": [],
      "source": [
        "#splitting the data\n",
        "y = dataset_y\n",
        "X_train, X_test, y_train, y_test = train_test_split(dataset_x, y, test_size=0.3, random_state=42)"
      ]
    },
    {
      "cell_type": "markdown",
      "metadata": {
        "id": "1hQIx4ulZ0rA"
      },
      "source": [
        "                                      **LINEAR** **REGRESSION**"
      ]
    },
    {
      "cell_type": "code",
      "execution_count": null,
      "metadata": {
        "id": "BDIBn668Zz1Z",
        "colab": {
          "base_uri": "https://localhost:8080/"
        },
        "outputId": "6d9badb6-0ea1-42b2-d586-6697bf1860af"
      },
      "outputs": [
        {
          "output_type": "stream",
          "name": "stdout",
          "text": [
            "coefficient of determination: 0.9749539065766175\n",
            "intercept: -2.5573924080171624\n",
            "coefficients: [-4.59098360e+02 -3.99471701e+02  3.26030563e+03 -1.94089877e+03\n",
            " -3.96985788e+03  3.00324938e+03  3.57400962e+02  2.11620460e+03\n",
            "  1.71624573e+03 -7.53218417e+03  7.18354277e+03 -4.96869597e+03\n",
            " -7.68680529e+03  1.33522093e+04 -9.76192867e+03  8.20147480e+03\n",
            "  5.81099005e+03 -1.28563075e+04  4.03171510e+03  7.36518836e+03\n",
            " -1.33178120e+04 -4.04153868e+03  5.39353711e+03 -4.34232469e+03\n",
            " -1.89331756e+03  8.22492961e+03 -2.52074985e+03 -5.38834224e+03\n",
            " -2.57435317e+04  3.46144468e+04  5.28101093e+04 -4.62193048e+05\n",
            "  1.44126330e+06  1.63403296e+06 -4.73639586e+06 -6.82923401e+06\n",
            " -4.57211404e+06  1.85687570e+07  1.00720031e+07 -2.05057547e+07\n",
            "  5.78116695e+06]\n"
          ]
        }
      ],
      "source": [
        "from sklearn.linear_model import LinearRegression\n",
        "model_lr = LinearRegression().fit(X_train, y_train)\n",
        "r_sq = model_lr.score(X_train, y_train)\n",
        "print(f\"coefficient of determination: {r_sq}\")\n",
        "print(f\"intercept: {model_lr.intercept_}\")\n",
        "print(f\"coefficients: {model_lr.coef_}\")\n",
        "y_predicted_lr = model_lr.predict(X_test)"
      ]
    },
    {
      "cell_type": "code",
      "execution_count": null,
      "metadata": {
        "id": "Lzr8uT1QazdR",
        "colab": {
          "base_uri": "https://localhost:8080/"
        },
        "outputId": "df09b1cf-b6c6-4dc6-8566-9d5575c09ddc"
      },
      "outputs": [
        {
          "output_type": "stream",
          "name": "stdout",
          "text": [
            "1.8839000944046211\n",
            "0.9596141946290534\n",
            "1.1185328393676313\n",
            "2.26828868734269\n"
          ]
        }
      ],
      "source": [
        "rms = sqrt(mean_squared_error(y_test, y_predicted_lr))\n",
        "print(rms)\n",
        "r_square = model_lr.score(X_test,y_test)\n",
        "print(r_square)\n",
        "mae = mean_absolute_error(y_test,y_predicted_lr)\n",
        "print(mae)\n",
        "mape = mean_absolute_percentage_error(y_test, y_predicted_lr)\n",
        "print(mape)"
      ]
    },
    {
      "cell_type": "markdown",
      "metadata": {
        "id": "Q9cqZ3ogfFPX"
      },
      "source": [
        "                                  **Gradient** **Boosting** **Regressor**"
      ]
    },
    {
      "cell_type": "code",
      "execution_count": null,
      "metadata": {
        "id": "kdlRr_8nfPl3"
      },
      "outputs": [],
      "source": [
        "from sklearn.ensemble import GradientBoostingRegressor\n",
        "model_gb = GradientBoostingRegressor().fit(X_train, y_train)\n",
        "y_predicted_gb = model_gb.predict(X_test)"
      ]
    },
    {
      "cell_type": "code",
      "execution_count": null,
      "metadata": {
        "id": "SYoC51_dgzc-",
        "colab": {
          "base_uri": "https://localhost:8080/"
        },
        "outputId": "b75582fb-0515-4429-8654-91dde4db0583"
      },
      "outputs": [
        {
          "output_type": "stream",
          "name": "stdout",
          "text": [
            "2.4185732952217354\n",
            "0.9334372097671791\n",
            "1.278230633391875\n",
            "0.6020327210290585\n"
          ]
        }
      ],
      "source": [
        "rms = sqrt(mean_squared_error(y_test, y_predicted_gb))\n",
        "print(rms)\n",
        "r_square = model_gb.score(X_test,y_test)\n",
        "print(r_square)\n",
        "mae = mean_absolute_error(y_test,y_predicted_gb)\n",
        "print(mae)\n",
        "mape = mean_absolute_percentage_error(y_test, y_predicted_gb)\n",
        "print(mape)"
      ]
    },
    {
      "cell_type": "code",
      "execution_count": null,
      "metadata": {
        "id": "ZLmNdWOfmkVS",
        "colab": {
          "base_uri": "https://localhost:8080/"
        },
        "outputId": "7a9bfde9-8f88-4fdd-b56f-75b07ff66784"
      },
      "outputs": [
        {
          "output_type": "execute_result",
          "data": {
            "text/plain": [
              "{'learning_rate': 0.01,\n",
              " 'max_depth': 4,\n",
              " 'n_estimators': 2000,\n",
              " 'random_state': 1,\n",
              " 'subsample': 0.5}"
            ]
          },
          "metadata": {},
          "execution_count": 10
        }
      ],
      "source": [
        "#Hyperparameter tuning\n",
        "GBR=GradientBoostingRegressor()\n",
        "search_grid={'n_estimators':[500,1000,2000],'learning_rate':[.001,0.01,.1],'max_depth':[1,2,4],'subsample':[.5,.75,1],'random_state':[1]}\n",
        "search=GridSearchCV(estimator=GBR,param_grid=search_grid,scoring='neg_mean_squared_error',n_jobs=1,cv=5)\n",
        "search.fit(X_train,y_train)\n",
        "search.best_params_"
      ]
    },
    {
      "cell_type": "code",
      "execution_count": null,
      "metadata": {
        "id": "yKvjZFMK9zEL"
      },
      "outputs": [],
      "source": [
        "GBR2 = GradientBoostingRegressor(n_estimators=2000,learning_rate=0.01,subsample=0.5,max_depth=4,random_state=1)\n",
        "model_gbhp = GBR2.fit(X_train, y_train)\n",
        "y_predicted_gbhp = model_gbhp.predict(X_test)"
      ]
    },
    {
      "cell_type": "code",
      "execution_count": null,
      "metadata": {
        "id": "pKmxBG6S-66E",
        "colab": {
          "base_uri": "https://localhost:8080/"
        },
        "outputId": "42e6a10a-e8c6-4ae5-a954-d35683d6a591"
      },
      "outputs": [
        {
          "output_type": "stream",
          "name": "stdout",
          "text": [
            "2.1429994268404586\n",
            "0.9477414780800154\n",
            "1.1968828725890295\n",
            "0.3895011754660333\n"
          ]
        }
      ],
      "source": [
        "rms = sqrt(mean_squared_error(y_test, y_predicted_gbhp))\n",
        "print(rms)\n",
        "r_square = model_gbhp.score(X_test,y_test)\n",
        "print(r_square)\n",
        "mae = mean_absolute_error(y_test,y_predicted_gbhp)\n",
        "print(mae)\n",
        "mape = mean_absolute_percentage_error(y_test, y_predicted_gbhp)\n",
        "print(mape)"
      ]
    },
    {
      "cell_type": "markdown",
      "metadata": {
        "id": "iw_vWL0EhMlo"
      },
      "source": [
        "                                      **PLS** **Regression**"
      ]
    },
    {
      "cell_type": "code",
      "execution_count": null,
      "metadata": {
        "id": "rgkKLuIdiPnt"
      },
      "outputs": [],
      "source": [
        "from sklearn.cross_decomposition import PLSRegression\n",
        "model_plsr = PLSRegression(n_components=41, scale=True)\n",
        "model_plsr.fit(X_train, y_train)\n",
        "y_predicted_plsr = model_plsr.predict(X_test)"
      ]
    },
    {
      "cell_type": "code",
      "execution_count": null,
      "metadata": {
        "id": "4agVxoRJsWWd",
        "colab": {
          "base_uri": "https://localhost:8080/"
        },
        "outputId": "84d55fdf-7406-4487-cf2b-bae74e98d760"
      },
      "outputs": [
        {
          "output_type": "stream",
          "name": "stdout",
          "text": [
            "1.8839000944031539\n",
            "0.9596141946291163\n",
            "1.1185328393683092\n",
            "2.26828868735363\n"
          ]
        }
      ],
      "source": [
        "rms = sqrt(mean_squared_error(y_test, y_predicted_plsr))\n",
        "print(rms)\n",
        "r_square = model_plsr.score(X_test,y_test)\n",
        "print(r_square)\n",
        "mae = mean_absolute_error(y_test,y_predicted_plsr)\n",
        "print(mae)\n",
        "mape = mean_absolute_percentage_error(y_test, y_predicted_plsr)\n",
        "print(mape)"
      ]
    },
    {
      "cell_type": "code",
      "execution_count": null,
      "metadata": {
        "id": "HK8M6zoDBJLJ"
      },
      "outputs": [],
      "source": [
        "#Hyperparameter Tuning\n",
        "r_square = []\n",
        "rms = [] #to store rmse values for different n_components\n",
        "mae = []\n",
        "mape = []\n",
        "for n_comp in range(1, 41):\n",
        "  model_plsrhp = PLSRegression(n_components=n_comp, scale=True)\n",
        "  model_plsrhp.fit(X_train, y_train)\n",
        "  y_predicted_plsrhp = model_plsrhp.predict(X_test)\n",
        "  rms_val = sqrt(mean_squared_error(y_test,y_predicted_plsrhp)) #calculate rmse\n",
        "  rms.append(rms_val) #store rmse values\n",
        "  r2 = model_plsrhp.score(X_test,y_test)\n",
        "  r_square.append(r2) #store r2 values\n",
        "  mae_1 = mean_absolute_error(y_test,y_predicted_gbhp)\n",
        "  mae.append(mae_1)\n",
        "  mape_1 = mean_absolute_percentage_error(y_test, y_predicted_gbhp)\n",
        "  mape.append(mape_1)\n"
      ]
    },
    {
      "cell_type": "code",
      "execution_count": null,
      "metadata": {
        "colab": {
          "base_uri": "https://localhost:8080/"
        },
        "id": "fvtKrTkcDilx",
        "outputId": "34dd5fcf-3a2a-4dbe-c434-3f721f9a0df9"
      },
      "outputs": [
        {
          "output_type": "stream",
          "name": "stdout",
          "text": [
            "1.7237636135411596\n",
            "0.9661881891841494\n",
            "1.1968828725890295\n",
            "0.3895011754660333\n"
          ]
        }
      ],
      "source": [
        "print(min(rms))\n",
        "print(max(r_square))\n",
        "print(min(mae))\n",
        "print(min(mape))"
      ]
    },
    {
      "cell_type": "markdown",
      "metadata": {
        "id": "Nk02aZJFwN3G"
      },
      "source": [
        "                                **Random** **Forset**"
      ]
    },
    {
      "cell_type": "code",
      "execution_count": null,
      "metadata": {
        "id": "uSjx8RW5sm0D"
      },
      "outputs": [],
      "source": [
        "from sklearn.ensemble import RandomForestRegressor\n",
        "model_rfr = RandomForestRegressor(n_estimators = 500)\n",
        "model_rfr.fit(X_train,y_train)\n",
        "y_predicted_rfr = model_rfr.predict(X_test)                          "
      ]
    },
    {
      "cell_type": "code",
      "execution_count": null,
      "metadata": {
        "id": "zdZB2hyFzl66",
        "colab": {
          "base_uri": "https://localhost:8080/"
        },
        "outputId": "5b2f73ca-bca8-423f-a72d-3262744bf9e5"
      },
      "outputs": [
        {
          "output_type": "stream",
          "name": "stdout",
          "text": [
            "2.191385865685305\n",
            "0.9453549629819444\n",
            "1.1856762666666665\n",
            "0.29188598412698413\n"
          ]
        }
      ],
      "source": [
        "rms = sqrt(mean_squared_error(y_test, y_predicted_rfr))\n",
        "print(rms)\n",
        "r_square = model_rfr.score(X_test,y_test)\n",
        "print(r_square)\n",
        "mae = mean_absolute_error(y_test,y_predicted_rfr)\n",
        "print(mae)\n",
        "mape = mean_absolute_percentage_error(y_test, y_predicted_rfr)\n",
        "print(mape)"
      ]
    },
    {
      "cell_type": "code",
      "execution_count": null,
      "metadata": {
        "id": "WcoDs5NVFW6N"
      },
      "outputs": [],
      "source": [
        "#Hyperparameter Tuning\n",
        "from sklearn.model_selection import GridSearchCV\n",
        "# Create the parameter grid based on the results of random search \n",
        "param_grid = {'bootstrap': [True],'max_depth': [80, 90, 100, 110],'max_features': [2, 3],'min_samples_leaf': [3, 4, 5],'min_samples_split': [8, 10, 12],'n_estimators': [100, 200, 300, 1000]}\n",
        "# Create a based model\n",
        "rf = RandomForestRegressor()\n",
        "# Instantiate the grid search model\n",
        "grid_search = GridSearchCV(estimator = rf, param_grid = param_grid, cv = 3, n_jobs = -1, verbose = 2)"
      ]
    },
    {
      "cell_type": "code",
      "execution_count": null,
      "metadata": {
        "id": "aW0Pmje1F-Tu",
        "colab": {
          "base_uri": "https://localhost:8080/"
        },
        "outputId": "5e9ebca2-df86-49cb-847d-6b74cdc3d7b1"
      },
      "outputs": [
        {
          "output_type": "stream",
          "name": "stdout",
          "text": [
            "Fitting 3 folds for each of 288 candidates, totalling 864 fits\n",
            "{'bootstrap': True, 'max_depth': 110, 'max_features': 3, 'min_samples_leaf': 3, 'min_samples_split': 8, 'n_estimators': 100}\n"
          ]
        }
      ],
      "source": [
        "# Fit the grid search to the data\n",
        "grid_search.fit(X_train, y_train)\n",
        "print(grid_search.best_params_)\n",
        "model_rfrhp = grid_search.best_estimator_\n",
        "model_rfrhp.fit(X_train,y_train)\n",
        "y_predicted_rfrhp = model_rfrhp.predict(X_test)   "
      ]
    },
    {
      "cell_type": "code",
      "execution_count": null,
      "metadata": {
        "id": "557JkWx2HGvo",
        "colab": {
          "base_uri": "https://localhost:8080/"
        },
        "outputId": "4e2754ff-7732-4952-8f4b-37620f170ada"
      },
      "outputs": [
        {
          "output_type": "stream",
          "name": "stdout",
          "text": [
            "2.5367352866010253\n",
            "0.9267743370300319\n",
            "1.3690633158451573\n",
            "0.34389125819530353\n"
          ]
        }
      ],
      "source": [
        "rms = sqrt(mean_squared_error(y_test, y_predicted_rfrhp))\n",
        "print(rms)\n",
        "r_square = model_rfrhp.score(X_test,y_test)\n",
        "print(r_square)\n",
        "mae = mean_absolute_error(y_test,y_predicted_rfrhp)\n",
        "print(mae)\n",
        "mape = mean_absolute_percentage_error(y_test, y_predicted_rfrhp)\n",
        "print(mape)"
      ]
    },
    {
      "cell_type": "markdown",
      "metadata": {
        "id": "oWoSxtiV0E57"
      },
      "source": [
        "                                    **KNN**"
      ]
    },
    {
      "cell_type": "code",
      "execution_count": null,
      "metadata": {
        "id": "nOUdpp5Z0Dqh"
      },
      "outputs": [],
      "source": [
        "from sklearn import neighbors\n",
        "r_square = []\n",
        "rms = [] #to store rmse values for different k\n",
        "mae = []\n",
        "mape = []\n",
        "for K in range(20):\n",
        "    K = K+1\n",
        "    model_knn = neighbors.KNeighborsRegressor(n_neighbors = K)\n",
        "    model_knn.fit(X_train, y_train)  #fit the model\n",
        "    y_predicted_knn = model_knn.predict(X_test) #make prediction on test set\n",
        "    rms_val = sqrt(mean_squared_error(y_test,y_predicted_knn)) #calculate rmse\n",
        "    rms.append(rms_val) #store rmse values\n",
        "    r2 = model_knn.score(X_test,y_test)\n",
        "    r_square.append(r2) #store r2 values\n",
        "    mae_1 = mean_absolute_error(y_test,y_predicted_knn)\n",
        "    mae.append(mae_1)\n",
        "    mape_1 = mean_absolute_percentage_error(y_test, y_predicted_knn)\n",
        "    mape.append(mape_1)"
      ]
    },
    {
      "cell_type": "code",
      "execution_count": null,
      "metadata": {
        "id": "dYTA8sNU4Hh2",
        "colab": {
          "base_uri": "https://localhost:8080/"
        },
        "outputId": "f05a1cc7-8354-4cfd-bce1-8c4f69a53e51"
      },
      "outputs": [
        {
          "output_type": "stream",
          "name": "stdout",
          "text": [
            "3.14045266847997\n",
            "0.8877729578581656\n",
            "1.580333333333333\n",
            "0.33485396825396824\n"
          ]
        }
      ],
      "source": [
        "print(min(rms))\n",
        "print(max(r_square))\n",
        "print(min(mae))\n",
        "print(min(mape))"
      ]
    },
    {
      "cell_type": "code",
      "execution_count": null,
      "metadata": {
        "id": "FN63moME18q5",
        "colab": {
          "base_uri": "https://localhost:8080/",
          "height": 282
        },
        "outputId": "2aeb0465-b592-4b65-aaf2-41698d49784f"
      },
      "outputs": [
        {
          "output_type": "execute_result",
          "data": {
            "text/plain": [
              "<matplotlib.axes._subplots.AxesSubplot at 0x7f4b75c18150>"
            ]
          },
          "metadata": {},
          "execution_count": 24
        },
        {
          "output_type": "display_data",
          "data": {
            "text/plain": [
              "<Figure size 432x288 with 1 Axes>"
            ],
            "image/png": "[encoded data removed]"
          },
          "metadata": {
            "needs_background": "light"
          }
        }
      ],
      "source": [
        "#plotting the rmse values against k values\n",
        "curve = pd.DataFrame(rms) #elbow curve \n",
        "curve.plot()"
      ]
    },
    {
      "cell_type": "markdown",
      "metadata": {
        "id": "zEWIS-tlRoG9"
      },
      "source": [
        "                                        **SVR**"
      ]
    },
    {
      "cell_type": "code",
      "execution_count": null,
      "metadata": {
        "colab": {
          "base_uri": "https://localhost:8080/",
          "height": 629
        },
        "id": "3q46utjA4PAB",
        "outputId": "4d5f4091-02a9-485d-c902-35a581fddc69"
      },
      "outputs": [
        {
          "output_type": "stream",
          "name": "stdout",
          "text": [
            "{'C': 1.0, 'cache_size': 200, 'coef0': 0.0, 'degree': 3, 'epsilon': 0.1, 'gamma': 'scale', 'kernel': 'rbf', 'max_iter': -1, 'shrinking': True, 'tol': 0.001, 'verbose': False}\n"
          ]
        },
        {
          "output_type": "display_data",
          "data": {
            "text/plain": [
              "<Figure size 720x720 with 1 Axes>"
            ],
            "image/png": "[encoded data removed]"
          },
          "metadata": {
            "needs_background": "light"
          }
        }
      ],
      "source": [
        "from sklearn.svm import SVR\n",
        "model_svr = SVR(kernel = 'rbf')\n",
        "model_svr.fit(X_train, y_train)\n",
        "y_predicted_svr = model_svr.predict(X_test)\n",
        "plt.figure(figsize = (10,10))\n",
        "plt.scatter(y_test,y_predicted_svr)\n",
        "print(model_svr.get_params())"
      ]
    },
    {
      "cell_type": "code",
      "execution_count": null,
      "metadata": {
        "colab": {
          "base_uri": "https://localhost:8080/"
        },
        "id": "N-B0jIoiTGQF",
        "outputId": "e8d582e2-f480-49b8-bf54-aa9cd23c035f"
      },
      "outputs": [
        {
          "output_type": "stream",
          "name": "stdout",
          "text": [
            "5.084983779013794\n",
            "0.7057664742025607\n",
            "2.4996012570806863\n",
            "1.0898762466407363\n"
          ]
        }
      ],
      "source": [
        "rms = sqrt(mean_squared_error(y_test, y_predicted_svr))\n",
        "print(rms)\n",
        "r_square = model_svr.score(X_test,y_test)\n",
        "print(r_square)\n",
        "mae = mean_absolute_error(y_test,y_predicted_svr)\n",
        "print(mae)\n",
        "mape = mean_absolute_percentage_error(y_test, y_predicted_svr)\n",
        "print(mape)"
      ]
    },
    {
      "cell_type": "code",
      "execution_count": null,
      "metadata": {
        "id": "gDvWB6xq464M",
        "colab": {
          "base_uri": "https://localhost:8080/"
        },
        "outputId": "0a977aff-6245-4eb0-af64-9d135fe4524b"
      },
      "outputs": [
        {
          "output_type": "stream",
          "name": "stdout",
          "text": [
            "{'C': 100.0, 'epsilon': 1, 'gamma': 100.0, 'kernel': 'rbf'}\n"
          ]
        }
      ],
      "source": [
        "#Hyperparameter Tuning\n",
        "c_range = np.logspace(-2, 2, 5)\n",
        "gamma_range = np.logspace(-2, 2, 5)\n",
        "parameters = {'kernel': ['rbf','poly'], 'C': c_range,'gamma': gamma_range,'epsilon':[1000,100,10,1,0.1,0.01]}\n",
        "svr = SVR()\n",
        "grid_search = GridSearchCV(svr, parameters)\n",
        "grid_search.fit(X_train,y_train)\n",
        "print(grid_search.best_params_)"
      ]
    },
    {
      "cell_type": "code",
      "execution_count": null,
      "metadata": {
        "id": "r4C3Qmf39cTX"
      },
      "outputs": [],
      "source": [
        "model_svrhp = grid_search.best_estimator_\n",
        "model_svrhp.fit(X_train,y_train)\n",
        "y_predicted_svrhp = model_svrhp.predict(X_test)"
      ]
    },
    {
      "cell_type": "code",
      "execution_count": null,
      "metadata": {
        "colab": {
          "base_uri": "https://localhost:8080/"
        },
        "id": "s4GGAOlU-X45",
        "outputId": "417d2865-708d-4b61-a9de-88a29c889550"
      },
      "outputs": [
        {
          "output_type": "stream",
          "name": "stdout",
          "text": [
            "3.638902639103664\n",
            "0.8493205993367713\n",
            "2.067573134441796\n",
            "3.273575458933324\n"
          ]
        }
      ],
      "source": [
        "rms = sqrt(mean_squared_error(y_test, y_predicted_svrhp))\n",
        "print(rms)\n",
        "r_square = model_svrhp.score(X_test,y_test)\n",
        "print(r_square)\n",
        "mae = mean_absolute_error(y_test,y_predicted_svrhp)\n",
        "print(mae)\n",
        "mape = mean_absolute_percentage_error(y_test, y_predicted_svrhp)\n",
        "print(mape)"
      ]
    },
    {
      "cell_type": "markdown",
      "metadata": {
        "id": "SStmJjM6TrHc"
      },
      "source": [
        "                                         **AdaBoost**"
      ]
    },
    {
      "cell_type": "code",
      "execution_count": null,
      "metadata": {
        "id": "FTQSriQUT66n"
      },
      "outputs": [],
      "source": [
        "from sklearn.ensemble import AdaBoostRegressor\n",
        "adb = AdaBoostRegressor()\n",
        "model_abr = adb.fit(X_train, y_train)\n",
        "y_predicted_abr = model_abr.predict(X_test)"
      ]
    },
    {
      "cell_type": "code",
      "execution_count": null,
      "metadata": {
        "colab": {
          "base_uri": "https://localhost:8080/"
        },
        "id": "x6ch1rpDW38x",
        "outputId": "c90bf701-c32e-4d7b-b3b4-21dff96b7dac"
      },
      "outputs": [
        {
          "output_type": "stream",
          "name": "stdout",
          "text": [
            "2.9786064489303063\n",
            "0.8990423429777452\n",
            "2.279130235324555\n",
            "8.948325804046926\n"
          ]
        }
      ],
      "source": [
        "rms = sqrt(mean_squared_error(y_test, y_predicted_abr))\n",
        "print(rms)\n",
        "r_square = model_abr.score(X_test,y_test)\n",
        "print(r_square)\n",
        "mae = mean_absolute_error(y_test,y_predicted_abr)\n",
        "print(mae)\n",
        "mape = mean_absolute_percentage_error(y_test, y_predicted_abr)\n",
        "print(mape)"
      ]
    },
    {
      "cell_type": "code",
      "execution_count": null,
      "metadata": {
        "id": "YVUXwZ9XIZFB"
      },
      "outputs": [],
      "source": [
        "#Hyperparametrer Tuning\n",
        "param_grid = {'n_estimators':list(range(0, 1000, 100)), 'learning_rate':[100,10,1,0.1, 0.01, 0.001]}\n",
        "grid_search = GridSearchCV(estimator=adb, param_grid=param_grid, scoring='neg_mean_squared_error', n_jobs=1, cv=5)"
      ]
    },
    {
      "cell_type": "code",
      "execution_count": null,
      "metadata": {
        "colab": {
          "base_uri": "https://localhost:8080/"
        },
        "id": "pZ-GWVx1MHkN",
        "outputId": "8ddacf28-5868-47ff-8b9c-5d70ffe2e81e"
      },
      "outputs": [
        {
          "output_type": "stream",
          "name": "stdout",
          "text": [
            "{'learning_rate': 0.1, 'n_estimators': 300}\n"
          ]
        }
      ],
      "source": [
        "#fit the data\n",
        "grid_search.fit(X_train, y_train)\n",
        "print(grid_search.best_params_)\n",
        "model_adbhp = grid_search.best_estimator_\n",
        "model_adbhp.fit(X_train,y_train)\n",
        "y_predicted_abrhp = model_adbhp.predict(X_test)   "
      ]
    },
    {
      "cell_type": "code",
      "source": [
        "rms = sqrt(mean_squared_error(y_test, y_predicted_abrhp))\n",
        "print(rms)\n",
        "r_square = model_adbhp.score(X_test,y_test)\n",
        "print(r_square)\n",
        "mae = mean_absolute_error(y_test,y_predicted_abrhp)\n",
        "print(mae)\n",
        "mape = mean_absolute_percentage_error(y_test, y_predicted_abrhp)\n",
        "print(mape)"
      ],
      "metadata": {
        "colab": {
          "base_uri": "https://localhost:8080/"
        },
        "id": "0nCeRDIS0LrX",
        "outputId": "c7d237dc-38f5-4111-a45a-d961a1762149"
      },
      "execution_count": null,
      "outputs": [
        {
          "output_type": "stream",
          "name": "stdout",
          "text": [
            "2.8665843950521155\n",
            "0.906493354561137\n",
            "2.145127685062103\n",
            "8.73608489177908\n"
          ]
        }
      ]
    },
    {
      "cell_type": "markdown",
      "metadata": {
        "id": "WQgVew6yXIc-"
      },
      "source": [
        "                                   **Ridge & Lasso** **Regression**"
      ]
    },
    {
      "cell_type": "code",
      "execution_count": null,
      "metadata": {
        "id": "FlTiNeMfXBk3",
        "colab": {
          "base_uri": "https://localhost:8080/"
        },
        "outputId": "40e00934-5977-45e9-9f69-5a217e1d0865"
      },
      "outputs": [
        {
          "output_type": "execute_result",
          "data": {
            "text/plain": [
              "GridSearchCV(cv=5, estimator=Ridge(),\n",
              "             param_grid={'alpha': [1e-15, 1e-10, 1e-08, 0.0001, 0.001, 0.01, 1,\n",
              "                                   5, 10, 20]},\n",
              "             scoring='neg_mean_squared_error')"
            ]
          },
          "metadata": {},
          "execution_count": 35
        }
      ],
      "source": [
        "#Ridge Regression, using Grid Search CV to find the best parameter for alpha\n",
        "from sklearn.model_selection import cross_val_score\n",
        "from sklearn.model_selection import GridSearchCV\n",
        "from sklearn.linear_model import Ridge\n",
        "ridge = Ridge()\n",
        "parameters = {\"alpha\":[1e-15, 1e-10, 1e-8, 1e-4, 1e-3, 1e-2, 1, 5, 10, 20]}\n",
        "ridge_regression = GridSearchCV(ridge, parameters, scoring='neg_mean_squared_error', cv=5)\n",
        "ridge_regression.fit(X_train, y_train)"
      ]
    },
    {
      "cell_type": "code",
      "execution_count": null,
      "metadata": {
        "id": "tU9FLL30b-oO",
        "colab": {
          "base_uri": "https://localhost:8080/"
        },
        "outputId": "81e5763a-2ca2-468a-e9ce-d73deef168f7"
      },
      "outputs": [
        {
          "output_type": "stream",
          "name": "stdout",
          "text": [
            "{'alpha': 1e-15}\n"
          ]
        }
      ],
      "source": [
        "print(ridge_regression.best_params_)"
      ]
    },
    {
      "cell_type": "code",
      "execution_count": null,
      "metadata": {
        "id": "zu1t0mTBcHIi"
      },
      "outputs": [],
      "source": [
        "model_rr = Ridge(alpha=1e-15).fit(X_train,y_train)\n",
        "y_predicted_rr = model_rr.predict(X_test)"
      ]
    },
    {
      "cell_type": "code",
      "execution_count": null,
      "metadata": {
        "id": "q88D0Pp0dnZh",
        "colab": {
          "base_uri": "https://localhost:8080/"
        },
        "outputId": "9ea7331f-9da5-477a-cd59-fe478a84c8a4"
      },
      "outputs": [
        {
          "output_type": "stream",
          "name": "stdout",
          "text": [
            "1.881057024713002\n",
            "0.9597359983489756\n",
            "1.1174658243377584\n",
            "2.270867818635717\n"
          ]
        }
      ],
      "source": [
        "rms = sqrt(mean_squared_error(y_test, y_predicted_rr))\n",
        "print(rms)\n",
        "r_square = model_rr.score(X_test,y_test)\n",
        "print(r_square)\n",
        "mae = mean_absolute_error(y_test,y_predicted_rr)\n",
        "print(mae)\n",
        "mape = mean_absolute_percentage_error(y_test, y_predicted_rr)\n",
        "print(mape)"
      ]
    },
    {
      "cell_type": "code",
      "execution_count": null,
      "metadata": {
        "id": "nGbDKqYpdt-H",
        "colab": {
          "base_uri": "https://localhost:8080/"
        },
        "outputId": "50f93a0c-fb97-41f6-8d2b-7608fdc72fb3"
      },
      "outputs": [
        {
          "output_type": "execute_result",
          "data": {
            "text/plain": [
              "GridSearchCV(cv=5, estimator=Lasso(),\n",
              "             param_grid={'alpha': [1e-15, 1e-10, 1e-08, 0.0001, 0.001, 0.01, 1,\n",
              "                                   5, 10, 20]},\n",
              "             scoring='neg_mean_squared_error')"
            ]
          },
          "metadata": {},
          "execution_count": 39
        }
      ],
      "source": [
        "#Lasso Regression, using Grid Search CV to find the best parameter for alpha\n",
        "from sklearn.linear_model import Lasso\n",
        "lasso = Lasso()\n",
        "parameters = {\"alpha\":[1e-15, 1e-10, 1e-8, 1e-4, 1e-3, 1e-2, 1, 5, 10, 20]}\n",
        "lasso_regression = GridSearchCV(lasso, parameters, scoring='neg_mean_squared_error', cv=5)\n",
        "lasso_regression.fit(X_train, y_train)"
      ]
    },
    {
      "cell_type": "code",
      "execution_count": null,
      "metadata": {
        "id": "9uDJPCqPeDbA",
        "colab": {
          "base_uri": "https://localhost:8080/"
        },
        "outputId": "ac35fa41-42ec-4f9e-f2ba-bd9c6ed40806"
      },
      "outputs": [
        {
          "output_type": "stream",
          "name": "stdout",
          "text": [
            "{'alpha': 1e-08}\n"
          ]
        }
      ],
      "source": [
        "print(lasso_regression.best_params_)"
      ]
    },
    {
      "cell_type": "code",
      "execution_count": null,
      "metadata": {
        "id": "NsP5giCkeMdI"
      },
      "outputs": [],
      "source": [
        "model_lr = Lasso(alpha=1e-08).fit(X_train,y_train)\n",
        "y_predicted_lr = model_lr.predict(X_test)"
      ]
    },
    {
      "cell_type": "code",
      "execution_count": null,
      "metadata": {
        "id": "PYoW-gqCea7r",
        "colab": {
          "base_uri": "https://localhost:8080/"
        },
        "outputId": "e2d40863-179d-4efe-fef3-c3aae03d1a56"
      },
      "outputs": [
        {
          "output_type": "stream",
          "name": "stdout",
          "text": [
            "2.8516838907419597\n",
            "0.9074629230827325\n",
            "2.045229410252651\n",
            "6.96938781118769\n"
          ]
        }
      ],
      "source": [
        "rms = sqrt(mean_squared_error(y_test, y_predicted_lr))\n",
        "print(rms)\n",
        "r_square = model_lr.score(X_test,y_test)\n",
        "print(r_square)\n",
        "mae = mean_absolute_error(y_test,y_predicted_lr)\n",
        "print(mae)\n",
        "mape = mean_absolute_percentage_error(y_test, y_predicted_lr)\n",
        "print(mape)"
      ]
    },
    {
      "cell_type": "markdown",
      "metadata": {
        "id": "SBcFPVY2et55"
      },
      "source": [
        "                                                      **ANN**                                                "
      ]
    },
    {
      "cell_type": "code",
      "execution_count": null,
      "metadata": {
        "id": "6MgqOUmketfs"
      },
      "outputs": [],
      "source": [
        "import math\n",
        "import tensorflow as tf\n",
        "import matplotlib.pyplot as plt\n",
        "from tensorflow.keras import Model\n",
        "from tensorflow.keras import Sequential\n",
        "from tensorflow.keras.optimizers import Adam\n",
        "from sklearn.preprocessing import StandardScaler\n",
        "from tensorflow.keras.layers import Dense, Dropout\n",
        "from sklearn.model_selection import train_test_split\n",
        "from tensorflow.keras.losses import MeanSquaredLogarithmicError"
      ]
    },
    {
      "cell_type": "code",
      "source": [
        "input_unit = 41\n",
        "hidden_units2 = 24\n",
        "learning_rate = 0.1\n",
        "# Creating model using the Sequential in tensorflow\n",
        "def build_model_using_sequential():\n",
        "  model = Sequential([\n",
        "    Dense(input_unit, kernel_initializer='normal', activation='relu'),\n",
        "    Dropout(0.4),\n",
        "    # Dense(hidden_units2, kernel_initializer='normal', activation='relu'),\n",
        "    Dense(1, kernel_initializer='normal', activation='linear')\n",
        "  ])\n",
        "  return model\n",
        "# build the model\n",
        "model = build_model_using_sequential()"
      ],
      "metadata": {
        "id": "POuSwTiYV-Yh"
      },
      "execution_count": null,
      "outputs": []
    },
    {
      "cell_type": "code",
      "source": [
        "msle = MeanSquaredLogarithmicError()\n",
        "model.compile(\n",
        "    loss=msle, \n",
        "    optimizer=Adam(learning_rate=learning_rate), \n",
        "    metrics=[msle]\n",
        ")\n",
        "# train the model\n",
        "history = model.fit(\n",
        "    X_train.values, \n",
        "    y_train.values, \n",
        "    epochs=150, \n",
        "    batch_size=64,\n",
        "    validation_split=0.2\n",
        ")"
      ],
      "metadata": {
        "colab": {
          "base_uri": "https://localhost:8080/"
        },
        "id": "su28SlqgWKKb",
        "outputId": "9829590a-5d3e-4c4b-e001-952740b56cc5"
      },
      "execution_count": null,
      "outputs": [
        {
          "output_type": "stream",
          "name": "stdout",
          "text": [
            "Epoch 1/150\n",
            "5/5 [==============================] - 1s 55ms/step - loss: 2.0109 - mean_squared_logarithmic_error: 1.9460 - val_loss: 1.3024 - val_mean_squared_logarithmic_error: 1.3218\n",
            "Epoch 2/150\n",
            "5/5 [==============================] - 0s 10ms/step - loss: 1.4581 - mean_squared_logarithmic_error: 1.5044 - val_loss: 1.3733 - val_mean_squared_logarithmic_error: 1.4473\n",
            "Epoch 3/150\n",
            "5/5 [==============================] - 0s 8ms/step - loss: 1.2803 - mean_squared_logarithmic_error: 1.2203 - val_loss: 1.1488 - val_mean_squared_logarithmic_error: 1.1230\n",
            "Epoch 4/150\n",
            "5/5 [==============================] - 0s 9ms/step - loss: 1.2110 - mean_squared_logarithmic_error: 1.1904 - val_loss: 1.1379 - val_mean_squared_logarithmic_error: 1.0823\n",
            "Epoch 5/150\n",
            "5/5 [==============================] - 0s 9ms/step - loss: 1.0758 - mean_squared_logarithmic_error: 1.0532 - val_loss: 0.9012 - val_mean_squared_logarithmic_error: 0.8979\n",
            "Epoch 6/150\n",
            "5/5 [==============================] - 0s 9ms/step - loss: 0.8789 - mean_squared_logarithmic_error: 0.8232 - val_loss: 0.6571 - val_mean_squared_logarithmic_error: 0.6472\n",
            "Epoch 7/150\n",
            "5/5 [==============================] - 0s 10ms/step - loss: 0.6363 - mean_squared_logarithmic_error: 0.6087 - val_loss: 0.4568 - val_mean_squared_logarithmic_error: 0.4593\n",
            "Epoch 8/150\n",
            "5/5 [==============================] - 0s 10ms/step - loss: 0.4564 - mean_squared_logarithmic_error: 0.4616 - val_loss: 0.3374 - val_mean_squared_logarithmic_error: 0.3522\n",
            "Epoch 9/150\n",
            "5/5 [==============================] - 0s 8ms/step - loss: 0.3425 - mean_squared_logarithmic_error: 0.3497 - val_loss: 0.2571 - val_mean_squared_logarithmic_error: 0.2813\n",
            "Epoch 10/150\n",
            "5/5 [==============================] - 0s 8ms/step - loss: 0.2937 - mean_squared_logarithmic_error: 0.3158 - val_loss: 0.2238 - val_mean_squared_logarithmic_error: 0.2546\n",
            "Epoch 11/150\n",
            "5/5 [==============================] - 0s 9ms/step - loss: 0.2536 - mean_squared_logarithmic_error: 0.2390 - val_loss: 0.2070 - val_mean_squared_logarithmic_error: 0.2368\n",
            "Epoch 12/150\n",
            "5/5 [==============================] - 0s 10ms/step - loss: 0.2409 - mean_squared_logarithmic_error: 0.2357 - val_loss: 0.1811 - val_mean_squared_logarithmic_error: 0.2141\n",
            "Epoch 13/150\n",
            "5/5 [==============================] - 0s 9ms/step - loss: 0.2192 - mean_squared_logarithmic_error: 0.2245 - val_loss: 0.1707 - val_mean_squared_logarithmic_error: 0.2030\n",
            "Epoch 14/150\n",
            "5/5 [==============================] - 0s 9ms/step - loss: 0.1777 - mean_squared_logarithmic_error: 0.1749 - val_loss: 0.1590 - val_mean_squared_logarithmic_error: 0.1926\n",
            "Epoch 15/150\n",
            "5/5 [==============================] - 0s 14ms/step - loss: 0.1917 - mean_squared_logarithmic_error: 0.1829 - val_loss: 0.1516 - val_mean_squared_logarithmic_error: 0.1800\n",
            "Epoch 16/150\n",
            "5/5 [==============================] - 0s 9ms/step - loss: 0.1612 - mean_squared_logarithmic_error: 0.1641 - val_loss: 0.1473 - val_mean_squared_logarithmic_error: 0.1792\n",
            "Epoch 17/150\n",
            "5/5 [==============================] - 0s 9ms/step - loss: 0.1567 - mean_squared_logarithmic_error: 0.1504 - val_loss: 0.1437 - val_mean_squared_logarithmic_error: 0.1718\n",
            "Epoch 18/150\n",
            "5/5 [==============================] - 0s 10ms/step - loss: 0.1697 - mean_squared_logarithmic_error: 0.1896 - val_loss: 0.1507 - val_mean_squared_logarithmic_error: 0.1823\n",
            "Epoch 19/150\n",
            "5/5 [==============================] - 0s 9ms/step - loss: 0.1513 - mean_squared_logarithmic_error: 0.1560 - val_loss: 0.1265 - val_mean_squared_logarithmic_error: 0.1453\n",
            "Epoch 20/150\n",
            "5/5 [==============================] - 0s 10ms/step - loss: 0.1362 - mean_squared_logarithmic_error: 0.1319 - val_loss: 0.1246 - val_mean_squared_logarithmic_error: 0.1493\n",
            "Epoch 21/150\n",
            "5/5 [==============================] - 0s 9ms/step - loss: 0.1371 - mean_squared_logarithmic_error: 0.1416 - val_loss: 0.1198 - val_mean_squared_logarithmic_error: 0.1404\n",
            "Epoch 22/150\n",
            "5/5 [==============================] - 0s 9ms/step - loss: 0.1358 - mean_squared_logarithmic_error: 0.1418 - val_loss: 0.1148 - val_mean_squared_logarithmic_error: 0.1334\n",
            "Epoch 23/150\n",
            "5/5 [==============================] - 0s 9ms/step - loss: 0.1431 - mean_squared_logarithmic_error: 0.1345 - val_loss: 0.1086 - val_mean_squared_logarithmic_error: 0.1237\n",
            "Epoch 24/150\n",
            "5/5 [==============================] - 0s 10ms/step - loss: 0.1269 - mean_squared_logarithmic_error: 0.1299 - val_loss: 0.1101 - val_mean_squared_logarithmic_error: 0.1299\n",
            "Epoch 25/150\n",
            "5/5 [==============================] - 0s 8ms/step - loss: 0.1309 - mean_squared_logarithmic_error: 0.1324 - val_loss: 0.1060 - val_mean_squared_logarithmic_error: 0.1166\n",
            "Epoch 26/150\n",
            "5/5 [==============================] - 0s 10ms/step - loss: 0.1484 - mean_squared_logarithmic_error: 0.1594 - val_loss: 0.1117 - val_mean_squared_logarithmic_error: 0.1266\n",
            "Epoch 27/150\n",
            "5/5 [==============================] - 0s 10ms/step - loss: 0.1443 - mean_squared_logarithmic_error: 0.1419 - val_loss: 0.1017 - val_mean_squared_logarithmic_error: 0.1152\n",
            "Epoch 28/150\n",
            "5/5 [==============================] - 0s 9ms/step - loss: 0.1411 - mean_squared_logarithmic_error: 0.1371 - val_loss: 0.1076 - val_mean_squared_logarithmic_error: 0.1266\n",
            "Epoch 29/150\n",
            "5/5 [==============================] - 0s 11ms/step - loss: 0.1364 - mean_squared_logarithmic_error: 0.1245 - val_loss: 0.1012 - val_mean_squared_logarithmic_error: 0.1071\n",
            "Epoch 30/150\n",
            "5/5 [==============================] - 0s 10ms/step - loss: 0.1241 - mean_squared_logarithmic_error: 0.1458 - val_loss: 0.1099 - val_mean_squared_logarithmic_error: 0.1279\n",
            "Epoch 31/150\n",
            "5/5 [==============================] - 0s 9ms/step - loss: 0.1419 - mean_squared_logarithmic_error: 0.1420 - val_loss: 0.0948 - val_mean_squared_logarithmic_error: 0.0970\n",
            "Epoch 32/150\n",
            "5/5 [==============================] - 0s 9ms/step - loss: 0.1154 - mean_squared_logarithmic_error: 0.1094 - val_loss: 0.0951 - val_mean_squared_logarithmic_error: 0.1080\n",
            "Epoch 33/150\n",
            "5/5 [==============================] - 0s 9ms/step - loss: 0.1155 - mean_squared_logarithmic_error: 0.1243 - val_loss: 0.0929 - val_mean_squared_logarithmic_error: 0.1035\n",
            "Epoch 34/150\n",
            "5/5 [==============================] - 0s 10ms/step - loss: 0.1319 - mean_squared_logarithmic_error: 0.1300 - val_loss: 0.0913 - val_mean_squared_logarithmic_error: 0.1004\n",
            "Epoch 35/150\n",
            "5/5 [==============================] - 0s 11ms/step - loss: 0.1127 - mean_squared_logarithmic_error: 0.1048 - val_loss: 0.0927 - val_mean_squared_logarithmic_error: 0.1041\n",
            "Epoch 36/150\n",
            "5/5 [==============================] - 0s 9ms/step - loss: 0.1052 - mean_squared_logarithmic_error: 0.1000 - val_loss: 0.0860 - val_mean_squared_logarithmic_error: 0.0876\n",
            "Epoch 37/150\n",
            "5/5 [==============================] - 0s 9ms/step - loss: 0.1101 - mean_squared_logarithmic_error: 0.1042 - val_loss: 0.0869 - val_mean_squared_logarithmic_error: 0.0925\n",
            "Epoch 38/150\n",
            "5/5 [==============================] - 0s 9ms/step - loss: 0.1222 - mean_squared_logarithmic_error: 0.1234 - val_loss: 0.0848 - val_mean_squared_logarithmic_error: 0.0885\n",
            "Epoch 39/150\n",
            "5/5 [==============================] - 0s 10ms/step - loss: 0.1193 - mean_squared_logarithmic_error: 0.1268 - val_loss: 0.0827 - val_mean_squared_logarithmic_error: 0.0839\n",
            "Epoch 40/150\n",
            "5/5 [==============================] - 0s 8ms/step - loss: 0.1145 - mean_squared_logarithmic_error: 0.1078 - val_loss: 0.0849 - val_mean_squared_logarithmic_error: 0.0913\n",
            "Epoch 41/150\n",
            "5/5 [==============================] - 0s 10ms/step - loss: 0.1158 - mean_squared_logarithmic_error: 0.1218 - val_loss: 0.0853 - val_mean_squared_logarithmic_error: 0.0926\n",
            "Epoch 42/150\n",
            "5/5 [==============================] - 0s 9ms/step - loss: 0.1154 - mean_squared_logarithmic_error: 0.1219 - val_loss: 0.0811 - val_mean_squared_logarithmic_error: 0.0776\n",
            "Epoch 43/150\n",
            "5/5 [==============================] - 0s 9ms/step - loss: 0.1110 - mean_squared_logarithmic_error: 0.1142 - val_loss: 0.0814 - val_mean_squared_logarithmic_error: 0.0845\n",
            "Epoch 44/150\n",
            "5/5 [==============================] - 0s 9ms/step - loss: 0.1031 - mean_squared_logarithmic_error: 0.0967 - val_loss: 0.0809 - val_mean_squared_logarithmic_error: 0.0832\n",
            "Epoch 45/150\n",
            "5/5 [==============================] - 0s 9ms/step - loss: 0.1169 - mean_squared_logarithmic_error: 0.1160 - val_loss: 0.0846 - val_mean_squared_logarithmic_error: 0.0903\n",
            "Epoch 46/150\n",
            "5/5 [==============================] - 0s 9ms/step - loss: 0.1340 - mean_squared_logarithmic_error: 0.1332 - val_loss: 0.0775 - val_mean_squared_logarithmic_error: 0.0814\n",
            "Epoch 47/150\n",
            "5/5 [==============================] - 0s 9ms/step - loss: 0.1087 - mean_squared_logarithmic_error: 0.1158 - val_loss: 0.0783 - val_mean_squared_logarithmic_error: 0.0802\n",
            "Epoch 48/150\n",
            "5/5 [==============================] - 0s 9ms/step - loss: 0.1138 - mean_squared_logarithmic_error: 0.1181 - val_loss: 0.0812 - val_mean_squared_logarithmic_error: 0.0856\n",
            "Epoch 49/150\n",
            "5/5 [==============================] - 0s 9ms/step - loss: 0.1110 - mean_squared_logarithmic_error: 0.1046 - val_loss: 0.0809 - val_mean_squared_logarithmic_error: 0.0793\n",
            "Epoch 50/150\n",
            "5/5 [==============================] - 0s 9ms/step - loss: 0.1266 - mean_squared_logarithmic_error: 0.1255 - val_loss: 0.0812 - val_mean_squared_logarithmic_error: 0.0831\n",
            "Epoch 51/150\n",
            "5/5 [==============================] - 0s 8ms/step - loss: 0.1432 - mean_squared_logarithmic_error: 0.1432 - val_loss: 0.0832 - val_mean_squared_logarithmic_error: 0.0850\n",
            "Epoch 52/150\n",
            "5/5 [==============================] - 0s 9ms/step - loss: 0.1097 - mean_squared_logarithmic_error: 0.1088 - val_loss: 0.0768 - val_mean_squared_logarithmic_error: 0.0740\n",
            "Epoch 53/150\n",
            "5/5 [==============================] - 0s 9ms/step - loss: 0.0996 - mean_squared_logarithmic_error: 0.1021 - val_loss: 0.0765 - val_mean_squared_logarithmic_error: 0.0792\n",
            "Epoch 54/150\n",
            "5/5 [==============================] - 0s 10ms/step - loss: 0.1085 - mean_squared_logarithmic_error: 0.1071 - val_loss: 0.0769 - val_mean_squared_logarithmic_error: 0.0768\n",
            "Epoch 55/150\n",
            "5/5 [==============================] - 0s 12ms/step - loss: 0.1207 - mean_squared_logarithmic_error: 0.1215 - val_loss: 0.0793 - val_mean_squared_logarithmic_error: 0.0783\n",
            "Epoch 56/150\n",
            "5/5 [==============================] - 0s 9ms/step - loss: 0.1204 - mean_squared_logarithmic_error: 0.1124 - val_loss: 0.0772 - val_mean_squared_logarithmic_error: 0.0776\n",
            "Epoch 57/150\n",
            "5/5 [==============================] - 0s 9ms/step - loss: 0.0963 - mean_squared_logarithmic_error: 0.0890 - val_loss: 0.0798 - val_mean_squared_logarithmic_error: 0.0673\n",
            "Epoch 58/150\n",
            "5/5 [==============================] - 0s 9ms/step - loss: 0.1174 - mean_squared_logarithmic_error: 0.1161 - val_loss: 0.0679 - val_mean_squared_logarithmic_error: 0.0614\n",
            "Epoch 59/150\n",
            "5/5 [==============================] - 0s 9ms/step - loss: 0.1158 - mean_squared_logarithmic_error: 0.1167 - val_loss: 0.0860 - val_mean_squared_logarithmic_error: 0.0934\n",
            "Epoch 60/150\n",
            "5/5 [==============================] - 0s 9ms/step - loss: 0.1151 - mean_squared_logarithmic_error: 0.1106 - val_loss: 0.0728 - val_mean_squared_logarithmic_error: 0.0675\n",
            "Epoch 61/150\n",
            "5/5 [==============================] - 0s 9ms/step - loss: 0.1291 - mean_squared_logarithmic_error: 0.1239 - val_loss: 0.0716 - val_mean_squared_logarithmic_error: 0.0707\n",
            "Epoch 62/150\n",
            "5/5 [==============================] - 0s 10ms/step - loss: 0.1235 - mean_squared_logarithmic_error: 0.1220 - val_loss: 0.0780 - val_mean_squared_logarithmic_error: 0.0657\n",
            "Epoch 63/150\n",
            "5/5 [==============================] - 0s 9ms/step - loss: 0.1280 - mean_squared_logarithmic_error: 0.1223 - val_loss: 0.0799 - val_mean_squared_logarithmic_error: 0.0808\n",
            "Epoch 64/150\n",
            "5/5 [==============================] - 0s 10ms/step - loss: 0.1068 - mean_squared_logarithmic_error: 0.1072 - val_loss: 0.0770 - val_mean_squared_logarithmic_error: 0.0606\n",
            "Epoch 65/150\n",
            "5/5 [==============================] - 0s 9ms/step - loss: 0.1049 - mean_squared_logarithmic_error: 0.0962 - val_loss: 0.0767 - val_mean_squared_logarithmic_error: 0.0766\n",
            "Epoch 66/150\n",
            "5/5 [==============================] - 0s 9ms/step - loss: 0.1001 - mean_squared_logarithmic_error: 0.0908 - val_loss: 0.0739 - val_mean_squared_logarithmic_error: 0.0590\n",
            "Epoch 67/150\n",
            "5/5 [==============================] - 0s 9ms/step - loss: 0.0987 - mean_squared_logarithmic_error: 0.1041 - val_loss: 0.0743 - val_mean_squared_logarithmic_error: 0.0738\n",
            "Epoch 68/150\n",
            "5/5 [==============================] - 0s 9ms/step - loss: 0.1066 - mean_squared_logarithmic_error: 0.1030 - val_loss: 0.0756 - val_mean_squared_logarithmic_error: 0.0596\n",
            "Epoch 69/150\n",
            "5/5 [==============================] - 0s 9ms/step - loss: 0.1030 - mean_squared_logarithmic_error: 0.1095 - val_loss: 0.0696 - val_mean_squared_logarithmic_error: 0.0686\n",
            "Epoch 70/150\n",
            "5/5 [==============================] - 0s 10ms/step - loss: 0.1057 - mean_squared_logarithmic_error: 0.1201 - val_loss: 0.0695 - val_mean_squared_logarithmic_error: 0.0626\n",
            "Epoch 71/150\n",
            "5/5 [==============================] - 0s 9ms/step - loss: 0.0999 - mean_squared_logarithmic_error: 0.1028 - val_loss: 0.0719 - val_mean_squared_logarithmic_error: 0.0697\n",
            "Epoch 72/150\n",
            "5/5 [==============================] - 0s 9ms/step - loss: 0.1184 - mean_squared_logarithmic_error: 0.1208 - val_loss: 0.0672 - val_mean_squared_logarithmic_error: 0.0567\n",
            "Epoch 73/150\n",
            "5/5 [==============================] - 0s 10ms/step - loss: 0.1141 - mean_squared_logarithmic_error: 0.1104 - val_loss: 0.0669 - val_mean_squared_logarithmic_error: 0.0665\n",
            "Epoch 74/150\n",
            "5/5 [==============================] - 0s 11ms/step - loss: 0.1001 - mean_squared_logarithmic_error: 0.1052 - val_loss: 0.0669 - val_mean_squared_logarithmic_error: 0.0554\n",
            "Epoch 75/150\n",
            "5/5 [==============================] - 0s 16ms/step - loss: 0.0957 - mean_squared_logarithmic_error: 0.1037 - val_loss: 0.0635 - val_mean_squared_logarithmic_error: 0.0585\n",
            "Epoch 76/150\n",
            "5/5 [==============================] - 0s 9ms/step - loss: 0.1121 - mean_squared_logarithmic_error: 0.1122 - val_loss: 0.0708 - val_mean_squared_logarithmic_error: 0.0717\n",
            "Epoch 77/150\n",
            "5/5 [==============================] - 0s 9ms/step - loss: 0.0973 - mean_squared_logarithmic_error: 0.0959 - val_loss: 0.0713 - val_mean_squared_logarithmic_error: 0.0574\n",
            "Epoch 78/150\n",
            "5/5 [==============================] - 0s 10ms/step - loss: 0.1059 - mean_squared_logarithmic_error: 0.1026 - val_loss: 0.0761 - val_mean_squared_logarithmic_error: 0.0568\n",
            "Epoch 79/150\n",
            "5/5 [==============================] - 0s 10ms/step - loss: 0.1067 - mean_squared_logarithmic_error: 0.1014 - val_loss: 0.0611 - val_mean_squared_logarithmic_error: 0.0553\n",
            "Epoch 80/150\n",
            "5/5 [==============================] - 0s 8ms/step - loss: 0.0986 - mean_squared_logarithmic_error: 0.0971 - val_loss: 0.0611 - val_mean_squared_logarithmic_error: 0.0546\n",
            "Epoch 81/150\n",
            "5/5 [==============================] - 0s 9ms/step - loss: 0.0960 - mean_squared_logarithmic_error: 0.0945 - val_loss: 0.0596 - val_mean_squared_logarithmic_error: 0.0548\n",
            "Epoch 82/150\n",
            "5/5 [==============================] - 0s 9ms/step - loss: 0.1082 - mean_squared_logarithmic_error: 0.1012 - val_loss: 0.0634 - val_mean_squared_logarithmic_error: 0.0558\n",
            "Epoch 83/150\n",
            "5/5 [==============================] - 0s 10ms/step - loss: 0.1015 - mean_squared_logarithmic_error: 0.0955 - val_loss: 0.0681 - val_mean_squared_logarithmic_error: 0.0684\n",
            "Epoch 84/150\n",
            "5/5 [==============================] - 0s 9ms/step - loss: 0.1050 - mean_squared_logarithmic_error: 0.1057 - val_loss: 0.0642 - val_mean_squared_logarithmic_error: 0.0525\n",
            "Epoch 85/150\n",
            "5/5 [==============================] - 0s 11ms/step - loss: 0.0967 - mean_squared_logarithmic_error: 0.0888 - val_loss: 0.0636 - val_mean_squared_logarithmic_error: 0.0573\n",
            "Epoch 86/150\n",
            "5/5 [==============================] - 0s 9ms/step - loss: 0.1019 - mean_squared_logarithmic_error: 0.1011 - val_loss: 0.0671 - val_mean_squared_logarithmic_error: 0.0515\n",
            "Epoch 87/150\n",
            "5/5 [==============================] - 0s 9ms/step - loss: 0.0866 - mean_squared_logarithmic_error: 0.0849 - val_loss: 0.0651 - val_mean_squared_logarithmic_error: 0.0529\n",
            "Epoch 88/150\n",
            "5/5 [==============================] - 0s 9ms/step - loss: 0.1034 - mean_squared_logarithmic_error: 0.1041 - val_loss: 0.0619 - val_mean_squared_logarithmic_error: 0.0557\n",
            "Epoch 89/150\n",
            "5/5 [==============================] - 0s 9ms/step - loss: 0.1020 - mean_squared_logarithmic_error: 0.1068 - val_loss: 0.0604 - val_mean_squared_logarithmic_error: 0.0557\n",
            "Epoch 90/150\n",
            "5/5 [==============================] - 0s 9ms/step - loss: 0.0913 - mean_squared_logarithmic_error: 0.0912 - val_loss: 0.0601 - val_mean_squared_logarithmic_error: 0.0539\n",
            "Epoch 91/150\n",
            "5/5 [==============================] - 0s 9ms/step - loss: 0.0926 - mean_squared_logarithmic_error: 0.0901 - val_loss: 0.0599 - val_mean_squared_logarithmic_error: 0.0540\n",
            "Epoch 92/150\n",
            "5/5 [==============================] - 0s 9ms/step - loss: 0.0973 - mean_squared_logarithmic_error: 0.0951 - val_loss: 0.0603 - val_mean_squared_logarithmic_error: 0.0518\n",
            "Epoch 93/150\n",
            "5/5 [==============================] - 0s 9ms/step - loss: 0.0921 - mean_squared_logarithmic_error: 0.0955 - val_loss: 0.0612 - val_mean_squared_logarithmic_error: 0.0481\n",
            "Epoch 94/150\n",
            "5/5 [==============================] - 0s 10ms/step - loss: 0.0971 - mean_squared_logarithmic_error: 0.1029 - val_loss: 0.0600 - val_mean_squared_logarithmic_error: 0.0553\n",
            "Epoch 95/150\n",
            "5/5 [==============================] - 0s 12ms/step - loss: 0.0935 - mean_squared_logarithmic_error: 0.0992 - val_loss: 0.0584 - val_mean_squared_logarithmic_error: 0.0568\n",
            "Epoch 96/150\n",
            "5/5 [==============================] - 0s 9ms/step - loss: 0.1049 - mean_squared_logarithmic_error: 0.1072 - val_loss: 0.0661 - val_mean_squared_logarithmic_error: 0.0526\n",
            "Epoch 97/150\n",
            "5/5 [==============================] - 0s 10ms/step - loss: 0.0974 - mean_squared_logarithmic_error: 0.0995 - val_loss: 0.0634 - val_mean_squared_logarithmic_error: 0.0597\n",
            "Epoch 98/150\n",
            "5/5 [==============================] - 0s 9ms/step - loss: 0.1010 - mean_squared_logarithmic_error: 0.0948 - val_loss: 0.0686 - val_mean_squared_logarithmic_error: 0.0510\n",
            "Epoch 99/150\n",
            "5/5 [==============================] - 0s 10ms/step - loss: 0.0981 - mean_squared_logarithmic_error: 0.1067 - val_loss: 0.0705 - val_mean_squared_logarithmic_error: 0.0704\n",
            "Epoch 100/150\n",
            "5/5 [==============================] - 0s 10ms/step - loss: 0.1333 - mean_squared_logarithmic_error: 0.1295 - val_loss: 0.0623 - val_mean_squared_logarithmic_error: 0.0506\n",
            "Epoch 101/150\n",
            "5/5 [==============================] - 0s 8ms/step - loss: 0.1029 - mean_squared_logarithmic_error: 0.1034 - val_loss: 0.0631 - val_mean_squared_logarithmic_error: 0.0541\n",
            "Epoch 102/150\n",
            "5/5 [==============================] - 0s 8ms/step - loss: 0.1162 - mean_squared_logarithmic_error: 0.1223 - val_loss: 0.0629 - val_mean_squared_logarithmic_error: 0.0483\n",
            "Epoch 103/150\n",
            "5/5 [==============================] - 0s 9ms/step - loss: 0.0982 - mean_squared_logarithmic_error: 0.1010 - val_loss: 0.0613 - val_mean_squared_logarithmic_error: 0.0467\n",
            "Epoch 104/150\n",
            "5/5 [==============================] - 0s 9ms/step - loss: 0.1040 - mean_squared_logarithmic_error: 0.1032 - val_loss: 0.0694 - val_mean_squared_logarithmic_error: 0.0525\n",
            "Epoch 105/150\n",
            "5/5 [==============================] - 0s 9ms/step - loss: 0.1013 - mean_squared_logarithmic_error: 0.1003 - val_loss: 0.0615 - val_mean_squared_logarithmic_error: 0.0562\n",
            "Epoch 106/150\n",
            "5/5 [==============================] - 0s 10ms/step - loss: 0.1041 - mean_squared_logarithmic_error: 0.1004 - val_loss: 0.0717 - val_mean_squared_logarithmic_error: 0.0498\n",
            "Epoch 107/150\n",
            "5/5 [==============================] - 0s 9ms/step - loss: 0.0929 - mean_squared_logarithmic_error: 0.0890 - val_loss: 0.0623 - val_mean_squared_logarithmic_error: 0.0476\n",
            "Epoch 108/150\n",
            "5/5 [==============================] - 0s 10ms/step - loss: 0.1005 - mean_squared_logarithmic_error: 0.0996 - val_loss: 0.0627 - val_mean_squared_logarithmic_error: 0.0478\n",
            "Epoch 109/150\n",
            "5/5 [==============================] - 0s 10ms/step - loss: 0.1184 - mean_squared_logarithmic_error: 0.1212 - val_loss: 0.0612 - val_mean_squared_logarithmic_error: 0.0531\n",
            "Epoch 110/150\n",
            "5/5 [==============================] - 0s 9ms/step - loss: 0.0960 - mean_squared_logarithmic_error: 0.1005 - val_loss: 0.0627 - val_mean_squared_logarithmic_error: 0.0516\n",
            "Epoch 111/150\n",
            "5/5 [==============================] - 0s 10ms/step - loss: 0.1047 - mean_squared_logarithmic_error: 0.1042 - val_loss: 0.0696 - val_mean_squared_logarithmic_error: 0.0583\n",
            "Epoch 112/150\n",
            "5/5 [==============================] - 0s 9ms/step - loss: 0.0920 - mean_squared_logarithmic_error: 0.0908 - val_loss: 0.0652 - val_mean_squared_logarithmic_error: 0.0620\n",
            "Epoch 113/150\n",
            "5/5 [==============================] - 0s 9ms/step - loss: 0.1058 - mean_squared_logarithmic_error: 0.1162 - val_loss: 0.0636 - val_mean_squared_logarithmic_error: 0.0533\n",
            "Epoch 114/150\n",
            "5/5 [==============================] - 0s 11ms/step - loss: 0.1098 - mean_squared_logarithmic_error: 0.1026 - val_loss: 0.0627 - val_mean_squared_logarithmic_error: 0.0530\n",
            "Epoch 115/150\n",
            "5/5 [==============================] - 0s 11ms/step - loss: 0.0956 - mean_squared_logarithmic_error: 0.0904 - val_loss: 0.0600 - val_mean_squared_logarithmic_error: 0.0515\n",
            "Epoch 116/150\n",
            "5/5 [==============================] - 0s 10ms/step - loss: 0.0817 - mean_squared_logarithmic_error: 0.0840 - val_loss: 0.0654 - val_mean_squared_logarithmic_error: 0.0499\n",
            "Epoch 117/150\n",
            "5/5 [==============================] - 0s 9ms/step - loss: 0.0957 - mean_squared_logarithmic_error: 0.0941 - val_loss: 0.0698 - val_mean_squared_logarithmic_error: 0.0663\n",
            "Epoch 118/150\n",
            "5/5 [==============================] - 0s 10ms/step - loss: 0.0911 - mean_squared_logarithmic_error: 0.0864 - val_loss: 0.0685 - val_mean_squared_logarithmic_error: 0.0567\n",
            "Epoch 119/150\n",
            "5/5 [==============================] - 0s 14ms/step - loss: 0.1145 - mean_squared_logarithmic_error: 0.1104 - val_loss: 0.0623 - val_mean_squared_logarithmic_error: 0.0591\n",
            "Epoch 120/150\n",
            "5/5 [==============================] - 0s 8ms/step - loss: 0.0993 - mean_squared_logarithmic_error: 0.0952 - val_loss: 0.0631 - val_mean_squared_logarithmic_error: 0.0484\n",
            "Epoch 121/150\n",
            "5/5 [==============================] - 0s 9ms/step - loss: 0.1178 - mean_squared_logarithmic_error: 0.1373 - val_loss: 0.0578 - val_mean_squared_logarithmic_error: 0.0480\n",
            "Epoch 122/150\n",
            "5/5 [==============================] - 0s 9ms/step - loss: 0.0995 - mean_squared_logarithmic_error: 0.0963 - val_loss: 0.0613 - val_mean_squared_logarithmic_error: 0.0514\n",
            "Epoch 123/150\n",
            "5/5 [==============================] - 0s 8ms/step - loss: 0.0920 - mean_squared_logarithmic_error: 0.0906 - val_loss: 0.0592 - val_mean_squared_logarithmic_error: 0.0499\n",
            "Epoch 124/150\n",
            "5/5 [==============================] - 0s 8ms/step - loss: 0.0999 - mean_squared_logarithmic_error: 0.0967 - val_loss: 0.0590 - val_mean_squared_logarithmic_error: 0.0482\n",
            "Epoch 125/150\n",
            "5/5 [==============================] - 0s 10ms/step - loss: 0.1114 - mean_squared_logarithmic_error: 0.1041 - val_loss: 0.0623 - val_mean_squared_logarithmic_error: 0.0471\n",
            "Epoch 126/150\n",
            "5/5 [==============================] - 0s 9ms/step - loss: 0.1020 - mean_squared_logarithmic_error: 0.1043 - val_loss: 0.0633 - val_mean_squared_logarithmic_error: 0.0481\n",
            "Epoch 127/150\n",
            "5/5 [==============================] - 0s 10ms/step - loss: 0.0939 - mean_squared_logarithmic_error: 0.0872 - val_loss: 0.0648 - val_mean_squared_logarithmic_error: 0.0612\n",
            "Epoch 128/150\n",
            "5/5 [==============================] - 0s 10ms/step - loss: 0.0942 - mean_squared_logarithmic_error: 0.0923 - val_loss: 0.0609 - val_mean_squared_logarithmic_error: 0.0495\n",
            "Epoch 129/150\n",
            "5/5 [==============================] - 0s 11ms/step - loss: 0.0908 - mean_squared_logarithmic_error: 0.0861 - val_loss: 0.0572 - val_mean_squared_logarithmic_error: 0.0484\n",
            "Epoch 130/150\n",
            "5/5 [==============================] - 0s 9ms/step - loss: 0.0864 - mean_squared_logarithmic_error: 0.0933 - val_loss: 0.0647 - val_mean_squared_logarithmic_error: 0.0454\n",
            "Epoch 131/150\n",
            "5/5 [==============================] - 0s 11ms/step - loss: 0.1106 - mean_squared_logarithmic_error: 0.1133 - val_loss: 0.0581 - val_mean_squared_logarithmic_error: 0.0465\n",
            "Epoch 132/150\n",
            "5/5 [==============================] - 0s 9ms/step - loss: 0.0888 - mean_squared_logarithmic_error: 0.0939 - val_loss: 0.0602 - val_mean_squared_logarithmic_error: 0.0513\n",
            "Epoch 133/150\n",
            "5/5 [==============================] - 0s 9ms/step - loss: 0.0942 - mean_squared_logarithmic_error: 0.0987 - val_loss: 0.0590 - val_mean_squared_logarithmic_error: 0.0475\n",
            "Epoch 134/150\n",
            "5/5 [==============================] - 0s 9ms/step - loss: 0.0931 - mean_squared_logarithmic_error: 0.0863 - val_loss: 0.0597 - val_mean_squared_logarithmic_error: 0.0560\n",
            "Epoch 135/150\n",
            "5/5 [==============================] - 0s 9ms/step - loss: 0.0991 - mean_squared_logarithmic_error: 0.1107 - val_loss: 0.0586 - val_mean_squared_logarithmic_error: 0.0521\n",
            "Epoch 136/150\n",
            "5/5 [==============================] - 0s 9ms/step - loss: 0.1050 - mean_squared_logarithmic_error: 0.1010 - val_loss: 0.0631 - val_mean_squared_logarithmic_error: 0.0438\n",
            "Epoch 137/150\n",
            "5/5 [==============================] - 0s 9ms/step - loss: 0.1061 - mean_squared_logarithmic_error: 0.1051 - val_loss: 0.0586 - val_mean_squared_logarithmic_error: 0.0440\n",
            "Epoch 138/150\n",
            "5/5 [==============================] - 0s 9ms/step - loss: 0.1047 - mean_squared_logarithmic_error: 0.1089 - val_loss: 0.0588 - val_mean_squared_logarithmic_error: 0.0490\n",
            "Epoch 139/150\n",
            "5/5 [==============================] - 0s 9ms/step - loss: 0.0953 - mean_squared_logarithmic_error: 0.0923 - val_loss: 0.0640 - val_mean_squared_logarithmic_error: 0.0531\n",
            "Epoch 140/150\n",
            "5/5 [==============================] - 0s 9ms/step - loss: 0.0914 - mean_squared_logarithmic_error: 0.1104 - val_loss: 0.0625 - val_mean_squared_logarithmic_error: 0.0521\n",
            "Epoch 141/150\n",
            "5/5 [==============================] - 0s 8ms/step - loss: 0.0896 - mean_squared_logarithmic_error: 0.0881 - val_loss: 0.0581 - val_mean_squared_logarithmic_error: 0.0445\n",
            "Epoch 142/150\n",
            "5/5 [==============================] - 0s 10ms/step - loss: 0.1079 - mean_squared_logarithmic_error: 0.1110 - val_loss: 0.0587 - val_mean_squared_logarithmic_error: 0.0443\n",
            "Epoch 143/150\n",
            "5/5 [==============================] - 0s 8ms/step - loss: 0.1059 - mean_squared_logarithmic_error: 0.0987 - val_loss: 0.0614 - val_mean_squared_logarithmic_error: 0.0502\n",
            "Epoch 144/150\n",
            "5/5 [==============================] - 0s 9ms/step - loss: 0.1013 - mean_squared_logarithmic_error: 0.1110 - val_loss: 0.0703 - val_mean_squared_logarithmic_error: 0.0503\n",
            "Epoch 145/150\n",
            "5/5 [==============================] - 0s 9ms/step - loss: 0.0950 - mean_squared_logarithmic_error: 0.1064 - val_loss: 0.0577 - val_mean_squared_logarithmic_error: 0.0508\n",
            "Epoch 146/150\n",
            "5/5 [==============================] - 0s 9ms/step - loss: 0.0858 - mean_squared_logarithmic_error: 0.0864 - val_loss: 0.0639 - val_mean_squared_logarithmic_error: 0.0479\n",
            "Epoch 147/150\n",
            "5/5 [==============================] - 0s 9ms/step - loss: 0.1078 - mean_squared_logarithmic_error: 0.1114 - val_loss: 0.0601 - val_mean_squared_logarithmic_error: 0.0524\n",
            "Epoch 148/150\n",
            "5/5 [==============================] - 0s 9ms/step - loss: 0.0801 - mean_squared_logarithmic_error: 0.0785 - val_loss: 0.0597 - val_mean_squared_logarithmic_error: 0.0442\n",
            "Epoch 149/150\n",
            "5/5 [==============================] - 0s 9ms/step - loss: 0.1071 - mean_squared_logarithmic_error: 0.1087 - val_loss: 0.0613 - val_mean_squared_logarithmic_error: 0.0484\n",
            "Epoch 150/150\n",
            "5/5 [==============================] - 0s 9ms/step - loss: 0.0902 - mean_squared_logarithmic_error: 0.0866 - val_loss: 0.0651 - val_mean_squared_logarithmic_error: 0.0474\n"
          ]
        }
      ]
    },
    {
      "cell_type": "code",
      "source": [
        "def plot_history(history, key):\n",
        "  plt.plot(history.history[key])\n",
        "  plt.plot(history.history['val_'+key])\n",
        "  plt.xlabel(\"Epochs\")\n",
        "  plt.ylabel(key)\n",
        "  plt.legend([key, 'val_'+key])\n",
        "  plt.show()\n",
        "# Plot the history\n",
        "plot_history(history, 'mean_squared_logarithmic_error')"
      ],
      "metadata": {
        "colab": {
          "base_uri": "https://localhost:8080/",
          "height": 279
        },
        "id": "RIjACG1dWTWO",
        "outputId": "099bbf9c-4dc3-4663-e72a-af663ae483b4"
      },
      "execution_count": null,
      "outputs": [
        {
          "output_type": "display_data",
          "data": {
            "text/plain": [
              "<Figure size 432x288 with 1 Axes>"
            ],
            "image/png": "[encoded data removed]"
          },
          "metadata": {
            "needs_background": "light"
          }
        }
      ]
    },
    {
      "cell_type": "code",
      "source": [
        "Y_pred = model.predict(X_test)\n",
        "mse = mean_squared_error(y_test, Y_pred)\n",
        "rmse = math.sqrt(mse)\n",
        "print(rmse)\n",
        "r2 = r2_score(y_test, Y_pred)\n",
        "print(r2)\n",
        "mae = mean_absolute_error(y_test,Y_pred)\n",
        "print(mae)\n",
        "mape = mean_absolute_percentage_error(y_test, Y_pred)\n",
        "print(mape)"
      ],
      "metadata": {
        "colab": {
          "base_uri": "https://localhost:8080/"
        },
        "id": "jlPi3GmbWYoA",
        "outputId": "d010fb92-28ad-4abc-e457-7f3007046d35"
      },
      "execution_count": null,
      "outputs": [
        {
          "output_type": "stream",
          "name": "stdout",
          "text": [
            "3.9756465467740645\n",
            "0.8201425028695182\n",
            "1.9539838268836338\n",
            "1.1964189189333763\n"
          ]
        }
      ]
    }
  ],
  "metadata": {
    "colab": {
      "collapsed_sections": [],
      "name": "Baseline Data.ipynb",
      "provenance": []
    },
    "kernelspec": {
      "display_name": "Python 3",
      "name": "python3"
    },
    "language_info": {
      "name": "python"
    }
  },
  "nbformat": 4,
  "nbformat_minor": 0
}