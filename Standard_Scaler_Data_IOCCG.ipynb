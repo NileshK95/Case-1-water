{
  "nbformat": 4,
  "nbformat_minor": 0,
  "metadata": {
    "colab": {
      "name": "Standard Scaler Data.ipynb",
      "provenance": [],
      "collapsed_sections": []
    },
    "kernelspec": {
      "name": "python3",
      "display_name": "Python 3"
    },
    "language_info": {
      "name": "python"
    },
    "accelerator": "TPU"
  },
  "cells": [
    {
      "cell_type": "code",
      "execution_count": null,
      "metadata": {
        "colab": {
          "base_uri": "https://localhost:8080/"
        },
        "id": "0kGqQZb8TD6S",
        "outputId": "c2f17919-8c05-4ff7-a66b-bfea6a66d8bc"
      },
      "outputs": [
        {
          "output_type": "stream",
          "name": "stdout",
          "text": [
            "Drive already mounted at /content/drive; to attempt to forcibly remount, call drive.mount(\"/content/drive\", force_remount=True).\n"
          ]
        }
      ],
      "source": [
        "from google.colab import drive\n",
        "drive.mount('/content/drive')"
      ]
    },
    {
      "cell_type": "code",
      "source": [
        "#Imports\n",
        "import warnings\n",
        "warnings.filterwarnings(\"ignore\")\n",
        "import pandas as pd\n",
        "import numpy as np\n",
        "import matplotlib.pyplot as plt\n",
        "import seaborn as sns\n",
        "from sklearn import preprocessing\n",
        "from sklearn.linear_model import LinearRegression\n",
        "from sklearn.model_selection import train_test_split\n",
        "from sklearn.preprocessing import StandardScaler\n",
        "from math import sqrt\n",
        "from sklearn.metrics import mean_squared_error\n",
        "from sklearn.model_selection import cross_val_score\n",
        "from sklearn.model_selection import GridSearchCV\n",
        "from sklearn.model_selection import KFold\n",
        "from sklearn.metrics import mean_absolute_error\n",
        "from sklearn.metrics import mean_absolute_percentage_error"
      ],
      "metadata": {
        "id": "ziXEVgzdTMwz"
      },
      "execution_count": null,
      "outputs": []
    },
    {
      "cell_type": "code",
      "source": [
        "#Read dataset to pandas dataframe\n",
        "dataset = pd.read_excel('/content/drive/MyDrive/MTP_FINAL/Dataset-3.xlsx', sheet_name='IOCCG_simulated')"
      ],
      "metadata": {
        "id": "Hq_YGs2BTPq9"
      },
      "execution_count": null,
      "outputs": []
    },
    {
      "cell_type": "code",
      "source": [
        "#breaking down the dataset into x feature and y target\n",
        "dataset_y=dataset['Chlorophyll']\n",
        "dataset_x=dataset.drop(['Chlorophyll'],axis=1)"
      ],
      "metadata": {
        "id": "OZ44HZqtTSY6"
      },
      "execution_count": null,
      "outputs": []
    },
    {
      "cell_type": "code",
      "source": [
        "#Standardize the features\n",
        "#Create an object of StandardScaler which is present in sklearn.preprocessing\n",
        "scaler = StandardScaler()\n",
        "scaled_data = pd.DataFrame(scaler.fit_transform(dataset_x)) #scaling the data\n",
        "scaled_data"
      ],
      "metadata": {
        "colab": {
          "base_uri": "https://localhost:8080/",
          "height": 483
        },
        "id": "AA3ed03ATWWI",
        "outputId": "b14393e4-f871-416e-d1cd-ddbad36ef675"
      },
      "execution_count": null,
      "outputs": [
        {
          "output_type": "execute_result",
          "data": {
            "text/plain": [
              "           0         1         2         3         4         5         6   \\\n",
              "0    2.881479  2.962558  2.875160  2.707945  2.444967  1.968475  1.721300   \n",
              "1    1.255688  1.294559  1.277245  1.242208  1.127918  0.888510  0.749925   \n",
              "2    1.874345  1.877941  1.842278  1.780882  1.658275  1.376618  1.208600   \n",
              "3    2.086223  2.218288  2.318466  2.395458  2.380527  2.176180  2.092816   \n",
              "4    2.200611  2.259664  2.192710  2.112478  1.887625  1.505174  1.309431   \n",
              "..        ...       ...       ...       ...       ...       ...       ...   \n",
              "495 -0.879811 -0.863095 -0.862447 -0.861541 -0.857228 -0.854455 -0.794069   \n",
              "496 -0.871356 -0.867031 -0.882257 -0.904452 -0.933967 -0.983218 -0.994406   \n",
              "497 -0.814708 -0.823359 -0.850923 -0.889670 -0.938676 -1.003713 -1.025656   \n",
              "498 -0.426751 -0.397333 -0.349584 -0.287768 -0.191361 -0.037952  0.063605   \n",
              "499 -0.601427 -0.571820 -0.535718 -0.499006 -0.436139 -0.343231 -0.252246   \n",
              "\n",
              "           7         8         9   ...        31        32        33  \\\n",
              "0    1.453179  1.007073  0.552129  ... -0.706149 -0.709353 -0.715428   \n",
              "1    0.587947  0.292528 -0.047308  ... -0.714471 -0.717612 -0.723733   \n",
              "2    0.985974  0.619087  0.253144  ... -0.708481 -0.711622 -0.717661   \n",
              "3    1.934480  1.549439  1.126656  ... -0.695858 -0.699228 -0.705334   \n",
              "4    1.065215  0.683433  0.260408  ... -0.712313 -0.715470 -0.721578   \n",
              "..        ...       ...       ...  ...       ...       ...       ...   \n",
              "495 -0.688602 -0.526570 -0.304215  ...  3.556061  3.470688  3.404420   \n",
              "496 -0.987332 -0.965139 -0.904092  ...  2.852229  2.967873  3.013066   \n",
              "497 -1.028005 -1.023469 -0.990412  ...  1.164555  1.197896  1.235064   \n",
              "498  0.180733  0.395424  0.661634  ...  3.752282  3.731588  3.699367   \n",
              "499 -0.110249  0.091131  0.310593  ...  2.919462  2.924571  2.896069   \n",
              "\n",
              "           34        35        36        37        38        39        40  \n",
              "0   -0.719624 -0.718678 -0.717697 -0.715799 -0.712983 -0.709563 -0.707356  \n",
              "1   -0.727908 -0.726771 -0.725603 -0.723498 -0.720447 -0.716784 -0.714395  \n",
              "2   -0.721802 -0.720762 -0.719689 -0.717697 -0.714782 -0.711265 -0.708986  \n",
              "3   -0.709642 -0.709015 -0.708334 -0.706760 -0.704285 -0.701217 -0.699311  \n",
              "4   -0.725757 -0.724671 -0.723552 -0.721499 -0.718512 -0.714912 -0.712571  \n",
              "..        ...       ...       ...       ...       ...       ...       ...  \n",
              "495  3.363033  3.355773  3.350458  3.350974  3.357004  3.365941  3.369074  \n",
              "496  3.025829  3.033280  3.038731  3.044418  3.051213  3.059141  3.064331  \n",
              "497  1.262887  1.268951  1.274588  1.276098  1.273857  1.269337  1.267958  \n",
              "498  3.672198  3.673862  3.677217  3.686632  3.701902  3.720458  3.732825  \n",
              "499  2.871062  2.871842  2.872187  2.877171  2.886820  2.899591  2.907185  \n",
              "\n",
              "[500 rows x 41 columns]"
            ],
            "text/html": [
              "\n",
              "  <div id=\"df-9e813fa7-7dd1-4ba9-a4ef-426717f7b537\">\n",
              "    <div class=\"colab-df-container\">\n",
              "      <div>\n",
              "<style scoped>\n",
              "    .dataframe tbody tr th:only-of-type {\n",
              "        vertical-align: middle;\n",
              "    }\n",
              "\n",
              "    .dataframe tbody tr th {\n",
              "        vertical-align: top;\n",
              "    }\n",
              "\n",
              "    .dataframe thead th {\n",
              "        text-align: right;\n",
              "    }\n",
              "</style>\n",
              "<table border=\"1\" class=\"dataframe\">\n",
              "  <thead>\n",
              "    <tr style=\"text-align: right;\">\n",
              "      <th></th>\n",
              "      <th>0</th>\n",
              "      <th>1</th>\n",
              "      <th>2</th>\n",
              "      <th>3</th>\n",
              "      <th>4</th>\n",
              "      <th>5</th>\n",
              "      <th>6</th>\n",
              "      <th>7</th>\n",
              "      <th>8</th>\n",
              "      <th>9</th>\n",
              "      <th>...</th>\n",
              "      <th>31</th>\n",
              "      <th>32</th>\n",
              "      <th>33</th>\n",
              "      <th>34</th>\n",
              "      <th>35</th>\n",
              "      <th>36</th>\n",
              "      <th>37</th>\n",
              "      <th>38</th>\n",
              "      <th>39</th>\n",
              "      <th>40</th>\n",
              "    </tr>\n",
              "  </thead>\n",
              "  <tbody>\n",
              "    <tr>\n",
              "      <th>0</th>\n",
              "      <td>2.881479</td>\n",
              "      <td>2.962558</td>\n",
              "      <td>2.875160</td>\n",
              "      <td>2.707945</td>\n",
              "      <td>2.444967</td>\n",
              "      <td>1.968475</td>\n",
              "      <td>1.721300</td>\n",
              "      <td>1.453179</td>\n",
              "      <td>1.007073</td>\n",
              "      <td>0.552129</td>\n",
              "      <td>...</td>\n",
              "      <td>-0.706149</td>\n",
              "      <td>-0.709353</td>\n",
              "      <td>-0.715428</td>\n",
              "      <td>-0.719624</td>\n",
              "      <td>-0.718678</td>\n",
              "      <td>-0.717697</td>\n",
              "      <td>-0.715799</td>\n",
              "      <td>-0.712983</td>\n",
              "      <td>-0.709563</td>\n",
              "      <td>-0.707356</td>\n",
              "    </tr>\n",
              "    <tr>\n",
              "      <th>1</th>\n",
              "      <td>1.255688</td>\n",
              "      <td>1.294559</td>\n",
              "      <td>1.277245</td>\n",
              "      <td>1.242208</td>\n",
              "      <td>1.127918</td>\n",
              "      <td>0.888510</td>\n",
              "      <td>0.749925</td>\n",
              "      <td>0.587947</td>\n",
              "      <td>0.292528</td>\n",
              "      <td>-0.047308</td>\n",
              "      <td>...</td>\n",
              "      <td>-0.714471</td>\n",
              "      <td>-0.717612</td>\n",
              "      <td>-0.723733</td>\n",
              "      <td>-0.727908</td>\n",
              "      <td>-0.726771</td>\n",
              "      <td>-0.725603</td>\n",
              "      <td>-0.723498</td>\n",
              "      <td>-0.720447</td>\n",
              "      <td>-0.716784</td>\n",
              "      <td>-0.714395</td>\n",
              "    </tr>\n",
              "    <tr>\n",
              "      <th>2</th>\n",
              "      <td>1.874345</td>\n",
              "      <td>1.877941</td>\n",
              "      <td>1.842278</td>\n",
              "      <td>1.780882</td>\n",
              "      <td>1.658275</td>\n",
              "      <td>1.376618</td>\n",
              "      <td>1.208600</td>\n",
              "      <td>0.985974</td>\n",
              "      <td>0.619087</td>\n",
              "      <td>0.253144</td>\n",
              "      <td>...</td>\n",
              "      <td>-0.708481</td>\n",
              "      <td>-0.711622</td>\n",
              "      <td>-0.717661</td>\n",
              "      <td>-0.721802</td>\n",
              "      <td>-0.720762</td>\n",
              "      <td>-0.719689</td>\n",
              "      <td>-0.717697</td>\n",
              "      <td>-0.714782</td>\n",
              "      <td>-0.711265</td>\n",
              "      <td>-0.708986</td>\n",
              "    </tr>\n",
              "    <tr>\n",
              "      <th>3</th>\n",
              "      <td>2.086223</td>\n",
              "      <td>2.218288</td>\n",
              "      <td>2.318466</td>\n",
              "      <td>2.395458</td>\n",
              "      <td>2.380527</td>\n",
              "      <td>2.176180</td>\n",
              "      <td>2.092816</td>\n",
              "      <td>1.934480</td>\n",
              "      <td>1.549439</td>\n",
              "      <td>1.126656</td>\n",
              "      <td>...</td>\n",
              "      <td>-0.695858</td>\n",
              "      <td>-0.699228</td>\n",
              "      <td>-0.705334</td>\n",
              "      <td>-0.709642</td>\n",
              "      <td>-0.709015</td>\n",
              "      <td>-0.708334</td>\n",
              "      <td>-0.706760</td>\n",
              "      <td>-0.704285</td>\n",
              "      <td>-0.701217</td>\n",
              "      <td>-0.699311</td>\n",
              "    </tr>\n",
              "    <tr>\n",
              "      <th>4</th>\n",
              "      <td>2.200611</td>\n",
              "      <td>2.259664</td>\n",
              "      <td>2.192710</td>\n",
              "      <td>2.112478</td>\n",
              "      <td>1.887625</td>\n",
              "      <td>1.505174</td>\n",
              "      <td>1.309431</td>\n",
              "      <td>1.065215</td>\n",
              "      <td>0.683433</td>\n",
              "      <td>0.260408</td>\n",
              "      <td>...</td>\n",
              "      <td>-0.712313</td>\n",
              "      <td>-0.715470</td>\n",
              "      <td>-0.721578</td>\n",
              "      <td>-0.725757</td>\n",
              "      <td>-0.724671</td>\n",
              "      <td>-0.723552</td>\n",
              "      <td>-0.721499</td>\n",
              "      <td>-0.718512</td>\n",
              "      <td>-0.714912</td>\n",
              "      <td>-0.712571</td>\n",
              "    </tr>\n",
              "    <tr>\n",
              "      <th>...</th>\n",
              "      <td>...</td>\n",
              "      <td>...</td>\n",
              "      <td>...</td>\n",
              "      <td>...</td>\n",
              "      <td>...</td>\n",
              "      <td>...</td>\n",
              "      <td>...</td>\n",
              "      <td>...</td>\n",
              "      <td>...</td>\n",
              "      <td>...</td>\n",
              "      <td>...</td>\n",
              "      <td>...</td>\n",
              "      <td>...</td>\n",
              "      <td>...</td>\n",
              "      <td>...</td>\n",
              "      <td>...</td>\n",
              "      <td>...</td>\n",
              "      <td>...</td>\n",
              "      <td>...</td>\n",
              "      <td>...</td>\n",
              "      <td>...</td>\n",
              "    </tr>\n",
              "    <tr>\n",
              "      <th>495</th>\n",
              "      <td>-0.879811</td>\n",
              "      <td>-0.863095</td>\n",
              "      <td>-0.862447</td>\n",
              "      <td>-0.861541</td>\n",
              "      <td>-0.857228</td>\n",
              "      <td>-0.854455</td>\n",
              "      <td>-0.794069</td>\n",
              "      <td>-0.688602</td>\n",
              "      <td>-0.526570</td>\n",
              "      <td>-0.304215</td>\n",
              "      <td>...</td>\n",
              "      <td>3.556061</td>\n",
              "      <td>3.470688</td>\n",
              "      <td>3.404420</td>\n",
              "      <td>3.363033</td>\n",
              "      <td>3.355773</td>\n",
              "      <td>3.350458</td>\n",
              "      <td>3.350974</td>\n",
              "      <td>3.357004</td>\n",
              "      <td>3.365941</td>\n",
              "      <td>3.369074</td>\n",
              "    </tr>\n",
              "    <tr>\n",
              "      <th>496</th>\n",
              "      <td>-0.871356</td>\n",
              "      <td>-0.867031</td>\n",
              "      <td>-0.882257</td>\n",
              "      <td>-0.904452</td>\n",
              "      <td>-0.933967</td>\n",
              "      <td>-0.983218</td>\n",
              "      <td>-0.994406</td>\n",
              "      <td>-0.987332</td>\n",
              "      <td>-0.965139</td>\n",
              "      <td>-0.904092</td>\n",
              "      <td>...</td>\n",
              "      <td>2.852229</td>\n",
              "      <td>2.967873</td>\n",
              "      <td>3.013066</td>\n",
              "      <td>3.025829</td>\n",
              "      <td>3.033280</td>\n",
              "      <td>3.038731</td>\n",
              "      <td>3.044418</td>\n",
              "      <td>3.051213</td>\n",
              "      <td>3.059141</td>\n",
              "      <td>3.064331</td>\n",
              "    </tr>\n",
              "    <tr>\n",
              "      <th>497</th>\n",
              "      <td>-0.814708</td>\n",
              "      <td>-0.823359</td>\n",
              "      <td>-0.850923</td>\n",
              "      <td>-0.889670</td>\n",
              "      <td>-0.938676</td>\n",
              "      <td>-1.003713</td>\n",
              "      <td>-1.025656</td>\n",
              "      <td>-1.028005</td>\n",
              "      <td>-1.023469</td>\n",
              "      <td>-0.990412</td>\n",
              "      <td>...</td>\n",
              "      <td>1.164555</td>\n",
              "      <td>1.197896</td>\n",
              "      <td>1.235064</td>\n",
              "      <td>1.262887</td>\n",
              "      <td>1.268951</td>\n",
              "      <td>1.274588</td>\n",
              "      <td>1.276098</td>\n",
              "      <td>1.273857</td>\n",
              "      <td>1.269337</td>\n",
              "      <td>1.267958</td>\n",
              "    </tr>\n",
              "    <tr>\n",
              "      <th>498</th>\n",
              "      <td>-0.426751</td>\n",
              "      <td>-0.397333</td>\n",
              "      <td>-0.349584</td>\n",
              "      <td>-0.287768</td>\n",
              "      <td>-0.191361</td>\n",
              "      <td>-0.037952</td>\n",
              "      <td>0.063605</td>\n",
              "      <td>0.180733</td>\n",
              "      <td>0.395424</td>\n",
              "      <td>0.661634</td>\n",
              "      <td>...</td>\n",
              "      <td>3.752282</td>\n",
              "      <td>3.731588</td>\n",
              "      <td>3.699367</td>\n",
              "      <td>3.672198</td>\n",
              "      <td>3.673862</td>\n",
              "      <td>3.677217</td>\n",
              "      <td>3.686632</td>\n",
              "      <td>3.701902</td>\n",
              "      <td>3.720458</td>\n",
              "      <td>3.732825</td>\n",
              "    </tr>\n",
              "    <tr>\n",
              "      <th>499</th>\n",
              "      <td>-0.601427</td>\n",
              "      <td>-0.571820</td>\n",
              "      <td>-0.535718</td>\n",
              "      <td>-0.499006</td>\n",
              "      <td>-0.436139</td>\n",
              "      <td>-0.343231</td>\n",
              "      <td>-0.252246</td>\n",
              "      <td>-0.110249</td>\n",
              "      <td>0.091131</td>\n",
              "      <td>0.310593</td>\n",
              "      <td>...</td>\n",
              "      <td>2.919462</td>\n",
              "      <td>2.924571</td>\n",
              "      <td>2.896069</td>\n",
              "      <td>2.871062</td>\n",
              "      <td>2.871842</td>\n",
              "      <td>2.872187</td>\n",
              "      <td>2.877171</td>\n",
              "      <td>2.886820</td>\n",
              "      <td>2.899591</td>\n",
              "      <td>2.907185</td>\n",
              "    </tr>\n",
              "  </tbody>\n",
              "</table>\n",
              "<p>500 rows × 41 columns</p>\n",
              "</div>\n",
              "      <button class=\"colab-df-convert\" onclick=\"convertToInteractive('df-9e813fa7-7dd1-4ba9-a4ef-426717f7b537')\"\n",
              "              title=\"Convert this dataframe to an interactive table.\"\n",
              "              style=\"display:none;\">\n",
              "        \n",
              "  <svg xmlns=\"http://www.w3.org/2000/svg\" height=\"24px\"viewBox=\"0 0 24 24\"\n",
              "       width=\"24px\">\n",
              "    <path d=\"M0 0h24v24H0V0z\" fill=\"none\"/>\n",
              "    <path d=\"M18.56 5.44l.94 2.06.94-2.06 2.06-.94-2.06-.94-.94-2.06-.94 2.06-2.06.94zm-11 1L8.5 8.5l.94-2.06 2.06-.94-2.06-.94L8.5 2.5l-.94 2.06-2.06.94zm10 10l.94 2.06.94-2.06 2.06-.94-2.06-.94-.94-2.06-.94 2.06-2.06.94z\"/><path d=\"M17.41 7.96l-1.37-1.37c-.4-.4-.92-.59-1.43-.59-.52 0-1.04.2-1.43.59L10.3 9.45l-7.72 7.72c-.78.78-.78 2.05 0 2.83L4 21.41c.39.39.9.59 1.41.59.51 0 1.02-.2 1.41-.59l7.78-7.78 2.81-2.81c.8-.78.8-2.07 0-2.86zM5.41 20L4 18.59l7.72-7.72 1.47 1.35L5.41 20z\"/>\n",
              "  </svg>\n",
              "      </button>\n",
              "      \n",
              "  <style>\n",
              "    .colab-df-container {\n",
              "      display:flex;\n",
              "      flex-wrap:wrap;\n",
              "      gap: 12px;\n",
              "    }\n",
              "\n",
              "    .colab-df-convert {\n",
              "      background-color: #E8F0FE;\n",
              "      border: none;\n",
              "      border-radius: 50%;\n",
              "      cursor: pointer;\n",
              "      display: none;\n",
              "      fill: #1967D2;\n",
              "      height: 32px;\n",
              "      padding: 0 0 0 0;\n",
              "      width: 32px;\n",
              "    }\n",
              "\n",
              "    .colab-df-convert:hover {\n",
              "      background-color: #E2EBFA;\n",
              "      box-shadow: 0px 1px 2px rgba(60, 64, 67, 0.3), 0px 1px 3px 1px rgba(60, 64, 67, 0.15);\n",
              "      fill: #174EA6;\n",
              "    }\n",
              "\n",
              "    [theme=dark] .colab-df-convert {\n",
              "      background-color: #3B4455;\n",
              "      fill: #D2E3FC;\n",
              "    }\n",
              "\n",
              "    [theme=dark] .colab-df-convert:hover {\n",
              "      background-color: #434B5C;\n",
              "      box-shadow: 0px 1px 3px 1px rgba(0, 0, 0, 0.15);\n",
              "      filter: drop-shadow(0px 1px 2px rgba(0, 0, 0, 0.3));\n",
              "      fill: #FFFFFF;\n",
              "    }\n",
              "  </style>\n",
              "\n",
              "      <script>\n",
              "        const buttonEl =\n",
              "          document.querySelector('#df-9e813fa7-7dd1-4ba9-a4ef-426717f7b537 button.colab-df-convert');\n",
              "        buttonEl.style.display =\n",
              "          google.colab.kernel.accessAllowed ? 'block' : 'none';\n",
              "\n",
              "        async function convertToInteractive(key) {\n",
              "          const element = document.querySelector('#df-9e813fa7-7dd1-4ba9-a4ef-426717f7b537');\n",
              "          const dataTable =\n",
              "            await google.colab.kernel.invokeFunction('convertToInteractive',\n",
              "                                                     [key], {});\n",
              "          if (!dataTable) return;\n",
              "\n",
              "          const docLinkHtml = 'Like what you see? Visit the ' +\n",
              "            '<a target=\"_blank\" href=https://colab.research.google.com/notebooks/data_table.ipynb>data table notebook</a>'\n",
              "            + ' to learn more about interactive tables.';\n",
              "          element.innerHTML = '';\n",
              "          dataTable['output_type'] = 'display_data';\n",
              "          await google.colab.output.renderOutput(dataTable, element);\n",
              "          const docLink = document.createElement('div');\n",
              "          docLink.innerHTML = docLinkHtml;\n",
              "          element.appendChild(docLink);\n",
              "        }\n",
              "      </script>\n",
              "    </div>\n",
              "  </div>\n",
              "  "
            ]
          },
          "metadata": {},
          "execution_count": 8
        }
      ]
    },
    {
      "cell_type": "code",
      "source": [
        "#splitting the data\n",
        "y = dataset_y\n",
        "X_train, X_test, y_train, y_test = train_test_split(scaled_data, y, test_size=0.3, random_state=42)"
      ],
      "metadata": {
        "id": "67Du8u3TTWSa"
      },
      "execution_count": null,
      "outputs": []
    },
    {
      "cell_type": "markdown",
      "source": [
        "                               **LINEAR** **REGRESSION**"
      ],
      "metadata": {
        "id": "H9UCKRewqKF7"
      }
    },
    {
      "cell_type": "code",
      "source": [
        "from sklearn.linear_model import LinearRegression\n",
        "model_lr = LinearRegression().fit(X_train, y_train)\n",
        "r_sq = model_lr.score(X_train, y_train)\n",
        "print(f\"coefficient of determination: {r_sq}\")\n",
        "print(f\"intercept: {model_lr.intercept_}\")\n",
        "print(f\"coefficients: {model_lr.coef_}\")\n",
        "y_predicted_lr = model_lr.predict(X_test)"
      ],
      "metadata": {
        "colab": {
          "base_uri": "https://localhost:8080/"
        },
        "id": "oKCNZeb6p9c0",
        "outputId": "d6621918-68b6-48cf-cc22-30489ebbd1f8"
      },
      "execution_count": null,
      "outputs": [
        {
          "output_type": "stream",
          "name": "stdout",
          "text": [
            "coefficient of determination: 0.9749539065766161\n",
            "intercept: 6.0933400115717715\n",
            "coefficients: [-1.76594851e+00 -1.58335020e+00  1.23924727e+01 -6.90678870e+00\n",
            " -1.28139976e+01  8.70442824e+00  1.02473052e+00  6.03555489e+00\n",
            "  4.76363638e+00 -2.05319202e+01  1.94942112e+01 -1.39761106e+01\n",
            " -2.41649595e+01  4.78358902e+01 -3.96062654e+01  3.72907948e+01\n",
            "  2.97389085e+01 -7.09108410e+01  2.20191579e+01  3.60198440e+01\n",
            " -5.25435726e+01 -1.44425031e+01  1.86965979e+01 -1.46131824e+01\n",
            " -6.21440714e+00  2.57360623e+01 -6.24814713e+00 -1.11313263e+01\n",
            " -5.34977420e+01  8.02356958e+01  1.15509026e+02 -7.76130417e+02\n",
            "  1.59428583e+03  1.19832013e+03 -2.56762414e+03 -3.56609937e+03\n",
            " -2.31152888e+03  9.57041667e+03  5.56314462e+03 -1.25052992e+04\n",
            "  3.69358042e+03]\n"
          ]
        }
      ]
    },
    {
      "cell_type": "code",
      "source": [
        "rms = sqrt(mean_squared_error(y_test, y_predicted_lr))\n",
        "print(rms)\n",
        "r_square = model_lr.score(X_test,y_test)\n",
        "print(r_square)\n",
        "mae = mean_absolute_error(y_test,y_predicted_lr)\n",
        "print(mae)\n",
        "mape = mean_absolute_percentage_error(y_test, y_predicted_lr)\n",
        "print(mape)"
      ],
      "metadata": {
        "colab": {
          "base_uri": "https://localhost:8080/"
        },
        "id": "Id2DSsaJqO8n",
        "outputId": "53505eba-f0f0-4fda-ad8b-92d9a8740cf5"
      },
      "execution_count": null,
      "outputs": [
        {
          "output_type": "stream",
          "name": "stdout",
          "text": [
            "1.8839000944026292\n",
            "0.9596141946291389\n",
            "1.1185328393680998\n",
            "2.2682886873515318\n"
          ]
        }
      ]
    },
    {
      "cell_type": "markdown",
      "source": [
        "                          **Gradient** **Boosting** **Regressor**"
      ],
      "metadata": {
        "id": "N_O9FO9_qW0z"
      }
    },
    {
      "cell_type": "code",
      "source": [
        "from sklearn.ensemble import GradientBoostingRegressor\n",
        "model_gb = GradientBoostingRegressor().fit(X_train, y_train)\n",
        "y_predicted_gb = model_gb.predict(X_test)"
      ],
      "metadata": {
        "id": "hizuOqPlqpB8"
      },
      "execution_count": null,
      "outputs": []
    },
    {
      "cell_type": "code",
      "source": [
        "rms = sqrt(mean_squared_error(y_test, y_predicted_gb))\n",
        "print(rms)\n",
        "r_square = model_gb.score(X_test,y_test)\n",
        "print(r_square)\n",
        "mae = mean_absolute_error(y_test,y_predicted_gb)\n",
        "print(mae)\n",
        "mape = mean_absolute_percentage_error(y_test, y_predicted_gb)\n",
        "print(mape)"
      ],
      "metadata": {
        "colab": {
          "base_uri": "https://localhost:8080/"
        },
        "id": "E4jvKx5SqsPJ",
        "outputId": "8a751ee7-14eb-486d-aba4-0b41c2526be6"
      },
      "execution_count": null,
      "outputs": [
        {
          "output_type": "stream",
          "name": "stdout",
          "text": [
            "2.374912209939144\n",
            "0.9358187556740525\n",
            "1.232171743261668\n",
            "0.564705010678876\n"
          ]
        }
      ]
    },
    {
      "cell_type": "code",
      "source": [
        "#Hyperparameter tuning\n",
        "GBR=GradientBoostingRegressor()\n",
        "search_grid={'n_estimators':[500,1000,2000],'learning_rate':[.001,0.01,.1],'max_depth':[1,2,4],'subsample':[.5,.75,1],'random_state':[1]}\n",
        "search=GridSearchCV(estimator=GBR,param_grid=search_grid,scoring='neg_mean_squared_error',n_jobs=1,cv=5)\n",
        "search.fit(X_train,y_train)\n",
        "search.best_params_"
      ],
      "metadata": {
        "colab": {
          "base_uri": "https://localhost:8080/"
        },
        "id": "I5cD7P6UA7q2",
        "outputId": "8655c03a-0891-4aaf-c095-41ef325e5cc5"
      },
      "execution_count": null,
      "outputs": [
        {
          "output_type": "execute_result",
          "data": {
            "text/plain": [
              "{'learning_rate': 0.01,\n",
              " 'max_depth': 4,\n",
              " 'n_estimators': 2000,\n",
              " 'random_state': 1,\n",
              " 'subsample': 0.5}"
            ]
          },
          "metadata": {},
          "execution_count": 14
        }
      ]
    },
    {
      "cell_type": "code",
      "source": [
        "GBR2 = GradientBoostingRegressor(n_estimators=2000,learning_rate=0.01,subsample=0.5,max_depth=4,random_state=1)\n",
        "model_gbhp = GBR2.fit(X_train, y_train)\n",
        "y_predicted_gbhp = model_gbhp.predict(X_test)"
      ],
      "metadata": {
        "id": "ZBPD6kveBC4V"
      },
      "execution_count": null,
      "outputs": []
    },
    {
      "cell_type": "code",
      "source": [
        "rms = sqrt(mean_squared_error(y_test, y_predicted_gbhp))\n",
        "print(rms)\n",
        "r_square = model_gbhp.score(X_test,y_test)\n",
        "print(r_square)\n",
        "mae = mean_absolute_error(y_test,y_predicted_gbhp)\n",
        "print(mae)\n",
        "mape = mean_absolute_percentage_error(y_test, y_predicted_gbhp)\n",
        "print(mape)"
      ],
      "metadata": {
        "colab": {
          "base_uri": "https://localhost:8080/"
        },
        "id": "x0hpFRlIBFZ-",
        "outputId": "1d948de1-2b76-41cc-ce21-f585e12d12a7"
      },
      "execution_count": null,
      "outputs": [
        {
          "output_type": "stream",
          "name": "stdout",
          "text": [
            "2.1406995699418716\n",
            "0.9478535850908865\n",
            "1.1977451642972565\n",
            "0.37862707357542635\n"
          ]
        }
      ]
    },
    {
      "cell_type": "markdown",
      "source": [
        "                                    **PLS** **Regression**"
      ],
      "metadata": {
        "id": "2gbvN9IHrKWe"
      }
    },
    {
      "cell_type": "code",
      "source": [
        "from sklearn.cross_decomposition import PLSRegression\n",
        "model_plsr = PLSRegression(n_components=41, scale=True)\n",
        "model_plsr.fit(X_train, y_train)\n",
        "y_predicted_plsr = model_plsr.predict(X_test)"
      ],
      "metadata": {
        "id": "psq2qKYxrKC8"
      },
      "execution_count": null,
      "outputs": []
    },
    {
      "cell_type": "code",
      "source": [
        "rms = sqrt(mean_squared_error(y_test, y_predicted_plsr))\n",
        "print(rms)\n",
        "r_square = model_plsr.score(X_test,y_test)\n",
        "print(r_square)\n",
        "mae = mean_absolute_error(y_test,y_predicted_plsr)\n",
        "print(mae)\n",
        "mape = mean_absolute_percentage_error(y_test, y_predicted_plsr)\n",
        "print(mape)"
      ],
      "metadata": {
        "colab": {
          "base_uri": "https://localhost:8080/"
        },
        "id": "r-eC8UgArZoI",
        "outputId": "19d123de-6609-47fb-98b3-387385bc69f5"
      },
      "execution_count": null,
      "outputs": [
        {
          "output_type": "stream",
          "name": "stdout",
          "text": [
            "1.8839000944027724\n",
            "0.9358187556740525\n",
            "1.1185328393682232\n",
            "2.268288687358793\n"
          ]
        }
      ]
    },
    {
      "cell_type": "code",
      "source": [
        "#Hyperparameter Tuning\n",
        "r_square = []\n",
        "rms = []\n",
        "mae = []\n",
        "mape = [] #to store rmse values for different n_components\n",
        "for n_comp in range(1, 41):\n",
        "  model_plsrhp = PLSRegression(n_components=n_comp, scale=True)\n",
        "  model_plsrhp.fit(X_train, y_train)\n",
        "  y_predicted_plsrhp = model_plsrhp.predict(X_test)\n",
        "  rms_val = sqrt(mean_squared_error(y_test,y_predicted_plsrhp)) #calculate rmse\n",
        "  rms.append(rms_val) #store rmse values\n",
        "  r2 = model_plsrhp.score(X_test,y_test)\n",
        "  r_square.append(r2) #store r2 values\n",
        "  mae_1 = mean_absolute_error(y_test,y_predicted_plsrhp)\n",
        "  mae.append(mae_1)\n",
        "  mape_1 = mean_absolute_percentage_error(y_test, y_predicted_plsrhp)\n",
        "  mape.append(mape_1)"
      ],
      "metadata": {
        "id": "mqhbnukOCJCM"
      },
      "execution_count": null,
      "outputs": []
    },
    {
      "cell_type": "code",
      "source": [
        "print(min(rms))\n",
        "print(max(r_square))\n",
        "print(min(mae))\n",
        "print(min(mape))"
      ],
      "metadata": {
        "colab": {
          "base_uri": "https://localhost:8080/"
        },
        "id": "1HevklbrCTVL",
        "outputId": "53fad084-fe9c-4474-a977-0913f15b1023"
      },
      "execution_count": null,
      "outputs": [
        {
          "output_type": "stream",
          "name": "stdout",
          "text": [
            "1.7237636135411567\n",
            "0.9661881891841495\n",
            "1.1977451642972565\n",
            "0.37862707357542635\n"
          ]
        }
      ]
    },
    {
      "cell_type": "markdown",
      "source": [
        "                                    **Random** **Forest**"
      ],
      "metadata": {
        "id": "sD9oVPBYrfrE"
      }
    },
    {
      "cell_type": "code",
      "source": [
        "from sklearn.ensemble import RandomForestRegressor\n",
        "model_rfr = RandomForestRegressor(n_estimators = 500)\n",
        "model_rfr.fit(X_train,y_train)\n",
        "y_predicted_rfr = model_rfr.predict(X_test)  "
      ],
      "metadata": {
        "id": "5vPkoLZkrdhD"
      },
      "execution_count": null,
      "outputs": []
    },
    {
      "cell_type": "code",
      "source": [
        "rms = sqrt(mean_squared_error(y_test, y_predicted_rfr))\n",
        "print(rms)\n",
        "r_square = model_gb.score(X_test,y_test)\n",
        "print(r_square)\n",
        "mae = mean_absolute_error(y_test,y_predicted_rfr)\n",
        "print(mae)\n",
        "mape = mean_absolute_percentage_error(y_test, y_predicted_rfr)\n",
        "print(mape)"
      ],
      "metadata": {
        "colab": {
          "base_uri": "https://localhost:8080/"
        },
        "id": "XmulgVZ7rp_g",
        "outputId": "f47d98e7-735a-4a82-d60c-6b6415198ec0"
      },
      "execution_count": null,
      "outputs": [
        {
          "output_type": "stream",
          "name": "stdout",
          "text": [
            "2.2632439771066073\n",
            "0.9358187556740525\n",
            "1.2158389333333333\n",
            "0.2829830793650796\n"
          ]
        }
      ]
    },
    {
      "cell_type": "code",
      "source": [
        "#Hyperparameter Tuning\n",
        "from sklearn.model_selection import GridSearchCV\n",
        "# Create the parameter grid based on the results of random search \n",
        "param_grid = {'bootstrap': [True],'max_depth': [80, 90, 100, 110],'max_features': [2, 3],'min_samples_leaf': [3, 4, 5],'min_samples_split': [8, 10, 12],'n_estimators': [100, 200, 300, 1000]}\n",
        "# Create a based model\n",
        "rf = RandomForestRegressor()\n",
        "# Instantiate the grid search model\n",
        "grid_search = GridSearchCV(estimator = rf, param_grid = param_grid, cv = 3, n_jobs = -1, verbose = 2)"
      ],
      "metadata": {
        "id": "7gkX-7WMCm6s"
      },
      "execution_count": null,
      "outputs": []
    },
    {
      "cell_type": "code",
      "source": [
        "# Fit the grid search to the data\n",
        "grid_search.fit(X_train, y_train)\n",
        "print(grid_search.best_params_)\n",
        "model_rfrhp = grid_search.best_estimator_\n",
        "model_rfrhp.fit(X_train,y_train)\n",
        "y_predicted_rfrhp = model_rfrhp.predict(X_test) "
      ],
      "metadata": {
        "colab": {
          "base_uri": "https://localhost:8080/"
        },
        "id": "teqNcuArCqqA",
        "outputId": "d68112a9-f007-43d9-9bae-af49a30772cc"
      },
      "execution_count": null,
      "outputs": [
        {
          "output_type": "stream",
          "name": "stdout",
          "text": [
            "Fitting 3 folds for each of 288 candidates, totalling 864 fits\n",
            "{'bootstrap': True, 'max_depth': 80, 'max_features': 3, 'min_samples_leaf': 3, 'min_samples_split': 8, 'n_estimators': 300}\n"
          ]
        }
      ]
    },
    {
      "cell_type": "code",
      "source": [
        "rms = sqrt(mean_squared_error(y_test, y_predicted_rfrhp))\n",
        "print(rms)\n",
        "r_square = model_rfrhp.score(X_test,y_test)\n",
        "print(r_square)\n",
        "mae = mean_absolute_error(y_test,y_predicted_rfrhp)\n",
        "print(mae)\n",
        "mape = mean_absolute_percentage_error(y_test, y_predicted_rfrhp)\n",
        "print(mape)"
      ],
      "metadata": {
        "id": "GqdYBCChCtKW",
        "colab": {
          "base_uri": "https://localhost:8080/"
        },
        "outputId": "1d1ce297-7ea1-4159-8441-0ab10ef6e90c"
      },
      "execution_count": null,
      "outputs": [
        {
          "output_type": "stream",
          "name": "stdout",
          "text": [
            "2.556536422913271\n",
            "0.9256267121085291\n",
            "1.3754285753152538\n",
            "0.32727093451610045\n"
          ]
        }
      ]
    },
    {
      "cell_type": "markdown",
      "source": [
        "                                           **KNN**"
      ],
      "metadata": {
        "id": "_tukmmFOrzTV"
      }
    },
    {
      "cell_type": "code",
      "source": [
        "from sklearn import neighbors\n",
        "r_square = []\n",
        "rms = []\n",
        "mae = []\n",
        "mape = [] #to store rmse values for different k\n",
        "for K in range(20):\n",
        "    K = K+1\n",
        "    model_knn = neighbors.KNeighborsRegressor(n_neighbors = K)\n",
        "    model_knn.fit(X_train, y_train)  #fit the model\n",
        "    y_predicted_knn = model_knn.predict(X_test) #make prediction on test set\n",
        "    rms_val = sqrt(mean_squared_error(y_test,y_predicted_knn)) #calculate rmse\n",
        "    rms.append(rms_val) #store rmse values\n",
        "    r2 = model_knn.score(X_test,y_test)\n",
        "    r_square.append(r2) #store r2 values\n",
        "    mae_1 = mean_absolute_error(y_test,y_predicted_knn)\n",
        "    mae.append(mae_1)\n",
        "    mape_1 = mean_absolute_percentage_error(y_test, y_predicted_knn)\n",
        "    mape.append(mape_1)"
      ],
      "metadata": {
        "id": "SPSvKOWwry88"
      },
      "execution_count": null,
      "outputs": []
    },
    {
      "cell_type": "code",
      "source": [
        "print(min(rms))\n",
        "print(max(r_square))\n",
        "print(min(mae))\n",
        "print(min(mape))"
      ],
      "metadata": {
        "id": "bYzbzmD4r99X",
        "colab": {
          "base_uri": "https://localhost:8080/"
        },
        "outputId": "0980c187-7a19-4662-8e1a-35baeb4706fc"
      },
      "execution_count": null,
      "outputs": [
        {
          "output_type": "stream",
          "name": "stdout",
          "text": [
            "2.587984133944994\n",
            "0.9237857410576237\n",
            "1.3879166666666667\n",
            "0.3039761904761905\n"
          ]
        }
      ]
    },
    {
      "cell_type": "code",
      "source": [
        "#plotting the rmse values against k values\n",
        "curve = pd.DataFrame(rms) #elbow curve \n",
        "curve.plot()"
      ],
      "metadata": {
        "id": "Z-c_6qgIsBLm",
        "colab": {
          "base_uri": "https://localhost:8080/",
          "height": 282
        },
        "outputId": "30dc0470-fe97-4aaa-b9af-8df50ae05590"
      },
      "execution_count": null,
      "outputs": [
        {
          "output_type": "execute_result",
          "data": {
            "text/plain": [
              "<matplotlib.axes._subplots.AxesSubplot at 0x7f339c794550>"
            ]
          },
          "metadata": {},
          "execution_count": 28
        },
        {
          "output_type": "display_data",
          "data": {
            "text/plain": [
              "<Figure size 432x288 with 1 Axes>"
            ],
            "image/png": "[encoded data removed]"
          },
          "metadata": {
            "needs_background": "light"
          }
        }
      ]
    },
    {
      "cell_type": "markdown",
      "source": [
        "                                  **SVR**"
      ],
      "metadata": {
        "id": "DUS4uAo1sFDP"
      }
    },
    {
      "cell_type": "code",
      "source": [
        "from sklearn.svm import SVR\n",
        "model_svr = SVR(kernel = 'rbf')\n",
        "model_svr.fit(X_train, y_train)\n",
        "y_predicted_svr = model_svr.predict(X_test)\n",
        "plt.figure(figsize = (10,10))\n",
        "plt.scatter(y_test,y_predicted_svr)"
      ],
      "metadata": {
        "id": "70IZZoA6sDb6",
        "colab": {
          "base_uri": "https://localhost:8080/",
          "height": 609
        },
        "outputId": "d22082ff-8a80-4296-814e-33505a780b9f"
      },
      "execution_count": null,
      "outputs": [
        {
          "output_type": "execute_result",
          "data": {
            "text/plain": [
              "<matplotlib.collections.PathCollection at 0x7f339be8ed10>"
            ]
          },
          "metadata": {},
          "execution_count": 29
        },
        {
          "output_type": "display_data",
          "data": {
            "text/plain": [
              "<Figure size 720x720 with 1 Axes>"
            ],
            "image/png": "[encoded data removed]"
          },
          "metadata": {
            "needs_background": "light"
          }
        }
      ]
    },
    {
      "cell_type": "code",
      "source": [
        "rms = sqrt(mean_squared_error(y_test, y_predicted_svr))\n",
        "print(rms)\n",
        "r_square = model_svr.score(X_test,y_test)\n",
        "print(r_square)\n",
        "mae = mean_absolute_error(y_test,y_predicted_svr)\n",
        "print(mae)\n",
        "mape = mean_absolute_percentage_error(y_test, y_predicted_svr)\n",
        "print(mape)"
      ],
      "metadata": {
        "id": "eUspqDyNdtn2"
      },
      "execution_count": null,
      "outputs": []
    },
    {
      "cell_type": "code",
      "source": [
        "#Hyperparameter Tuning\n",
        "c_range = np.logspace(-2, 2, 5)\n",
        "gamma_range = np.logspace(-2, 2, 5)\n",
        "parameters = {'kernel': ['rbf'], 'C': c_range,'gamma': gamma_range,'epsilon':[1,0.1,0.01,00.001]}\n",
        "svr = SVR()\n",
        "grid_search = GridSearchCV(svr, parameters)\n",
        "grid_search.fit(X_train,y_train)\n",
        "print(grid_search.best_params_)"
      ],
      "metadata": {
        "id": "pjyIYcAjC4sU",
        "colab": {
          "base_uri": "https://localhost:8080/"
        },
        "outputId": "760466a5-ea49-4926-bf24-9b7c1d5d35aa"
      },
      "execution_count": null,
      "outputs": [
        {
          "output_type": "stream",
          "name": "stdout",
          "text": [
            "{'C': 100.0, 'epsilon': 1, 'gamma': 0.01, 'kernel': 'rbf'}\n"
          ]
        }
      ]
    },
    {
      "cell_type": "code",
      "source": [
        "model_svrhp = grid_search.best_estimator_\n",
        "model_svrhp.fit(X_train,y_train)\n",
        "y_predicted_svrhp = model_svrhp.predict(X_test)"
      ],
      "metadata": {
        "id": "4B0mYvj2C50A"
      },
      "execution_count": null,
      "outputs": []
    },
    {
      "cell_type": "code",
      "source": [
        "rms = sqrt(mean_squared_error(y_test, y_predicted_svrhp))\n",
        "print(rms)\n",
        "r_square = model_svrhp.score(X_test,y_test)\n",
        "print(r_square)\n",
        "mae = mean_absolute_error(y_test,y_predicted_svrhp)\n",
        "print(mae)\n",
        "mape = mean_absolute_percentage_error(y_test, y_predicted_svrhp)\n",
        "print(mape)"
      ],
      "metadata": {
        "id": "zI9KD4_wC-vj",
        "colab": {
          "base_uri": "https://localhost:8080/"
        },
        "outputId": "3b0ef7e3-7c44-4334-bcbc-01ee7e5467da"
      },
      "execution_count": null,
      "outputs": [
        {
          "output_type": "stream",
          "name": "stdout",
          "text": [
            "1.6914266615969973\n",
            "0.9674448758256355\n",
            "1.080675796922908\n",
            "3.7655729482226517\n"
          ]
        }
      ]
    },
    {
      "cell_type": "markdown",
      "source": [
        "                                  **AdaBoost**"
      ],
      "metadata": {
        "id": "jzD8BPzqsoWM"
      }
    },
    {
      "cell_type": "code",
      "source": [
        "from sklearn.ensemble import AdaBoostRegressor\n",
        "adb = AdaBoostRegressor()\n",
        "model_abr = AdaBoostRegressor().fit(X_train, y_train)\n",
        "y_predicted_abr = model_abr.predict(X_test)"
      ],
      "metadata": {
        "id": "goljzXEGsNyc"
      },
      "execution_count": null,
      "outputs": []
    },
    {
      "cell_type": "code",
      "source": [
        "rms = sqrt(mean_squared_error(y_test, y_predicted_abr))\n",
        "print(rms)\n",
        "r_square = model_abr.score(X_test,y_test)\n",
        "print(r_square)\n",
        "mae = mean_absolute_error(y_test,y_predicted_abr)\n",
        "print(mae)\n",
        "mape = mean_absolute_percentage_error(y_test, y_predicted_abr)\n",
        "print(mape)"
      ],
      "metadata": {
        "id": "bza6TjvTsvz0",
        "colab": {
          "base_uri": "https://localhost:8080/"
        },
        "outputId": "1371a66d-cac6-4f4c-a2e7-271a1079d8a7"
      },
      "execution_count": null,
      "outputs": [
        {
          "output_type": "stream",
          "name": "stdout",
          "text": [
            "3.2368720186242435\n",
            "0.8807758955554634\n",
            "2.7199356296614523\n",
            "13.699220916941076\n"
          ]
        }
      ]
    },
    {
      "cell_type": "code",
      "source": [
        "#Hyperparametrer Tuning\n",
        "param_grid = {'n_estimators':list(range(0, 1000, 100)), 'learning_rate':[100,10,1,0.1, 0.01, 0.001]}\n",
        "grid_search = GridSearchCV(estimator=adb, param_grid=param_grid, scoring='neg_mean_squared_error', n_jobs=1, cv=5)"
      ],
      "metadata": {
        "id": "cmaOa3XoDD3g"
      },
      "execution_count": null,
      "outputs": []
    },
    {
      "cell_type": "code",
      "source": [
        "#fit the data\n",
        "grid_search.fit(X_train, y_train)\n",
        "print(grid_search.best_params_)\n",
        "model_adbhp = grid_search.best_estimator_\n",
        "model_adbhp.fit(X_train,y_train)\n",
        "y_predicted_abrhp = model_adbhp.predict(X_test) "
      ],
      "metadata": {
        "id": "itTJ0sqQDEkq",
        "colab": {
          "base_uri": "https://localhost:8080/"
        },
        "outputId": "ee8a7e34-c4bc-46f6-918a-9ccd5997af54"
      },
      "execution_count": null,
      "outputs": [
        {
          "output_type": "stream",
          "name": "stdout",
          "text": [
            "{'learning_rate': 0.1, 'n_estimators': 300}\n"
          ]
        }
      ]
    },
    {
      "cell_type": "code",
      "source": [
        "rms = sqrt(mean_squared_error(y_test, y_predicted_abrhp))\n",
        "print(rms)\n",
        "r_square = model_adbhp.score(X_test,y_test)\n",
        "print(r_square)\n",
        "mae = mean_absolute_error(y_test,y_predicted_abrhp)\n",
        "print(mae)\n",
        "mape = mean_absolute_percentage_error(y_test, y_predicted_abrhp)\n",
        "print(mape)"
      ],
      "metadata": {
        "id": "fUWOha0KDPsf",
        "colab": {
          "base_uri": "https://localhost:8080/"
        },
        "outputId": "3d0f1daf-2903-4726-ccd3-7c5cef577399"
      },
      "execution_count": null,
      "outputs": [
        {
          "output_type": "stream",
          "name": "stdout",
          "text": [
            "2.857954702183102\n",
            "0.9070555002410855\n",
            "2.120988869349929\n",
            "8.142161367145127\n"
          ]
        }
      ]
    },
    {
      "cell_type": "markdown",
      "source": [
        "                            **Ridge & Lasso** **Regression**"
      ],
      "metadata": {
        "id": "MOfAueU2s2hn"
      }
    },
    {
      "cell_type": "code",
      "source": [
        "#Ridge Regression, using Grid Search CV to find the best parameter for alpha\n",
        "from sklearn.model_selection import cross_val_score\n",
        "from sklearn.model_selection import GridSearchCV\n",
        "from sklearn.linear_model import Ridge\n",
        "ridge = Ridge()\n",
        "parameters = {\"alpha\":[1e-15, 1e-10, 1e-8, 1e-4, 1e-3, 1e-2, 1, 5, 10, 20]}\n",
        "ridge_regression = GridSearchCV(ridge, parameters, scoring='neg_mean_squared_error', cv=5)\n",
        "ridge_regression.fit(X_train, y_train)"
      ],
      "metadata": {
        "id": "LKX6dZDfsyVh",
        "colab": {
          "base_uri": "https://localhost:8080/"
        },
        "outputId": "0ee9ed9e-0557-4500-849d-8613fe38cb88"
      },
      "execution_count": null,
      "outputs": [
        {
          "output_type": "execute_result",
          "data": {
            "text/plain": [
              "GridSearchCV(cv=5, estimator=Ridge(),\n",
              "             param_grid={'alpha': [1e-15, 1e-10, 1e-08, 0.0001, 0.001, 0.01, 1,\n",
              "                                   5, 10, 20]},\n",
              "             scoring='neg_mean_squared_error')"
            ]
          },
          "metadata": {},
          "execution_count": 39
        }
      ]
    },
    {
      "cell_type": "code",
      "source": [
        "print(ridge_regression.best_params_)"
      ],
      "metadata": {
        "id": "9Z-NEHPWs8Lf",
        "colab": {
          "base_uri": "https://localhost:8080/"
        },
        "outputId": "8c4208e8-77df-4a66-92c5-b75ca059202e"
      },
      "execution_count": null,
      "outputs": [
        {
          "output_type": "stream",
          "name": "stdout",
          "text": [
            "{'alpha': 1e-08}\n"
          ]
        }
      ]
    },
    {
      "cell_type": "code",
      "source": [
        "model_rr = Ridge(alpha=1e-08).fit(X_train,y_train)\n",
        "y_predicted_rr = model_rr.predict(X_test)"
      ],
      "metadata": {
        "id": "NcX7Vrhns-qE"
      },
      "execution_count": null,
      "outputs": []
    },
    {
      "cell_type": "code",
      "source": [
        "rms = sqrt(mean_squared_error(y_test, y_predicted_rr))\n",
        "print(rms)\n",
        "r_square = model_rr.score(X_test,y_test)\n",
        "print(r_square)\n",
        "mae = mean_absolute_error(y_test,y_predicted_rr)\n",
        "print(mae)\n",
        "mape = mean_absolute_percentage_error(y_test, y_predicted_rr)\n",
        "print(mape)"
      ],
      "metadata": {
        "id": "A5auPYnHtA14",
        "colab": {
          "base_uri": "https://localhost:8080/"
        },
        "outputId": "a2273164-7019-46b1-e6df-ec397559c349"
      },
      "execution_count": null,
      "outputs": [
        {
          "output_type": "stream",
          "name": "stdout",
          "text": [
            "1.8758238195722796\n",
            "0.9599597200910647\n",
            "1.1160705965569526\n",
            "2.2751932742320635\n"
          ]
        }
      ]
    },
    {
      "cell_type": "code",
      "source": [
        "#Lasso Regression, using Grid Search CV to find the best parameter for alpha\n",
        "from sklearn.linear_model import Lasso\n",
        "lasso = Lasso()\n",
        "a = [0.000000000000000000000000001*(10)**i for i in range(100)]\n",
        "parameters = {\"alpha\":a}\n",
        "lasso_regression = GridSearchCV(lasso, parameters, scoring='neg_mean_squared_error', cv=5)\n",
        "lasso_regression.fit(X_train, y_train)"
      ],
      "metadata": {
        "id": "L1VQpcXYtF_G",
        "colab": {
          "base_uri": "https://localhost:8080/"
        },
        "outputId": "4ce3e813-9157-49ff-daf5-3231fef58987"
      },
      "execution_count": null,
      "outputs": [
        {
          "output_type": "execute_result",
          "data": {
            "text/plain": [
              "GridSearchCV(cv=5, estimator=Lasso(),\n",
              "             param_grid={'alpha': [1e-27, 1e-26, 1e-25, 1.0000000000000001e-24,\n",
              "                                   1.0000000000000001e-23, 1e-22,\n",
              "                                   1.0000000000000001e-21,\n",
              "                                   1.0000000000000001e-20,\n",
              "                                   1.0000000000000001e-19, 1e-18, 1e-17, 1e-16,\n",
              "                                   1e-15, 1e-14, 1e-13, 1e-12,\n",
              "                                   1.0000000000000001e-11, 1e-10, 1e-09, 1e-08,\n",
              "                                   1.0000000000000001e-07, 1e-06, 1e-05,\n",
              "                                   9.999999999999999e-05, 0.001,\n",
              "                                   0.010000000000000002, 0.1, 1.0, 10.0, 100.0, ...]},\n",
              "             scoring='neg_mean_squared_error')"
            ]
          },
          "metadata": {},
          "execution_count": 43
        }
      ]
    },
    {
      "cell_type": "code",
      "source": [
        "print(lasso_regression.best_params_)"
      ],
      "metadata": {
        "id": "D02suslztHO3",
        "colab": {
          "base_uri": "https://localhost:8080/"
        },
        "outputId": "7ba4be7e-f98a-4732-9ab2-c769a733e064"
      },
      "execution_count": null,
      "outputs": [
        {
          "output_type": "stream",
          "name": "stdout",
          "text": [
            "{'alpha': 0.001}\n"
          ]
        }
      ]
    },
    {
      "cell_type": "code",
      "source": [
        "model_lr = Lasso(alpha=.001).fit(X_train,y_train)\n",
        "y_predicted_lr = model_lr.predict(X_test)"
      ],
      "metadata": {
        "id": "_BzWfzQEtJiN"
      },
      "execution_count": null,
      "outputs": []
    },
    {
      "cell_type": "code",
      "source": [
        "rms = sqrt(mean_squared_error(y_test, y_predicted_lr))\n",
        "print(rms)\n",
        "r_square = model_lr.score(X_test,y_test)\n",
        "print(r_square)\n",
        "mae = mean_absolute_error(y_test,y_predicted_lr)\n",
        "print(mae)\n",
        "mape = mean_absolute_percentage_error(y_test, y_predicted_lr)\n",
        "print(mape)"
      ],
      "metadata": {
        "id": "KQMw8pkJtMWW",
        "colab": {
          "base_uri": "https://localhost:8080/"
        },
        "outputId": "b35db846-5d3d-41fb-d542-8adcd896db0c"
      },
      "execution_count": null,
      "outputs": [
        {
          "output_type": "stream",
          "name": "stdout",
          "text": [
            "2.7975313647251827\n",
            "0.9109440499819563\n",
            "1.9958545408819506\n",
            "6.467893426430014\n"
          ]
        }
      ]
    },
    {
      "cell_type": "markdown",
      "source": [
        "                     **ANN**"
      ],
      "metadata": {
        "id": "gKPB7c4Efnbh"
      }
    },
    {
      "cell_type": "code",
      "source": [
        "import math\n",
        "import tensorflow as tf\n",
        "import matplotlib.pyplot as plt\n",
        "from tensorflow.keras import Model\n",
        "from tensorflow.keras import Sequential\n",
        "from tensorflow.keras.optimizers import Adam\n",
        "from sklearn.preprocessing import StandardScaler\n",
        "from tensorflow.keras.layers import Dense, Dropout\n",
        "from sklearn.model_selection import train_test_split\n",
        "from tensorflow.keras.losses import MeanSquaredLogarithmicError"
      ],
      "metadata": {
        "id": "_YJXIWdkAx4v"
      },
      "execution_count": null,
      "outputs": []
    },
    {
      "cell_type": "code",
      "source": [
        "hidden_units1 = 41\n",
        "# hidden_units2 = 10\n",
        "learning_rate = 0.0008\n",
        "# Creating model using the Sequential in tensorflow\n",
        "def build_model_using_sequential():\n",
        "  model = Sequential([\n",
        "    Dense(hidden_units1, kernel_initializer='normal', activation='relu'),\n",
        "    Dropout(0.1),\n",
        "    Dense(1, kernel_initializer='normal', activation='linear')\n",
        "  ])\n",
        "  return model\n",
        "# build the model\n",
        "model = build_model_using_sequential()"
      ],
      "metadata": {
        "id": "6Q2SXEH5fsOO"
      },
      "execution_count": null,
      "outputs": []
    },
    {
      "cell_type": "code",
      "source": [
        "msle = MeanSquaredLogarithmicError()\n",
        "model.compile(\n",
        "    loss=msle, \n",
        "    optimizer=Adam(learning_rate=learning_rate), \n",
        "    metrics=[msle]\n",
        ")\n",
        "# train the model\n",
        "history = model.fit(\n",
        "    X_train, \n",
        "    y_train, \n",
        "    epochs=150, \n",
        "    batch_size=64,\n",
        "    validation_split=0.2\n",
        ")"
      ],
      "metadata": {
        "id": "OufuJRYQjp6n",
        "colab": {
          "base_uri": "https://localhost:8080/"
        },
        "outputId": "127c6631-9ee4-45c1-ed0f-599d19589831"
      },
      "execution_count": null,
      "outputs": [
        {
          "output_type": "stream",
          "name": "stdout",
          "text": [
            "Epoch 1/150\n",
            "5/5 [==============================] - 1s 54ms/step - loss: 2.4741 - mean_squared_logarithmic_error: 2.4674 - val_loss: 2.4245 - val_mean_squared_logarithmic_error: 2.2383\n",
            "Epoch 2/150\n",
            "5/5 [==============================] - 0s 9ms/step - loss: 2.2825 - mean_squared_logarithmic_error: 2.2556 - val_loss: 2.2449 - val_mean_squared_logarithmic_error: 2.0946\n",
            "Epoch 3/150\n",
            "5/5 [==============================] - 0s 8ms/step - loss: 2.1277 - mean_squared_logarithmic_error: 2.1300 - val_loss: 2.0764 - val_mean_squared_logarithmic_error: 1.9549\n",
            "Epoch 4/150\n",
            "5/5 [==============================] - 0s 10ms/step - loss: 1.9517 - mean_squared_logarithmic_error: 1.9619 - val_loss: 1.9138 - val_mean_squared_logarithmic_error: 1.8170\n",
            "Epoch 5/150\n",
            "5/5 [==============================] - 0s 10ms/step - loss: 1.7846 - mean_squared_logarithmic_error: 1.8341 - val_loss: 1.7596 - val_mean_squared_logarithmic_error: 1.6843\n",
            "Epoch 6/150\n",
            "5/5 [==============================] - 0s 9ms/step - loss: 1.6357 - mean_squared_logarithmic_error: 1.6536 - val_loss: 1.6146 - val_mean_squared_logarithmic_error: 1.5562\n",
            "Epoch 7/150\n",
            "5/5 [==============================] - 0s 9ms/step - loss: 1.4924 - mean_squared_logarithmic_error: 1.4758 - val_loss: 1.4809 - val_mean_squared_logarithmic_error: 1.4355\n",
            "Epoch 8/150\n",
            "5/5 [==============================] - 0s 8ms/step - loss: 1.3561 - mean_squared_logarithmic_error: 1.3728 - val_loss: 1.3601 - val_mean_squared_logarithmic_error: 1.3227\n",
            "Epoch 9/150\n",
            "5/5 [==============================] - 0s 8ms/step - loss: 1.2534 - mean_squared_logarithmic_error: 1.2538 - val_loss: 1.2481 - val_mean_squared_logarithmic_error: 1.2161\n",
            "Epoch 10/150\n",
            "5/5 [==============================] - 0s 9ms/step - loss: 1.1500 - mean_squared_logarithmic_error: 1.1791 - val_loss: 1.1472 - val_mean_squared_logarithmic_error: 1.1190\n",
            "Epoch 11/150\n",
            "5/5 [==============================] - 0s 8ms/step - loss: 1.0559 - mean_squared_logarithmic_error: 1.0872 - val_loss: 1.0545 - val_mean_squared_logarithmic_error: 1.0291\n",
            "Epoch 12/150\n",
            "5/5 [==============================] - 0s 14ms/step - loss: 0.9641 - mean_squared_logarithmic_error: 1.0039 - val_loss: 0.9702 - val_mean_squared_logarithmic_error: 0.9460\n",
            "Epoch 13/150\n",
            "5/5 [==============================] - 0s 8ms/step - loss: 0.8955 - mean_squared_logarithmic_error: 0.8687 - val_loss: 0.8931 - val_mean_squared_logarithmic_error: 0.8699\n",
            "Epoch 14/150\n",
            "5/5 [==============================] - 0s 9ms/step - loss: 0.8287 - mean_squared_logarithmic_error: 0.8468 - val_loss: 0.8229 - val_mean_squared_logarithmic_error: 0.8001\n",
            "Epoch 15/150\n",
            "5/5 [==============================] - 0s 10ms/step - loss: 0.7705 - mean_squared_logarithmic_error: 0.7220 - val_loss: 0.7593 - val_mean_squared_logarithmic_error: 0.7370\n",
            "Epoch 16/150\n",
            "5/5 [==============================] - 0s 9ms/step - loss: 0.7081 - mean_squared_logarithmic_error: 0.7057 - val_loss: 0.7029 - val_mean_squared_logarithmic_error: 0.6813\n",
            "Epoch 17/150\n",
            "5/5 [==============================] - 0s 9ms/step - loss: 0.6392 - mean_squared_logarithmic_error: 0.6206 - val_loss: 0.6509 - val_mean_squared_logarithmic_error: 0.6302\n",
            "Epoch 18/150\n",
            "5/5 [==============================] - 0s 14ms/step - loss: 0.6094 - mean_squared_logarithmic_error: 0.6041 - val_loss: 0.6042 - val_mean_squared_logarithmic_error: 0.5844\n",
            "Epoch 19/150\n",
            "5/5 [==============================] - 0s 8ms/step - loss: 0.5603 - mean_squared_logarithmic_error: 0.5433 - val_loss: 0.5613 - val_mean_squared_logarithmic_error: 0.5423\n",
            "Epoch 20/150\n",
            "5/5 [==============================] - 0s 9ms/step - loss: 0.5201 - mean_squared_logarithmic_error: 0.5041 - val_loss: 0.5220 - val_mean_squared_logarithmic_error: 0.5034\n",
            "Epoch 21/150\n",
            "5/5 [==============================] - 0s 10ms/step - loss: 0.4840 - mean_squared_logarithmic_error: 0.4616 - val_loss: 0.4856 - val_mean_squared_logarithmic_error: 0.4667\n",
            "Epoch 22/150\n",
            "5/5 [==============================] - 0s 9ms/step - loss: 0.4570 - mean_squared_logarithmic_error: 0.4499 - val_loss: 0.4529 - val_mean_squared_logarithmic_error: 0.4335\n",
            "Epoch 23/150\n",
            "5/5 [==============================] - 0s 9ms/step - loss: 0.4139 - mean_squared_logarithmic_error: 0.4342 - val_loss: 0.4229 - val_mean_squared_logarithmic_error: 0.4033\n",
            "Epoch 24/150\n",
            "5/5 [==============================] - 0s 9ms/step - loss: 0.3924 - mean_squared_logarithmic_error: 0.3810 - val_loss: 0.3941 - val_mean_squared_logarithmic_error: 0.3746\n",
            "Epoch 25/150\n",
            "5/5 [==============================] - 0s 10ms/step - loss: 0.3630 - mean_squared_logarithmic_error: 0.3369 - val_loss: 0.3681 - val_mean_squared_logarithmic_error: 0.3488\n",
            "Epoch 26/150\n",
            "5/5 [==============================] - 0s 10ms/step - loss: 0.3476 - mean_squared_logarithmic_error: 0.3532 - val_loss: 0.3445 - val_mean_squared_logarithmic_error: 0.3257\n",
            "Epoch 27/150\n",
            "5/5 [==============================] - 0s 8ms/step - loss: 0.3247 - mean_squared_logarithmic_error: 0.3269 - val_loss: 0.3225 - val_mean_squared_logarithmic_error: 0.3043\n",
            "Epoch 28/150\n",
            "5/5 [==============================] - 0s 8ms/step - loss: 0.2951 - mean_squared_logarithmic_error: 0.2881 - val_loss: 0.3023 - val_mean_squared_logarithmic_error: 0.2848\n",
            "Epoch 29/150\n",
            "5/5 [==============================] - 0s 9ms/step - loss: 0.2818 - mean_squared_logarithmic_error: 0.2801 - val_loss: 0.2836 - val_mean_squared_logarithmic_error: 0.2668\n",
            "Epoch 30/150\n",
            "5/5 [==============================] - 0s 8ms/step - loss: 0.2572 - mean_squared_logarithmic_error: 0.2740 - val_loss: 0.2667 - val_mean_squared_logarithmic_error: 0.2506\n",
            "Epoch 31/150\n",
            "5/5 [==============================] - 0s 8ms/step - loss: 0.2499 - mean_squared_logarithmic_error: 0.2403 - val_loss: 0.2503 - val_mean_squared_logarithmic_error: 0.2351\n",
            "Epoch 32/150\n",
            "5/5 [==============================] - 0s 9ms/step - loss: 0.2349 - mean_squared_logarithmic_error: 0.2380 - val_loss: 0.2353 - val_mean_squared_logarithmic_error: 0.2208\n",
            "Epoch 33/150\n",
            "5/5 [==============================] - 0s 10ms/step - loss: 0.2211 - mean_squared_logarithmic_error: 0.2097 - val_loss: 0.2213 - val_mean_squared_logarithmic_error: 0.2077\n",
            "Epoch 34/150\n",
            "5/5 [==============================] - 0s 10ms/step - loss: 0.2110 - mean_squared_logarithmic_error: 0.2027 - val_loss: 0.2086 - val_mean_squared_logarithmic_error: 0.1958\n",
            "Epoch 35/150\n",
            "5/5 [==============================] - 0s 9ms/step - loss: 0.2011 - mean_squared_logarithmic_error: 0.2098 - val_loss: 0.1969 - val_mean_squared_logarithmic_error: 0.1851\n",
            "Epoch 36/150\n",
            "5/5 [==============================] - 0s 9ms/step - loss: 0.1877 - mean_squared_logarithmic_error: 0.1764 - val_loss: 0.1862 - val_mean_squared_logarithmic_error: 0.1751\n",
            "Epoch 37/150\n",
            "5/5 [==============================] - 0s 11ms/step - loss: 0.1722 - mean_squared_logarithmic_error: 0.1650 - val_loss: 0.1765 - val_mean_squared_logarithmic_error: 0.1661\n",
            "Epoch 38/150\n",
            "5/5 [==============================] - 0s 9ms/step - loss: 0.1621 - mean_squared_logarithmic_error: 0.1588 - val_loss: 0.1682 - val_mean_squared_logarithmic_error: 0.1583\n",
            "Epoch 39/150\n",
            "5/5 [==============================] - 0s 9ms/step - loss: 0.1554 - mean_squared_logarithmic_error: 0.1540 - val_loss: 0.1607 - val_mean_squared_logarithmic_error: 0.1515\n",
            "Epoch 40/150\n",
            "5/5 [==============================] - 0s 8ms/step - loss: 0.1484 - mean_squared_logarithmic_error: 0.1467 - val_loss: 0.1537 - val_mean_squared_logarithmic_error: 0.1449\n",
            "Epoch 41/150\n",
            "5/5 [==============================] - 0s 9ms/step - loss: 0.1444 - mean_squared_logarithmic_error: 0.1542 - val_loss: 0.1471 - val_mean_squared_logarithmic_error: 0.1385\n",
            "Epoch 42/150\n",
            "5/5 [==============================] - 0s 9ms/step - loss: 0.1453 - mean_squared_logarithmic_error: 0.1458 - val_loss: 0.1408 - val_mean_squared_logarithmic_error: 0.1324\n",
            "Epoch 43/150\n",
            "5/5 [==============================] - 0s 9ms/step - loss: 0.1443 - mean_squared_logarithmic_error: 0.1324 - val_loss: 0.1350 - val_mean_squared_logarithmic_error: 0.1268\n",
            "Epoch 44/150\n",
            "5/5 [==============================] - 0s 9ms/step - loss: 0.1337 - mean_squared_logarithmic_error: 0.1225 - val_loss: 0.1299 - val_mean_squared_logarithmic_error: 0.1221\n",
            "Epoch 45/150\n",
            "5/5 [==============================] - 0s 10ms/step - loss: 0.1276 - mean_squared_logarithmic_error: 0.1251 - val_loss: 0.1253 - val_mean_squared_logarithmic_error: 0.1182\n",
            "Epoch 46/150\n",
            "5/5 [==============================] - 0s 10ms/step - loss: 0.1228 - mean_squared_logarithmic_error: 0.1294 - val_loss: 0.1214 - val_mean_squared_logarithmic_error: 0.1151\n",
            "Epoch 47/150\n",
            "5/5 [==============================] - 0s 9ms/step - loss: 0.1173 - mean_squared_logarithmic_error: 0.1199 - val_loss: 0.1176 - val_mean_squared_logarithmic_error: 0.1116\n",
            "Epoch 48/150\n",
            "5/5 [==============================] - 0s 9ms/step - loss: 0.1109 - mean_squared_logarithmic_error: 0.1218 - val_loss: 0.1143 - val_mean_squared_logarithmic_error: 0.1086\n",
            "Epoch 49/150\n",
            "5/5 [==============================] - 0s 9ms/step - loss: 0.1125 - mean_squared_logarithmic_error: 0.1097 - val_loss: 0.1110 - val_mean_squared_logarithmic_error: 0.1056\n",
            "Epoch 50/150\n",
            "5/5 [==============================] - 0s 9ms/step - loss: 0.1074 - mean_squared_logarithmic_error: 0.1116 - val_loss: 0.1081 - val_mean_squared_logarithmic_error: 0.1030\n",
            "Epoch 51/150\n",
            "5/5 [==============================] - 0s 9ms/step - loss: 0.1104 - mean_squared_logarithmic_error: 0.1093 - val_loss: 0.1054 - val_mean_squared_logarithmic_error: 0.1007\n",
            "Epoch 52/150\n",
            "5/5 [==============================] - 0s 9ms/step - loss: 0.0984 - mean_squared_logarithmic_error: 0.0977 - val_loss: 0.1028 - val_mean_squared_logarithmic_error: 0.0985\n",
            "Epoch 53/150\n",
            "5/5 [==============================] - 0s 8ms/step - loss: 0.0970 - mean_squared_logarithmic_error: 0.0989 - val_loss: 0.1004 - val_mean_squared_logarithmic_error: 0.0964\n",
            "Epoch 54/150\n",
            "5/5 [==============================] - 0s 9ms/step - loss: 0.0949 - mean_squared_logarithmic_error: 0.0925 - val_loss: 0.0983 - val_mean_squared_logarithmic_error: 0.0945\n",
            "Epoch 55/150\n",
            "5/5 [==============================] - 0s 9ms/step - loss: 0.0972 - mean_squared_logarithmic_error: 0.0965 - val_loss: 0.0965 - val_mean_squared_logarithmic_error: 0.0929\n",
            "Epoch 56/150\n",
            "5/5 [==============================] - 0s 8ms/step - loss: 0.0918 - mean_squared_logarithmic_error: 0.0861 - val_loss: 0.0949 - val_mean_squared_logarithmic_error: 0.0916\n",
            "Epoch 57/150\n",
            "5/5 [==============================] - 0s 10ms/step - loss: 0.0900 - mean_squared_logarithmic_error: 0.0852 - val_loss: 0.0937 - val_mean_squared_logarithmic_error: 0.0905\n",
            "Epoch 58/150\n",
            "5/5 [==============================] - 0s 8ms/step - loss: 0.0911 - mean_squared_logarithmic_error: 0.0927 - val_loss: 0.0924 - val_mean_squared_logarithmic_error: 0.0895\n",
            "Epoch 59/150\n",
            "5/5 [==============================] - 0s 8ms/step - loss: 0.0892 - mean_squared_logarithmic_error: 0.0884 - val_loss: 0.0912 - val_mean_squared_logarithmic_error: 0.0884\n",
            "Epoch 60/150\n",
            "5/5 [==============================] - 0s 9ms/step - loss: 0.0902 - mean_squared_logarithmic_error: 0.0981 - val_loss: 0.0902 - val_mean_squared_logarithmic_error: 0.0875\n",
            "Epoch 61/150\n",
            "5/5 [==============================] - 0s 9ms/step - loss: 0.0861 - mean_squared_logarithmic_error: 0.0807 - val_loss: 0.0893 - val_mean_squared_logarithmic_error: 0.0866\n",
            "Epoch 62/150\n",
            "5/5 [==============================] - 0s 9ms/step - loss: 0.0880 - mean_squared_logarithmic_error: 0.0863 - val_loss: 0.0883 - val_mean_squared_logarithmic_error: 0.0857\n",
            "Epoch 63/150\n",
            "5/5 [==============================] - 0s 9ms/step - loss: 0.0802 - mean_squared_logarithmic_error: 0.0842 - val_loss: 0.0876 - val_mean_squared_logarithmic_error: 0.0851\n",
            "Epoch 64/150\n",
            "5/5 [==============================] - 0s 8ms/step - loss: 0.0835 - mean_squared_logarithmic_error: 0.0787 - val_loss: 0.0869 - val_mean_squared_logarithmic_error: 0.0845\n",
            "Epoch 65/150\n",
            "5/5 [==============================] - 0s 8ms/step - loss: 0.0832 - mean_squared_logarithmic_error: 0.0779 - val_loss: 0.0860 - val_mean_squared_logarithmic_error: 0.0838\n",
            "Epoch 66/150\n",
            "5/5 [==============================] - 0s 9ms/step - loss: 0.0843 - mean_squared_logarithmic_error: 0.0989 - val_loss: 0.0853 - val_mean_squared_logarithmic_error: 0.0832\n",
            "Epoch 67/150\n",
            "5/5 [==============================] - 0s 10ms/step - loss: 0.0808 - mean_squared_logarithmic_error: 0.0840 - val_loss: 0.0846 - val_mean_squared_logarithmic_error: 0.0825\n",
            "Epoch 68/150\n",
            "5/5 [==============================] - 0s 8ms/step - loss: 0.0832 - mean_squared_logarithmic_error: 0.0808 - val_loss: 0.0839 - val_mean_squared_logarithmic_error: 0.0819\n",
            "Epoch 69/150\n",
            "5/5 [==============================] - 0s 9ms/step - loss: 0.0833 - mean_squared_logarithmic_error: 0.0859 - val_loss: 0.0834 - val_mean_squared_logarithmic_error: 0.0815\n",
            "Epoch 70/150\n",
            "5/5 [==============================] - 0s 9ms/step - loss: 0.0817 - mean_squared_logarithmic_error: 0.0790 - val_loss: 0.0830 - val_mean_squared_logarithmic_error: 0.0812\n",
            "Epoch 71/150\n",
            "5/5 [==============================] - 0s 9ms/step - loss: 0.0819 - mean_squared_logarithmic_error: 0.0853 - val_loss: 0.0827 - val_mean_squared_logarithmic_error: 0.0809\n",
            "Epoch 72/150\n",
            "5/5 [==============================] - 0s 11ms/step - loss: 0.0807 - mean_squared_logarithmic_error: 0.0885 - val_loss: 0.0821 - val_mean_squared_logarithmic_error: 0.0803\n",
            "Epoch 73/150\n",
            "5/5 [==============================] - 0s 10ms/step - loss: 0.0792 - mean_squared_logarithmic_error: 0.0806 - val_loss: 0.0811 - val_mean_squared_logarithmic_error: 0.0793\n",
            "Epoch 74/150\n",
            "5/5 [==============================] - 0s 9ms/step - loss: 0.0785 - mean_squared_logarithmic_error: 0.0793 - val_loss: 0.0804 - val_mean_squared_logarithmic_error: 0.0787\n",
            "Epoch 75/150\n",
            "5/5 [==============================] - 0s 10ms/step - loss: 0.0791 - mean_squared_logarithmic_error: 0.0750 - val_loss: 0.0800 - val_mean_squared_logarithmic_error: 0.0783\n",
            "Epoch 76/150\n",
            "5/5 [==============================] - 0s 9ms/step - loss: 0.0800 - mean_squared_logarithmic_error: 0.0793 - val_loss: 0.0796 - val_mean_squared_logarithmic_error: 0.0780\n",
            "Epoch 77/150\n",
            "5/5 [==============================] - 0s 9ms/step - loss: 0.0769 - mean_squared_logarithmic_error: 0.0766 - val_loss: 0.0794 - val_mean_squared_logarithmic_error: 0.0777\n",
            "Epoch 78/150\n",
            "5/5 [==============================] - 0s 8ms/step - loss: 0.0768 - mean_squared_logarithmic_error: 0.0727 - val_loss: 0.0794 - val_mean_squared_logarithmic_error: 0.0774\n",
            "Epoch 79/150\n",
            "5/5 [==============================] - 0s 8ms/step - loss: 0.0786 - mean_squared_logarithmic_error: 0.0848 - val_loss: 0.0794 - val_mean_squared_logarithmic_error: 0.0773\n",
            "Epoch 80/150\n",
            "5/5 [==============================] - 0s 9ms/step - loss: 0.0796 - mean_squared_logarithmic_error: 0.0825 - val_loss: 0.0788 - val_mean_squared_logarithmic_error: 0.0770\n",
            "Epoch 81/150\n",
            "5/5 [==============================] - 0s 10ms/step - loss: 0.0759 - mean_squared_logarithmic_error: 0.0733 - val_loss: 0.0779 - val_mean_squared_logarithmic_error: 0.0761\n",
            "Epoch 82/150\n",
            "5/5 [==============================] - 0s 9ms/step - loss: 0.0766 - mean_squared_logarithmic_error: 0.0805 - val_loss: 0.0774 - val_mean_squared_logarithmic_error: 0.0756\n",
            "Epoch 83/150\n",
            "5/5 [==============================] - 0s 9ms/step - loss: 0.0743 - mean_squared_logarithmic_error: 0.0784 - val_loss: 0.0772 - val_mean_squared_logarithmic_error: 0.0753\n",
            "Epoch 84/150\n",
            "5/5 [==============================] - 0s 8ms/step - loss: 0.0722 - mean_squared_logarithmic_error: 0.0683 - val_loss: 0.0771 - val_mean_squared_logarithmic_error: 0.0751\n",
            "Epoch 85/150\n",
            "5/5 [==============================] - 0s 9ms/step - loss: 0.0748 - mean_squared_logarithmic_error: 0.0805 - val_loss: 0.0770 - val_mean_squared_logarithmic_error: 0.0750\n",
            "Epoch 86/150\n",
            "5/5 [==============================] - 0s 9ms/step - loss: 0.0708 - mean_squared_logarithmic_error: 0.0740 - val_loss: 0.0767 - val_mean_squared_logarithmic_error: 0.0744\n",
            "Epoch 87/150\n",
            "5/5 [==============================] - 0s 12ms/step - loss: 0.0794 - mean_squared_logarithmic_error: 0.0764 - val_loss: 0.0761 - val_mean_squared_logarithmic_error: 0.0738\n",
            "Epoch 88/150\n",
            "5/5 [==============================] - 0s 8ms/step - loss: 0.0717 - mean_squared_logarithmic_error: 0.0686 - val_loss: 0.0758 - val_mean_squared_logarithmic_error: 0.0735\n",
            "Epoch 89/150\n",
            "5/5 [==============================] - 0s 9ms/step - loss: 0.0739 - mean_squared_logarithmic_error: 0.0741 - val_loss: 0.0755 - val_mean_squared_logarithmic_error: 0.0732\n",
            "Epoch 90/150\n",
            "5/5 [==============================] - 0s 9ms/step - loss: 0.0728 - mean_squared_logarithmic_error: 0.0718 - val_loss: 0.0756 - val_mean_squared_logarithmic_error: 0.0732\n",
            "Epoch 91/150\n",
            "5/5 [==============================] - 0s 12ms/step - loss: 0.0735 - mean_squared_logarithmic_error: 0.0689 - val_loss: 0.0757 - val_mean_squared_logarithmic_error: 0.0731\n",
            "Epoch 92/150\n",
            "5/5 [==============================] - 0s 9ms/step - loss: 0.0716 - mean_squared_logarithmic_error: 0.0751 - val_loss: 0.0755 - val_mean_squared_logarithmic_error: 0.0728\n",
            "Epoch 93/150\n",
            "5/5 [==============================] - 0s 10ms/step - loss: 0.0745 - mean_squared_logarithmic_error: 0.0793 - val_loss: 0.0747 - val_mean_squared_logarithmic_error: 0.0722\n",
            "Epoch 94/150\n",
            "5/5 [==============================] - 0s 9ms/step - loss: 0.0749 - mean_squared_logarithmic_error: 0.0786 - val_loss: 0.0742 - val_mean_squared_logarithmic_error: 0.0718\n",
            "Epoch 95/150\n",
            "5/5 [==============================] - 0s 9ms/step - loss: 0.0761 - mean_squared_logarithmic_error: 0.0731 - val_loss: 0.0740 - val_mean_squared_logarithmic_error: 0.0717\n",
            "Epoch 96/150\n",
            "5/5 [==============================] - 0s 10ms/step - loss: 0.0728 - mean_squared_logarithmic_error: 0.0693 - val_loss: 0.0741 - val_mean_squared_logarithmic_error: 0.0718\n",
            "Epoch 97/150\n",
            "5/5 [==============================] - 0s 10ms/step - loss: 0.0715 - mean_squared_logarithmic_error: 0.0810 - val_loss: 0.0743 - val_mean_squared_logarithmic_error: 0.0717\n",
            "Epoch 98/150\n",
            "5/5 [==============================] - 0s 9ms/step - loss: 0.0672 - mean_squared_logarithmic_error: 0.0662 - val_loss: 0.0738 - val_mean_squared_logarithmic_error: 0.0711\n",
            "Epoch 99/150\n",
            "5/5 [==============================] - 0s 9ms/step - loss: 0.0697 - mean_squared_logarithmic_error: 0.0781 - val_loss: 0.0735 - val_mean_squared_logarithmic_error: 0.0709\n",
            "Epoch 100/150\n",
            "5/5 [==============================] - 0s 9ms/step - loss: 0.0686 - mean_squared_logarithmic_error: 0.0718 - val_loss: 0.0733 - val_mean_squared_logarithmic_error: 0.0706\n",
            "Epoch 101/150\n",
            "5/5 [==============================] - 0s 9ms/step - loss: 0.0687 - mean_squared_logarithmic_error: 0.0682 - val_loss: 0.0729 - val_mean_squared_logarithmic_error: 0.0702\n",
            "Epoch 102/150\n",
            "5/5 [==============================] - 0s 9ms/step - loss: 0.0719 - mean_squared_logarithmic_error: 0.0704 - val_loss: 0.0726 - val_mean_squared_logarithmic_error: 0.0698\n",
            "Epoch 103/150\n",
            "5/5 [==============================] - 0s 9ms/step - loss: 0.0702 - mean_squared_logarithmic_error: 0.0666 - val_loss: 0.0724 - val_mean_squared_logarithmic_error: 0.0694\n",
            "Epoch 104/150\n",
            "5/5 [==============================] - 0s 8ms/step - loss: 0.0697 - mean_squared_logarithmic_error: 0.0715 - val_loss: 0.0721 - val_mean_squared_logarithmic_error: 0.0689\n",
            "Epoch 105/150\n",
            "5/5 [==============================] - 0s 9ms/step - loss: 0.0698 - mean_squared_logarithmic_error: 0.0706 - val_loss: 0.0722 - val_mean_squared_logarithmic_error: 0.0688\n",
            "Epoch 106/150\n",
            "5/5 [==============================] - 0s 9ms/step - loss: 0.0719 - mean_squared_logarithmic_error: 0.0673 - val_loss: 0.0724 - val_mean_squared_logarithmic_error: 0.0687\n",
            "Epoch 107/150\n",
            "5/5 [==============================] - 0s 9ms/step - loss: 0.0704 - mean_squared_logarithmic_error: 0.0700 - val_loss: 0.0727 - val_mean_squared_logarithmic_error: 0.0688\n",
            "Epoch 108/150\n",
            "5/5 [==============================] - 0s 15ms/step - loss: 0.0731 - mean_squared_logarithmic_error: 0.0669 - val_loss: 0.0722 - val_mean_squared_logarithmic_error: 0.0683\n",
            "Epoch 109/150\n",
            "5/5 [==============================] - 0s 9ms/step - loss: 0.0706 - mean_squared_logarithmic_error: 0.0654 - val_loss: 0.0717 - val_mean_squared_logarithmic_error: 0.0679\n",
            "Epoch 110/150\n",
            "5/5 [==============================] - 0s 9ms/step - loss: 0.0691 - mean_squared_logarithmic_error: 0.0712 - val_loss: 0.0714 - val_mean_squared_logarithmic_error: 0.0676\n",
            "Epoch 111/150\n",
            "5/5 [==============================] - 0s 11ms/step - loss: 0.0654 - mean_squared_logarithmic_error: 0.0663 - val_loss: 0.0713 - val_mean_squared_logarithmic_error: 0.0674\n",
            "Epoch 112/150\n",
            "5/5 [==============================] - 0s 9ms/step - loss: 0.0718 - mean_squared_logarithmic_error: 0.0763 - val_loss: 0.0709 - val_mean_squared_logarithmic_error: 0.0669\n",
            "Epoch 113/150\n",
            "5/5 [==============================] - 0s 9ms/step - loss: 0.0674 - mean_squared_logarithmic_error: 0.0637 - val_loss: 0.0704 - val_mean_squared_logarithmic_error: 0.0663\n",
            "Epoch 114/150\n",
            "5/5 [==============================] - 0s 8ms/step - loss: 0.0716 - mean_squared_logarithmic_error: 0.0765 - val_loss: 0.0704 - val_mean_squared_logarithmic_error: 0.0660\n",
            "Epoch 115/150\n",
            "5/5 [==============================] - 0s 10ms/step - loss: 0.0693 - mean_squared_logarithmic_error: 0.0703 - val_loss: 0.0706 - val_mean_squared_logarithmic_error: 0.0662\n",
            "Epoch 116/150\n",
            "5/5 [==============================] - 0s 9ms/step - loss: 0.0673 - mean_squared_logarithmic_error: 0.0655 - val_loss: 0.0702 - val_mean_squared_logarithmic_error: 0.0658\n",
            "Epoch 117/150\n",
            "5/5 [==============================] - 0s 9ms/step - loss: 0.0652 - mean_squared_logarithmic_error: 0.0630 - val_loss: 0.0702 - val_mean_squared_logarithmic_error: 0.0658\n",
            "Epoch 118/150\n",
            "5/5 [==============================] - 0s 9ms/step - loss: 0.0737 - mean_squared_logarithmic_error: 0.0802 - val_loss: 0.0702 - val_mean_squared_logarithmic_error: 0.0655\n",
            "Epoch 119/150\n",
            "5/5 [==============================] - 0s 9ms/step - loss: 0.0699 - mean_squared_logarithmic_error: 0.0675 - val_loss: 0.0703 - val_mean_squared_logarithmic_error: 0.0656\n",
            "Epoch 120/150\n",
            "5/5 [==============================] - 0s 8ms/step - loss: 0.0695 - mean_squared_logarithmic_error: 0.0700 - val_loss: 0.0699 - val_mean_squared_logarithmic_error: 0.0653\n",
            "Epoch 121/150\n",
            "5/5 [==============================] - 0s 8ms/step - loss: 0.0662 - mean_squared_logarithmic_error: 0.0694 - val_loss: 0.0693 - val_mean_squared_logarithmic_error: 0.0642\n",
            "Epoch 122/150\n",
            "5/5 [==============================] - 0s 8ms/step - loss: 0.0673 - mean_squared_logarithmic_error: 0.0633 - val_loss: 0.0691 - val_mean_squared_logarithmic_error: 0.0641\n",
            "Epoch 123/150\n",
            "5/5 [==============================] - 0s 10ms/step - loss: 0.0710 - mean_squared_logarithmic_error: 0.0677 - val_loss: 0.0693 - val_mean_squared_logarithmic_error: 0.0647\n",
            "Epoch 124/150\n",
            "5/5 [==============================] - 0s 14ms/step - loss: 0.0693 - mean_squared_logarithmic_error: 0.0695 - val_loss: 0.0695 - val_mean_squared_logarithmic_error: 0.0648\n",
            "Epoch 125/150\n",
            "5/5 [==============================] - 0s 9ms/step - loss: 0.0702 - mean_squared_logarithmic_error: 0.0766 - val_loss: 0.0696 - val_mean_squared_logarithmic_error: 0.0648\n",
            "Epoch 126/150\n",
            "5/5 [==============================] - 0s 9ms/step - loss: 0.0642 - mean_squared_logarithmic_error: 0.0620 - val_loss: 0.0694 - val_mean_squared_logarithmic_error: 0.0646\n",
            "Epoch 127/150\n",
            "5/5 [==============================] - 0s 9ms/step - loss: 0.0701 - mean_squared_logarithmic_error: 0.0697 - val_loss: 0.0689 - val_mean_squared_logarithmic_error: 0.0640\n",
            "Epoch 128/150\n",
            "5/5 [==============================] - 0s 10ms/step - loss: 0.0650 - mean_squared_logarithmic_error: 0.0608 - val_loss: 0.0686 - val_mean_squared_logarithmic_error: 0.0634\n",
            "Epoch 129/150\n",
            "5/5 [==============================] - 0s 9ms/step - loss: 0.0672 - mean_squared_logarithmic_error: 0.0632 - val_loss: 0.0688 - val_mean_squared_logarithmic_error: 0.0635\n",
            "Epoch 130/150\n",
            "5/5 [==============================] - 0s 9ms/step - loss: 0.0650 - mean_squared_logarithmic_error: 0.0669 - val_loss: 0.0689 - val_mean_squared_logarithmic_error: 0.0633\n",
            "Epoch 131/150\n",
            "5/5 [==============================] - 0s 9ms/step - loss: 0.0645 - mean_squared_logarithmic_error: 0.0596 - val_loss: 0.0687 - val_mean_squared_logarithmic_error: 0.0628\n",
            "Epoch 132/150\n",
            "5/5 [==============================] - 0s 9ms/step - loss: 0.0692 - mean_squared_logarithmic_error: 0.0783 - val_loss: 0.0683 - val_mean_squared_logarithmic_error: 0.0620\n",
            "Epoch 133/150\n",
            "5/5 [==============================] - 0s 9ms/step - loss: 0.0636 - mean_squared_logarithmic_error: 0.0619 - val_loss: 0.0680 - val_mean_squared_logarithmic_error: 0.0620\n",
            "Epoch 134/150\n",
            "5/5 [==============================] - 0s 9ms/step - loss: 0.0641 - mean_squared_logarithmic_error: 0.0614 - val_loss: 0.0679 - val_mean_squared_logarithmic_error: 0.0621\n",
            "Epoch 135/150\n",
            "5/5 [==============================] - 0s 9ms/step - loss: 0.0662 - mean_squared_logarithmic_error: 0.0718 - val_loss: 0.0679 - val_mean_squared_logarithmic_error: 0.0620\n",
            "Epoch 136/150\n",
            "5/5 [==============================] - 0s 9ms/step - loss: 0.0673 - mean_squared_logarithmic_error: 0.0734 - val_loss: 0.0674 - val_mean_squared_logarithmic_error: 0.0613\n",
            "Epoch 137/150\n",
            "5/5 [==============================] - 0s 9ms/step - loss: 0.0645 - mean_squared_logarithmic_error: 0.0648 - val_loss: 0.0669 - val_mean_squared_logarithmic_error: 0.0606\n",
            "Epoch 138/150\n",
            "5/5 [==============================] - 0s 9ms/step - loss: 0.0652 - mean_squared_logarithmic_error: 0.0603 - val_loss: 0.0665 - val_mean_squared_logarithmic_error: 0.0601\n",
            "Epoch 139/150\n",
            "5/5 [==============================] - 0s 9ms/step - loss: 0.0659 - mean_squared_logarithmic_error: 0.0641 - val_loss: 0.0665 - val_mean_squared_logarithmic_error: 0.0600\n",
            "Epoch 140/150\n",
            "5/5 [==============================] - 0s 9ms/step - loss: 0.0639 - mean_squared_logarithmic_error: 0.0728 - val_loss: 0.0666 - val_mean_squared_logarithmic_error: 0.0601\n",
            "Epoch 141/150\n",
            "5/5 [==============================] - 0s 9ms/step - loss: 0.0636 - mean_squared_logarithmic_error: 0.0596 - val_loss: 0.0664 - val_mean_squared_logarithmic_error: 0.0599\n",
            "Epoch 142/150\n",
            "5/5 [==============================] - 0s 9ms/step - loss: 0.0648 - mean_squared_logarithmic_error: 0.0630 - val_loss: 0.0666 - val_mean_squared_logarithmic_error: 0.0604\n",
            "Epoch 143/150\n",
            "5/5 [==============================] - 0s 9ms/step - loss: 0.0664 - mean_squared_logarithmic_error: 0.0650 - val_loss: 0.0671 - val_mean_squared_logarithmic_error: 0.0612\n",
            "Epoch 144/150\n",
            "5/5 [==============================] - 0s 9ms/step - loss: 0.0648 - mean_squared_logarithmic_error: 0.0634 - val_loss: 0.0674 - val_mean_squared_logarithmic_error: 0.0614\n",
            "Epoch 145/150\n",
            "5/5 [==============================] - 0s 10ms/step - loss: 0.0603 - mean_squared_logarithmic_error: 0.0562 - val_loss: 0.0667 - val_mean_squared_logarithmic_error: 0.0605\n",
            "Epoch 146/150\n",
            "5/5 [==============================] - 0s 9ms/step - loss: 0.0669 - mean_squared_logarithmic_error: 0.0680 - val_loss: 0.0660 - val_mean_squared_logarithmic_error: 0.0589\n",
            "Epoch 147/150\n",
            "5/5 [==============================] - 0s 10ms/step - loss: 0.0628 - mean_squared_logarithmic_error: 0.0639 - val_loss: 0.0657 - val_mean_squared_logarithmic_error: 0.0583\n",
            "Epoch 148/150\n",
            "5/5 [==============================] - 0s 10ms/step - loss: 0.0641 - mean_squared_logarithmic_error: 0.0618 - val_loss: 0.0659 - val_mean_squared_logarithmic_error: 0.0581\n",
            "Epoch 149/150\n",
            "5/5 [==============================] - 0s 11ms/step - loss: 0.0645 - mean_squared_logarithmic_error: 0.0593 - val_loss: 0.0660 - val_mean_squared_logarithmic_error: 0.0583\n",
            "Epoch 150/150\n",
            "5/5 [==============================] - 0s 9ms/step - loss: 0.0683 - mean_squared_logarithmic_error: 0.0650 - val_loss: 0.0665 - val_mean_squared_logarithmic_error: 0.0593\n"
          ]
        }
      ]
    },
    {
      "cell_type": "code",
      "source": [
        "def plot_history(history, key):\n",
        "  plt.plot(history.history[key])\n",
        "  plt.plot(history.history['val_'+key])\n",
        "  plt.xlabel(\"Epochs\")\n",
        "  plt.ylabel(key)\n",
        "  plt.legend([key, 'val_'+key])\n",
        "  plt.show()\n",
        "# Plot the history\n",
        "plot_history(history, 'mean_squared_logarithmic_error')"
      ],
      "metadata": {
        "id": "Y091oDXZjx1l",
        "colab": {
          "base_uri": "https://localhost:8080/",
          "height": 279
        },
        "outputId": "b3d6b57a-56dc-4a16-e581-1518acc148a8"
      },
      "execution_count": null,
      "outputs": [
        {
          "output_type": "display_data",
          "data": {
            "text/plain": [
              "<Figure size 432x288 with 1 Axes>"
            ],
            "image/png": "[encoded data removed]"
          },
          "metadata": {
            "needs_background": "light"
          }
        }
      ]
    },
    {
      "cell_type": "code",
      "source": [
        "Y_pred = model.predict(X_test)"
      ],
      "metadata": {
        "id": "dr9bkDmHjyz0"
      },
      "execution_count": null,
      "outputs": []
    },
    {
      "cell_type": "code",
      "source": [
        "Y_pred = model.predict(X_test)\n",
        "from sklearn.metrics import mean_squared_error\n",
        "mse = mean_squared_error(y_test, Y_pred)\n",
        "rmse = math.sqrt(mse)\n",
        "print(rmse)\n",
        "from sklearn.metrics import r2_score\n",
        "r2 = r2_score(y_test, Y_pred)\n",
        "print(r2)\n",
        "mae = mean_absolute_error(y_test,Y_pred)\n",
        "print(mae)\n",
        "mape = mean_absolute_percentage_error(y_test, Y_pred)\n",
        "print(mape)"
      ],
      "metadata": {
        "id": "eA2bh9L1kTuN",
        "colab": {
          "base_uri": "https://localhost:8080/"
        },
        "outputId": "0fe9495c-382e-4c41-8d50-2553c9cb90fa"
      },
      "execution_count": null,
      "outputs": [
        {
          "output_type": "stream",
          "name": "stdout",
          "text": [
            "3.716073568074186\n",
            "0.8428618562067854\n",
            "1.890552046137055\n",
            "1.2705099109346432\n"
          ]
        }
      ]
    }
  ]
}